{
 "metadata": {
  "language_info": {
   "codemirror_mode": {
    "name": "ipython",
    "version": 3
   },
   "file_extension": ".py",
   "mimetype": "text/x-python",
   "name": "python",
   "nbconvert_exporter": "python",
   "pygments_lexer": "ipython3",
   "version": "3.8.5-final"
  },
  "orig_nbformat": 2,
  "kernelspec": {
   "name": "python_defaultSpec_1599034721508",
   "display_name": "Python 3.8.5 64-bit ('base': conda)"
  }
 },
 "nbformat": 4,
 "nbformat_minor": 2,
 "cells": [
  {
   "cell_type": "markdown",
   "metadata": {},
   "source": [
    "### 나도코딩 4번\n",
    "** 8. 클래스 **\n",
    "\n",
    "* 클래스\n",
    "\n",
    "* __ini__\n",
    "\n",
    "* 멤버변수\n",
    "\n",
    "* 메소드\n",
    "\n",
    "* 상속\n",
    "\n",
    "* 다중상속\n",
    "\n",
    "* 메소드 오버라이딩\n",
    "\n",
    "* pass\n",
    "\n",
    "* super\n",
    "\n",
    "* class 상속 순서"
   ]
  },
  {
   "cell_type": "markdown",
   "metadata": {},
   "source": [
    "### 8. 클래스"
   ]
  },
  {
   "cell_type": "markdown",
   "metadata": {},
   "source": [
    "* Class"
   ]
  },
  {
   "cell_type": "code",
   "execution_count": 7,
   "metadata": {
    "tags": []
   },
   "outputs": [
    {
     "output_type": "stream",
     "name": "stdout",
     "text": "마린 유닛이 생성 되었습니다.\n체력 40, 공격력 5 \n\n탱크 유닛이 생성 되었습니다.\n체력 150, 공격력 35 \n\n탱크 유닛이 생성 되었습니다.\n체력 150, 공격력 35 \n\n마린 : 1시 방향으로 적군을 공격합니다. [공격력 5]\n탱크 : 1시 방향으로 적군을 공격합니다. [공격력 35]\n탱크 : 1시 방향으로 적군을 공격합니다. [공격력 35]\n"
    }
   ],
   "source": [
    "# 힘든 예\n",
    "# 마린 : 공격 유닛, 군인, 사격\n",
    "name = \"마린\"\n",
    "hp = 40\n",
    "damage = 5\n",
    "\n",
    "print(\"{0} 유닛이 생성 되었습니다.\".format(name))\n",
    "print(\"체력 {0}, 공격력 {1} \\n\".format(hp, damage))\n",
    "\n",
    "# 탱크 : 공격 유닛, 탱크, 포 사격, 일반 모드/시즈 모드\n",
    "tank_name = \"탱크\"\n",
    "tank_hp = 150\n",
    "tank_damage = 35\n",
    "print(\"{0} 유닛이 생성 되었습니다.\".format(tank_name))\n",
    "print(\"체력 {0}, 공격력 {1} \\n\".format(tank_hp, tank_damage))\n",
    "\n",
    "tank2_name = \"탱크\"\n",
    "tank2_hp = 150\n",
    "tank2_damage = 35\n",
    "print(\"{0} 유닛이 생성 되었습니다.\".format(tank2_name))\n",
    "print(\"체력 {0}, 공격력 {1} \\n\".format(tank2_hp, tank2_damage))\n",
    "\n",
    "\n",
    "def attack(name, location, damage):\n",
    "    print(\"{0} : {1} 방향으로 적군을 공격합니다. [공격력 {2}]\".format(name, location, damage))\n",
    "\n",
    "attack(name, \"1시\", damage)\n",
    "attack(tank_name, \"1시\", tank_damage)\n",
    "attack(tank2_name, \"1시\", tank2_damage)\n",
    "\n",
    "# 힘들어! 비슷한 건 클래스들 끼리 묶어보자"
   ]
  },
  {
   "cell_type": "code",
   "execution_count": 13,
   "metadata": {
    "tags": []
   },
   "outputs": [
    {
     "output_type": "stream",
     "name": "stdout",
     "text": "마린 유닛이 생성 되었습니다.\n체력 40, 공격력 5\n\n마린 유닛이 생성 되었습니다.\n체력 40, 공격력 5\n\n탱크 유닛이 생성 되었습니다.\n체력 150, 공격력 35\n\n레이스 유닛이 생성 되었습니다.\n체력 80, 공격력 5\n\n유닛 이름 : 레이스, 공격력 : 5\n\n레이스 유닛이 생성 되었습니다.\n체력 80, 공격력 5\n\n레이스는 현재 클로킹 상태입니다.\n"
    }
   ],
   "source": [
    "# 클래스를 활용한 예\n",
    "# 일반 유닛\n",
    "class Unit:\n",
    "    def __init__(self, name, hp, damage):\n",
    "        # name, hp, damage는 멤버 변수, \".\"으로 접근할 수 있음\n",
    "        # __init__ : 객체 생성자\n",
    "        self.name = name\n",
    "        self.hp = hp\n",
    "        self.damage = damage\n",
    "\n",
    "        print(\"{0} 유닛이 생성 되었습니다.\".format(name))\n",
    "        print(\"체력 {0}, 공격력 {1}\".format(self.hp, self.damage))\n",
    "        print()\n",
    "\n",
    "marine1 = Unit(\"마린\", 40, 5)\n",
    "marine2 = Unit(\"마린\", 40, 5)\n",
    "tank = Unit(\"탱크\", 150, 35)\n",
    "\n",
    "# 레이스 : 공중 유닛, 비행기, 클로킹\n",
    "wraith1 = Unit(\"레이스\", 80, 5)\n",
    "print(\"유닛 이름 : {0}, 공격력 : {1}\\n\".format(wraith1.name, wraith1.damage))\n",
    "\n",
    "# 마인드 컨트롤\n",
    "wraith2 = Unit(\"레이스\", 80, 5)\n",
    "wraith2.clocking = True\n",
    "\n",
    "if wraith2.clocking == True:\n",
    "    print(\"{0}는 현재 클로킹 상태입니다.\".format(wraith2.name))"
   ]
  },
  {
   "cell_type": "code",
   "execution_count": 19,
   "metadata": {
    "tags": []
   },
   "outputs": [
    {
     "output_type": "stream",
     "name": "stdout",
     "text": "파이어뱃 : 5시 방향으로 적군을 공격합니다. [공격력 16]\n파이어뱃 : 20 데미지를 입었습니다.\n파이어뱃 : 현재 체력은 30입니다.\n파이어뱃 : 20 데미지를 입었습니다.\n파이어뱃 : 현재 체력은 10입니다.\n"
    }
   ],
   "source": [
    "# 공격 유닛\n",
    "class AttackUnit:\n",
    "    # class내에서의 method는 항상 self를 입력하고 간다\n",
    "    def __init__(self, name, hp, damage):\n",
    "        # name, hp, damage는 멤버 변수, \".\"으로 접근할 수 있음\n",
    "        # # __init__ : 객체 생성자 \n",
    "        self.name = name\n",
    "        self.hp = hp\n",
    "        self.damage = damage\n",
    "\n",
    "    def attack(self, location):\n",
    "        print(\"{0} : {1} 방향으로 적군을 공격합니다. [공격력 {2}]\".format(self.name, location, self.damage))\n",
    "\n",
    "    def damaged(self, damage):\n",
    "        print(\"{0} : {1} 데미지를 입었습니다.\".format(self.name, damage))\n",
    "        self.hp -= damage\n",
    "        print(\"{0} : 현재 체력은 {1}입니다.\".format(self.name, self.hp))\n",
    "        if self.hp <= 0:\n",
    "            print(\"{0} : 파괴되었습니다.\".format(self.name))\n",
    "\n",
    "# 파이어뱃 : 공격유닛, 화염방사기\n",
    "firebat1 = AttackUnit(\"파이어뱃\", 50, 16)\n",
    "firebat1.attack(\"5시\")\n",
    "\n",
    "# 공격 두 번 받는다고 가정\n",
    "firebat1.damaged(20)\n",
    "firebat1.damaged(20)"
   ]
  },
  {
   "cell_type": "markdown",
   "metadata": {},
   "source": [
    "* 상속"
   ]
  },
  {
   "cell_type": "code",
   "execution_count": 7,
   "metadata": {},
   "outputs": [],
   "source": [
    "# 일반 유닛\n",
    "class Unit:\n",
    "    def __init__(self, name, hp):\n",
    "        self.name = name\n",
    "        self.hp = hp\n",
    "\n",
    "# 공격 유닛\n",
    "class AttackUnit(Unit):\n",
    "    def __init__(self, name, hp, damage):\n",
    "        Unit.__init__(self, name, hp)\n",
    "        self.damage = damage\n",
    "\n",
    "    def attack(self, location):\n",
    "        print(\"{0} : {1} 방향으로 적군을 공격합니다. [공격력 {2}]\".format(self.name, location, self.damage))\n",
    "\n",
    "    def damaged(self, damage):\n",
    "        print(\"{0} : {1} 데미지를 입었습니다.\".format(self.name, damage))\n",
    "        self.hp -= damage\n",
    "        print(\"{0} : 현재 체력은 {1}입니다.\".format(self.name, self.hp))\n",
    "        if self.hp <=  0:\n",
    "            print(\"{0} : 파괴되었습니다.\".format(self.name))"
   ]
  },
  {
   "cell_type": "code",
   "execution_count": 8,
   "metadata": {
    "tags": []
   },
   "outputs": [
    {
     "output_type": "stream",
     "name": "stdout",
     "text": "파이어벳 : 5시 방향으로 적군을 공격합니다. [공격력 16]\n파이어벳 : 25 데미지를 입었습니다.\n파이어벳 : 현재 체력은 25입니다.\n파이어벳 : 25 데미지를 입었습니다.\n파이어벳 : 현재 체력은 0입니다.\n파이어벳 : 파괴되었습니다.\n"
    }
   ],
   "source": [
    "# 파이어백 : 공격 유닛, 화염방사기\n",
    "firebat1 = AttackUnit(\"파이어벳\", 50, 16)\n",
    "firebat1.attack(\"5시\")\n",
    "\n",
    "#공격 2번 받는다고 가정\n",
    "firebat1.damaged(25)\n",
    "firebat1.damaged(25)"
   ]
  },
  {
   "cell_type": "markdown",
   "metadata": {},
   "source": [
    "* 다중상속"
   ]
  },
  {
   "cell_type": "code",
   "execution_count": 14,
   "metadata": {
    "tags": []
   },
   "outputs": [
    {
     "output_type": "stream",
     "name": "stdout",
     "text": "발키리 : 3시 방향으로 날아갑니다. [속도 5]\n드랍쉽 : 1시 방향으로 날아갑니다. [속도 20]\n"
    }
   ],
   "source": [
    "# 일반 유닛\n",
    "class Unit:\n",
    "    def __init__(self, name, hp, speed):\n",
    "        # __init__ : 객체 생성자 \n",
    "        self.name = name\n",
    "        self.hp = hp\n",
    "        self.speed = speed\n",
    "    def move(self, location):\n",
    "        print(\"[지상 유닛 이동]\")\n",
    "        print(\"{0} : {1} 방향으로 이동합니다. [속도 {2}]\".format(self.name, location, self.speed))\n",
    "\n",
    "# 공격 유닛\n",
    "class AttackUnit(Unit):\n",
    "    def __init__(self, name, hp, speed, damage):\n",
    "        Unit.__init__(self, name, hp, speed)\n",
    "        self.damage = damage\n",
    "    \n",
    "    def attack(self, location):\n",
    "        print(\"{0} : {1} 방향으로 적군을 공격합니다. [공격력 {2}]\".format(self.name, location, self.damage))\n",
    "\n",
    "    def damaged(self, damage):\n",
    "        print(\"{0} : {1} 데미지를 입었습니다.\".format(self.name, damage))\n",
    "        self.hp -= damage\n",
    "        print(\"{0} : 현재 체력은 {1}입니다.\".format(self.name, self.hp))\n",
    "        if self.hp <= 0:\n",
    "            print(\"{0} : 파괴되었습니다.\".format(self.name))\n",
    "\n",
    "    def damaged(self, damage):\n",
    "        print(\"{0} : {1} 데미지를 입었습니다.\".format(self.name, damage))\n",
    "        self.hp -= damage\n",
    "        print(\"{0} : 현재 체력은 {1}입니다.\".format(self.name, self.hp))\n",
    "        if self.hp <= 0:\n",
    "            print(\"{0} : 파괴되었습니다.\".format(self.name))\n",
    "\n",
    "# 공중 유닛\n",
    "class Flyable:\n",
    "    def __init__(self, flying_speed):\n",
    "        self.flying_speed = flying_speed\n",
    "\n",
    "    def fly(self, name, location):\n",
    "        print(\"{0} : {1} 방향으로 날아갑니다. [속도 {2}]\".format(name, location, self.flying_speed))\n",
    "\n",
    "# 공중 공격 유닛 클래스\n",
    "class FlyableAttackUnit(AttackUnit, Flyable):\n",
    "    def __init__(self, name, hp, damage, flying_speed):\n",
    "        AttackUnit.__init__(self, name, hp, 0, damage)\n",
    "        # 공중 유닛의 지상 speed는 0으로 처리한 것\n",
    "        Flyable.__init__(self, flying_speed)\n",
    "\n",
    "    def move(self, location):\n",
    "        print(\"[공중 유닛 이동]\")\n",
    "        self.fly(self.name, location)\n",
    "\n",
    "# 발키리 유닛, 한번에 14발 발사하는 유닛\n",
    "valkyrie = FlyableAttackUnit(\"발키리\", 200, 6, 5)\n",
    "valkyrie.fly(valkyrie.name, \"3시\")\n",
    "\n",
    "# 드랍쉽, 수송선\n",
    "dropship = FlyableAttackUnit(\"드랍쉽\", 100, 0, 20)\n",
    "dropship.fly(dropship.name, \"1시\")"
   ]
  },
  {
   "cell_type": "markdown",
   "metadata": {},
   "source": [
    "* 연산자 오버로딩\n",
    "\n",
    "        부모 클래스에서 정의한 매소드 말고\n",
    "        자식 클래스에서 정의한 매소드를 쓰고 싶을때\n",
    "        매소드를 새로 정의해서 사용하는데\n",
    "        이를 오버로딩이라고 한다."
   ]
  },
  {
   "cell_type": "code",
   "execution_count": 19,
   "metadata": {
    "tags": []
   },
   "outputs": [
    {
     "output_type": "stream",
     "name": "stdout",
     "text": "[지상 유닛 이동]\n벌쳐 : 11시 방향으로 이동합니다. [속도 10]\n배틀크루저 : 9시 방향으로 날아갑니다. [속도 3]\n[공중 유닛 이동]\n배틀크루저 : 9시 방향으로 날아갑니다. [속도 3]\n"
    }
   ],
   "source": [
    "# 벌쳐 : 지상 유닛, 기동성 좋음\n",
    "vulture = AttackUnit(\"벌쳐\", 80, 10, 20)\n",
    "\n",
    "# 배틀크루저 : 공중 유닛, 체력도 굉장히 좋음, 공격력 좋음\n",
    "battlecruiser = FlyableAttackUnit(\"배틀크루저\", 500, 25, 3)\n",
    "\n",
    "vulture.move(\"11시\")\n",
    "battlecruiser.fly(battlecruiser.name, \"9시\")\n",
    "# 똑같이 움직이는데 공중 유닛인지 아닌지 파악해서 움직이는게 귀찮음. 그래서 오버로딩해서 fly말고 move만 써도 되게끔!\n",
    "''' # 이 부분을 Flyable Attack Unit클래스에 추가하여 아래와 같이 만듦\n",
    "    def move(self, location):\n",
    "    print(\"[공중 유닛 이동]\")\n",
    "    self.fly(self.name, location)\n",
    "''' \n",
    "battlecruiser.move(\"9시\")"
   ]
  },
  {
   "cell_type": "markdown",
   "metadata": {},
   "source": [
    "* pass"
   ]
  },
  {
   "cell_type": "code",
   "execution_count": 20,
   "metadata": {},
   "outputs": [],
   "source": [
    "# 건물에 빗댔을때 기둥부터 만드는 느낌\n",
    "# Starcraft\n",
    "class buildingUnit(Unit):\n",
    "    def __init__(self, name, hp, location):\n",
    "        pass # 일단은 완성된 걸로 치고 넘어가자! 는 뜻\n",
    "\n",
    "# 서플라이 디폿\n",
    "supply_depot = buildingUnit(\"서플라이 디폿\", 500, \"7시\")"
   ]
  },
  {
   "cell_type": "code",
   "execution_count": 21,
   "metadata": {
    "tags": []
   },
   "outputs": [
    {
     "output_type": "stream",
     "name": "stdout",
     "text": "[알림] 새로운 게임을 시작합니다.\n"
    }
   ],
   "source": [
    "# 게임 시작과 종료\n",
    "def game_start():\n",
    "    print(\"[알림] 새로운 게임을 시작합니다.\")\n",
    "\n",
    "def game_over():\n",
    "    pass\n",
    "\n",
    "game_start()\n",
    "game_over()"
   ]
  },
  {
   "cell_type": "markdown",
   "metadata": {},
   "source": [
    "* super"
   ]
  },
  {
   "cell_type": "code",
   "execution_count": null,
   "metadata": {},
   "outputs": [],
   "source": [
    "# 건물\n",
    "class buildingUnit(Unit):\n",
    "    def __init__(self, name, hp, location):\n",
    "        # 1) 원래 방법\n",
    "        # Unit.__init__(self, name, hp, 0)\n",
    "        \n",
    "        # 2) super를 통해 초기화할때는 self정보를 넘겨주지 않아야 함\n",
    "        super().__init__(name, hp, 0)\n",
    "        self.location = location"
   ]
  },
  {
   "cell_type": "markdown",
   "metadata": {},
   "source": [
    "* class 상속 순서\n",
    "\n",
    "        1) 1번과 2번처럼 순서에 따라 상속 결과가 다르다\n",
    "\n",
    "        2) 따라서 Super보다는 둘 다 각각의 부모 클래스를 거쳐 오는 것이 좋다.\n",
    "    "
   ]
  },
  {
   "cell_type": "code",
   "execution_count": 57,
   "metadata": {},
   "outputs": [],
   "source": [
    "class Unit:\n",
    "    def __init__(self):\n",
    "        print(\"Unit 생성자\")\n",
    "\n",
    "class Flyable:\n",
    "    def __init__(self):\n",
    "        print(\"Flyable 생성자\")"
   ]
  },
  {
   "cell_type": "code",
   "execution_count": 58,
   "metadata": {},
   "outputs": [],
   "source": [
    "# 1) Unit \n",
    "class FlyableUnit(Unit, Flyable):\n",
    "    def __init__(self):\n",
    "        # 1-1)\n",
    "        super().__init__()"
   ]
  },
  {
   "cell_type": "code",
   "execution_count": 59,
   "metadata": {
    "tags": []
   },
   "outputs": [
    {
     "output_type": "stream",
     "name": "stdout",
     "text": "Unit 생성자\n"
    }
   ],
   "source": [
    "dropship = FlyableUnit()"
   ]
  },
  {
   "cell_type": "code",
   "execution_count": 60,
   "metadata": {},
   "outputs": [],
   "source": [
    "# 1) Unit \n",
    "class FlyableUnit(Unit, Flyable):\n",
    "    def __init__(self):\n",
    "        # 1-2)\n",
    "        Unit.__init__(self)\n",
    "        Flyable.__init__(self)"
   ]
  },
  {
   "cell_type": "code",
   "execution_count": 61,
   "metadata": {
    "tags": []
   },
   "outputs": [
    {
     "output_type": "stream",
     "name": "stdout",
     "text": "Unit 생성자\nFlyable 생성자\n"
    }
   ],
   "source": [
    "dropship = FlyableUnit()"
   ]
  },
  {
   "cell_type": "code",
   "execution_count": 62,
   "metadata": {},
   "outputs": [],
   "source": [
    "# 2)  Flyable 先\n",
    "class FlyableUnit(Flyable, Unit):\n",
    "    def __init__(self):\n",
    "        # 2-1)\n",
    "        super().__init__()"
   ]
  },
  {
   "cell_type": "code",
   "execution_count": 63,
   "metadata": {
    "tags": []
   },
   "outputs": [
    {
     "output_type": "stream",
     "name": "stdout",
     "text": "Flyable 생성자\n"
    }
   ],
   "source": [
    "# 드랍쉽\n",
    "dropship = FlyableUnit()"
   ]
  },
  {
   "cell_type": "code",
   "execution_count": 64,
   "metadata": {},
   "outputs": [],
   "source": [
    "# 1) Unit \n",
    "class FlyableUnit(Flyable, Unit):\n",
    "    def __init__(self):\n",
    "        # 2-2)\n",
    "        Unit.__init__(self)\n",
    "        Flyable.__init__(self)"
   ]
  },
  {
   "cell_type": "code",
   "execution_count": 65,
   "metadata": {
    "tags": []
   },
   "outputs": [
    {
     "output_type": "stream",
     "name": "stdout",
     "text": "Unit 생성자\nFlyable 생성자\n"
    }
   ],
   "source": [
    "# 드랍쉽\n",
    "dropship = FlyableUnit()"
   ]
  },
  {
   "cell_type": "code",
   "execution_count": null,
   "metadata": {},
   "outputs": [],
   "source": []
  }
 ]
}