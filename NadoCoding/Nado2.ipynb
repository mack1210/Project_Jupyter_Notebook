{
 "metadata": {
  "language_info": {
   "codemirror_mode": {
    "name": "ipython",
    "version": 3
   },
   "file_extension": ".py",
   "mimetype": "text/x-python",
   "name": "python",
   "nbconvert_exporter": "python",
   "pygments_lexer": "ipython3",
   "version": "3.8.5-final"
  },
  "orig_nbformat": 2,
  "kernelspec": {
   "name": "python_defaultSpec_1598603146583",
   "display_name": "Python 3.8.5 64-bit"
  }
 },
 "nbformat": 4,
 "nbformat_minor": 2,
 "cells": [
  {
   "cell_type": "markdown",
   "metadata": {},
   "source": [
    "### 나도코딩 2번\n",
    "** 4. 리스트 **\n",
    "\n",
    "* 리스트\n",
    "\n",
    "* 사전\n",
    "\n",
    "* 튜플\n",
    "\n",
    "* 세트\n",
    "\n",
    "* 자료구조의 변경\n",
    "\n",
    "* Quiz 4\n",
    "\n",
    "\n",
    "** 5. 조건문과 반복문 **\n",
    "\n",
    "* if\n",
    "\n",
    "* for\n",
    "\n",
    "* while\n",
    "\n",
    "* continue & break\n",
    "\n",
    "* 한 줄 for문\n",
    "\n",
    "* Quiz 5\n",
    "\n"
   ]
  },
  {
   "cell_type": "markdown",
   "metadata": {},
   "source": [
    "### 4. 리스트"
   ]
  },
  {
   "cell_type": "markdown",
   "metadata": {},
   "source": [
    "* 리스트"
   ]
  },
  {
   "cell_type": "code",
   "execution_count": null,
   "metadata": {
    "tags": []
   },
   "outputs": [],
   "source": [
    "subway = [10, 20, 30]\n",
    "\n",
    "subway = [\"유재석\", \"조세호\", \"박명수\"]\n",
    "#조세호씨가 몇 번째 칸에 타고 있는가\n",
    "print(subway.index(\"조세호\")+1, \"번째 칸에 타고 있어요.\")\n",
    "\n",
    "#하하가 탄다.\n",
    "subway.append(\"하하\")\n",
    "print(subway)\n",
    "\n",
    "#정형돈을 유재석과 조세호 사이에\n",
    "subway.insert(1, \"정형돈\")\n",
    "print(subway)\n",
    "\n",
    "#한명씩 뒤에서 꺼낸다.\n",
    "subway.pop()\n",
    "print(subway)\n",
    "\n",
    "#같은 이름의 사람이 몇 명 있는가\n",
    "subway.append(\"유재석\")\n",
    "print(subway.count(\"유재석\"))\n",
    "print(subway)"
   ]
  },
  {
   "cell_type": "code",
   "execution_count": null,
   "metadata": {
    "tags": []
   },
   "outputs": [],
   "source": [
    "# 정렬\n",
    "import random\n",
    "num_list = random.sample(range(1,11), 5)\n",
    "print(num_list)\n",
    "\n",
    "num_list.sort() # Ascending\n",
    "print(num_list)\n",
    "num_list.reverse() # Descending\n",
    "print(num_list)\n",
    "num_list.clear() # Clear the list\n",
    "print(num_list)"
   ]
  },
  {
   "cell_type": "code",
   "execution_count": null,
   "metadata": {
    "tags": []
   },
   "outputs": [],
   "source": [
    "# 다양한 자료형과 함께 사용\n",
    "num_list = random.sample(range(1,11), 5)\n",
    "mix_list = [\"조세호\", 20, True]\n",
    "print(mix_list)"
   ]
  },
  {
   "cell_type": "code",
   "execution_count": null,
   "metadata": {
    "tags": []
   },
   "outputs": [],
   "source": [
    "# List 확장\n",
    "num_list.extend(mix_list)\n",
    "print(num_list)"
   ]
  },
  {
   "cell_type": "markdown",
   "metadata": {},
   "source": [
    "* 사전"
   ]
  },
  {
   "cell_type": "code",
   "execution_count": null,
   "metadata": {
    "tags": []
   },
   "outputs": [],
   "source": [
    "cabinet = {3: \"유재석\", 100: \"김태호\"} #key는 3, data는 유재석\n",
    "print(cabinet[100])\n",
    "print(cabinet.get(3))\n",
    "# print(cabinet[1]) # 실행이 안되고 밑에까지 진행이 되지 않는다.\n",
    "print(\"HI\")\n",
    "\n",
    "print(cabinet.get(1)) # 실행이 되고 값은 None이다. 그리고 밑에까지 진행이 된다.\n",
    "print(\"HI\")\n",
    "\n",
    "print(cabinet.get(1, \"not occupied\")) # default 값을 지정해 줄 수 있다.\n",
    "\n",
    "# 존재여부 확인\n",
    "print(3 in cabinet)\n",
    "print(1 in cabinet)"
   ]
  },
  {
   "cell_type": "code",
   "execution_count": null,
   "metadata": {
    "tags": []
   },
   "outputs": [],
   "source": [
    "# 응용\n",
    "# 목욕탕 영업 중\n",
    "cabinet = {\"A-3\": \"유재석\", \"B-100\": \"김태호\"}\n",
    "print(cabinet)\n",
    "\n",
    "# 새 손님\n",
    "cabinet[\"A-3\"] = \"김종국\"\n",
    "cabinet[\"C-20\"] = \"조세호\"\n",
    "print(cabinet)\n",
    "\n",
    "# 손님 퇴장\n",
    "del cabinet[\"A-3\"]\n",
    "print(cabinet)\n",
    "\n",
    "# keys 출력\n",
    "print(cabinet.keys())\n",
    "# values 출력\n",
    "print(cabinet.values())\n",
    "# key, values 쌍으로 출력\n",
    "print(cabinet.items())\n",
    "\n",
    "# 목욕탕 폐점\n",
    "cabinet.clear()\n",
    "print(cabinet)"
   ]
  },
  {
   "cell_type": "markdown",
   "metadata": {},
   "source": [
    "* 튜플\n",
    "\n",
    "        리스트와 다르게 내용 변경과 추가가 되지 않는다.\n",
    "    \n",
    "        리스트보다 빠르다."
   ]
  },
  {
   "cell_type": "code",
   "execution_count": null,
   "metadata": {},
   "outputs": [],
   "source": [
    "menu = (\"돈까스\", \"치즈까스\")\n",
    "menu.add(\"생선까스\") # 추가가 불가함을 알 수 있다."
   ]
  },
  {
   "cell_type": "code",
   "execution_count": null,
   "metadata": {
    "tags": []
   },
   "outputs": [],
   "source": [
    "# 변수 선언의 방법\n",
    "# 1) \n",
    "name = \"김종국\"\n",
    "age = 20\n",
    "hobby = \"코딩\"\n",
    "print(name, age, hobby)\n",
    "\n",
    "# 2) \n",
    "(name, age, hobby) = (\"유재석\", 30, \"운동\")\n",
    "print(name, age, hobby)"
   ]
  },
  {
   "cell_type": "markdown",
   "metadata": {},
   "source": [
    "* 세트\n",
    "\n",
    "        중복이 되지 않는다.\n",
    "\n",
    "        순서가 없다."
   ]
  },
  {
   "cell_type": "code",
   "execution_count": null,
   "metadata": {
    "tags": []
   },
   "outputs": [],
   "source": [
    "my_set = {1,2,3,4,5}\n",
    "print(my_set)\n",
    "\n",
    "# 각 언어를 활용할 수 있는 사람\n",
    "Java = {\"유재석\", \"김태호\", \"양세형\"}\n",
    "print(\"Java\")\n",
    "_set = {1,2,3,4,5}\n",
    "print(my_set)\n",
    "\n",
    "# 각 언어를 활용할 수 있는 사람\n",
    "Java = {\"유재석\", \"김태호\", \"양세형\"}\n",
    "print(Java)\n",
    "python = set([\"유재석\", \"박명수\", \"박명수\"])\n",
    "print(python)"
   ]
  },
  {
   "cell_type": "code",
   "execution_count": null,
   "metadata": {
    "tags": []
   },
   "outputs": [],
   "source": [
    "# 교집합 (java와 python을 모두 할 수 있는 개발자)\n",
    "print(Java & python)\n",
    "print(Java.intersection(python))"
   ]
  },
  {
   "cell_type": "code",
   "execution_count": null,
   "metadata": {
    "tags": []
   },
   "outputs": [],
   "source": [
    "# 합집합 (자바 또는 파이썬을 할 수 있는 사람들)\n",
    "print(Java | python)\n",
    "print(Java.union(python))"
   ]
  },
  {
   "cell_type": "code",
   "execution_count": null,
   "metadata": {
    "tags": []
   },
   "outputs": [],
   "source": [
    "# 차집합 (자바는 가능하고 파이썬은 불가능한 사람들)\n",
    "print(Java - python)\n",
    "print(Java.difference(python))"
   ]
  },
  {
   "cell_type": "code",
   "execution_count": null,
   "metadata": {
    "tags": []
   },
   "outputs": [],
   "source": [
    "# Python을 할 줄 아는 사람이 늘어남\n",
    "python.add(\"김태호\")\n",
    "print(python)"
   ]
  },
  {
   "cell_type": "code",
   "execution_count": null,
   "metadata": {
    "tags": []
   },
   "outputs": [],
   "source": [
    "# Java를 까먹음\n",
    "Java.remove(\"김태호\")\n",
    "print(Java)\n"
   ]
  },
  {
   "cell_type": "markdown",
   "metadata": {},
   "source": [
    "* 자료구조의 변경\n",
    "\n",
    "        set to list\n",
    "        \n",
    "        list to tuple"
   ]
  },
  {
   "cell_type": "code",
   "execution_count": null,
   "metadata": {
    "tags": []
   },
   "outputs": [],
   "source": [
    "# set : {}\n",
    "# list : []\n",
    "# tuple : ()\n",
    "\n",
    "# 커피숍의 메뉴를 Set로 정의\n",
    "menu = {\"커피\", \"우유\", \"주스\"}\n",
    "print(menu, type(menu))\n",
    "\n",
    "# 커피숍의 메뉴를 set to list\n",
    "menu = list(menu)\n",
    "print(menu, type(menu))\n",
    "\n",
    "# 커피숍의 메뉴를 list to tuple\n",
    "menu = tuple(menu)\n",
    "print(menu,type(menu))"
   ]
  },
  {
   "cell_type": "code",
   "execution_count": null,
   "metadata": {
    "tags": []
   },
   "outputs": [],
   "source": [
    "'''\n",
    "Quiz 4\n",
    "참석률 높이기위해 댓글 작성자 들 중 추첨을 통해 1명은 치킨, 3명은 커피 쿠폰을 준다.\n",
    "추첨 프로그램을 작성하시오.\n",
    "\n",
    "조건1 : 편의상 댓글은 20명이 작성하였고 아이디는 1~20 이라고 가정\n",
    "조건2 : 댓글 내용과 상관 없이 무작위로 추첨하되 중복 불가\n",
    "조건3 : random 모듈의 shuffle과 sample을 활용\n",
    "\n",
    "(출력 예제)\n",
    "-- 당첨자 발표 --\n",
    "치킨 당첨자 : 1\n",
    "커피 당첨자 : [2, 3, 4]\n",
    "-- 축하합니다 --\n",
    "\n",
    "(활용 예제)\n",
    "from random import *\n",
    "lst = [1,2,3,4,5]\n",
    "print(lst)\n",
    "shuffle(lst)\n",
    "print(lst)\n",
    "print(sample(lst, 1))\n",
    "'''\n",
    "import random\n",
    "\n",
    "candidates = list(range(1, 21))\n",
    "winners = sample(candidates, 4)\n",
    "print(candidates)\n",
    "print(winners)\n",
    "print(\"-- 담첨자 발표 --\")\n",
    "print(\"치킨 당첨자 : {}\".format(winners[0]))\n",
    "print(\"커피 당첨자 : {}\".format(winners[1:]))\n",
    "print(\"-- 축하합니다 --\")"
   ]
  },
  {
   "cell_type": "markdown",
   "metadata": {},
   "source": [
    "### 조건문과 반복문"
   ]
  },
  {
   "cell_type": "markdown",
   "metadata": {},
   "source": [
    "* if문"
   ]
  },
  {
   "cell_type": "code",
   "execution_count": null,
   "metadata": {
    "tags": []
   },
   "outputs": [],
   "source": [
    "# 비가 오면 우산을 챙기라고 하자\n",
    "weather = input(\"청주 날씨는 어때요? \")\n",
    "if weather == \"미세먼지\":\n",
    "    print(\"마스크 챙기세요.\")\n",
    "elif weather == \"비\" or weather == \"눈\":\n",
    "    print(\"우산 챙기세요.\")\n",
    "else:\n",
    "    print(\"준비물 필요 없어요.\")\n",
    "\n",
    "# 더우면 집에서 쉬라고 하자\n",
    "temp = int(input(\"기온은 어때요? \"))\n",
    "\n",
    "if temp >= 30:\n",
    "    print(\"너무 더워요!\")\n",
    "elif 10 <= temp <30:\n",
    "    print(\"Good!\")\n",
    "else:\n",
    "    print(\"추워요 외투!\")"
   ]
  },
  {
   "cell_type": "markdown",
   "metadata": {},
   "source": [
    "* for loop"
   ]
  },
  {
   "cell_type": "code",
   "execution_count": null,
   "metadata": {
    "tags": []
   },
   "outputs": [],
   "source": [
    "# 은행에 대기중, 대기번호 5번까지 뽑아 주자.\n",
    "for i in range(1, 6):\n",
    "    print(\"대기번호 {0}번\".format(i))"
   ]
  },
  {
   "cell_type": "code",
   "execution_count": null,
   "metadata": {
    "tags": []
   },
   "outputs": [],
   "source": [
    "# 스타벅스 고객들에게 커피를 가져가라고 해주자.\n",
    "starbucks = [\"앤트맨\", \"강호동\", \"토르\"]\n",
    "for i in starbucks:\n",
    "    print(\"{0} 고객님! 커피 드리겠습니다!\".format(i))"
   ]
  },
  {
   "cell_type": "markdown",
   "metadata": {},
   "source": [
    "* while"
   ]
  },
  {
   "cell_type": "code",
   "execution_count": null,
   "metadata": {
    "tags": []
   },
   "outputs": [],
   "source": [
    "#토르가 응답하지 않으면 커피를 버린다.\n",
    "customer = \"토르\"\n",
    "index = 5\n",
    "while index >= 1:\n",
    "    print(\"{0}, 커피가 준비되었다. {1}번 더 부르고 버리겠다.\".format(customer, index))\n",
    "    index -=  1\n",
    "    if index == 0:\n",
    "        print(\"커피는 폐기 처분 되었다.\")"
   ]
  },
  {
   "cell_type": "code",
   "execution_count": null,
   "metadata": {
    "tags": []
   },
   "outputs": [],
   "source": [
    "# 호출을 하다가 이름을 물어보고 주문자가 맞으면 호출 중지\n",
    "customer = \"토르\"\n",
    "orderby = \"\"\n",
    "while customer != orderby:\n",
    "    print(\"{0}, 커피가 준비 되었습니다.\".format(customer))\n",
    "    orderby = input(\"성함이 어떻게 되세요?\")\n",
    "    print(orderby)\n"
   ]
  },
  {
   "cell_type": "markdown",
   "metadata": {},
   "source": [
    "* continue & break"
   ]
  },
  {
   "cell_type": "code",
   "execution_count": null,
   "metadata": {
    "tags": []
   },
   "outputs": [],
   "source": [
    "# 결석한 학생과 책을 두고 온 학생을 설정\n",
    "# 1번부터 10번까지 책을 읽히고 책을 가져오지 않은 학생이 나오면 즉시 수업 종료\n",
    "# 내 풀이\n",
    "student = set(range(1, 11))\n",
    "absent = set(sample(student, 2))\n",
    "good_student = student.difference(absent)\n",
    "nobook = set(sample(good_student, 1))\n",
    "good_student = good_student.difference(nobook)\n",
    "print(student)\n",
    "print(good_student)\n",
    "print(nobook)\n",
    "print(absent)\n",
    "\n",
    "for i in range(1, 11):\n",
    "    if i in absent:\n",
    "       print(\"{0}번 결석이야? 다음 사람이 읽어볼까?\".format(i))\n",
    "       continue\n",
    "    elif i in nobook:\n",
    "        print(\"{0}번! 책 안가져 왔어? 수업 끝내자\".format(i))\n",
    "        break\n",
    "    else:\n",
    "        print(\"{0}번이 읽어보자\".format(i))"
   ]
  },
  {
   "cell_type": "code",
   "execution_count": null,
   "metadata": {
    "tags": []
   },
   "outputs": [],
   "source": [
    "# 나도코딩 풀이\n",
    "absent = [2, 5] #결석\n",
    "no_book = [7] #책 깜빡\n",
    "for student in range(1, 11): #1부터 10번까지 책 읽힐 것\n",
    "    if student in absent:\n",
    "        continue # 반복문 탈출 실패 countinue는 밑의 내용으로 진행하지 않고 다시 for문으로 올라가서 진행\n",
    "    elif student in no_book:\n",
    "        print(\"오늘 수업 여기까지. {0}는 교무실로 따라와\".format(student)) #엄한 선생님이라서 수업을 바로 끝내버림\n",
    "        break #반복문 탈출\n",
    "    print(\"{0}, 책을 읽어봐!\".format(student))"
   ]
  },
  {
   "cell_type": "markdown",
   "metadata": {},
   "source": [
    "* 한 줄 for loop"
   ]
  },
  {
   "cell_type": "code",
   "execution_count": null,
   "metadata": {
    "tags": []
   },
   "outputs": [],
   "source": [
    "# 출석번호가 1 2 3 4 앞에 100을 붙이기로 함. 101, 102, 103, 104 ...\n",
    "students = range(1, 6)\n",
    "print(students)\n",
    "students = [i+100 for i in students]\n",
    "print(students)"
   ]
  },
  {
   "cell_type": "code",
   "execution_count": null,
   "metadata": {
    "tags": []
   },
   "outputs": [],
   "source": [
    "# 한줄 for문을 활용하여 학생 이름을 길이로 변환\n",
    "students = [\"Iron\", \"Thor\", \"Groot\"]\n",
    "students = [len(i) for i in students]\n",
    "print(students)"
   ]
  },
  {
   "cell_type": "code",
   "execution_count": null,
   "metadata": {
    "tags": []
   },
   "outputs": [],
   "source": [
    "# 한줄 for문을 활용하여 학생 이름들을 대문자로 변환 \n",
    "students = [\"Iron\", \"Thor\", \"Groot\"]\n",
    "students = [i.upper() for i in students]\n",
    "print(students)\n"
   ]
  },
  {
   "cell_type": "code",
   "execution_count": null,
   "metadata": {
    "tags": []
   },
   "outputs": [],
   "source": [
    "'''\n",
    "Quiz 5)\n",
    "당신은 Cocoa 서비스를 이용하는 택시 기사님입니다.\n",
    "50명의 승객과 매칭 기회가 있을 때, 총 탑승 승객 수를 구하는 프로그램을 작성하시오.\n",
    "\n",
    "조건 1: 승객별 운행 소요 시간은 5~50 사이의 난수로 정해집니다.\n",
    "조건 2: 당신은 소요 시간 5분~15분 사이의 승객만 매칭해야 합니다.\n",
    "\n",
    "(출력문 예제)\n",
    "[0] 1번째 손님 (소요시간 : 15분)\n",
    "[ ] 2번째 손님 (소요시간 : 50분)\n",
    "[0] 3번째 손님 (소요시간 : 5분)\n",
    "...\n",
    "[ ] 50번째 손님 (소요시간 : 16분)\n",
    "'''\n",
    "# 내 풀이\n",
    "import random\n",
    "for i in range(1,51):\n",
    "    t = randint(5, 51)\n",
    "    if 5 <= t <= 15:\n",
    "        print(\"[{0}] {1}번째 손님 (소요시간 : {2}분)\".format(\"O\", str(i).zfill(2), str(t).zfill(2)))\n",
    "    else:\n",
    "        print(\"[{0}] {1}번째 손님 (소요시간 : {2}분)\".format(\" \", str(i).zfill(2), str(t).zfill(2)))"
   ]
  },
  {
   "cell_type": "code",
   "execution_count": null,
   "metadata": {},
   "outputs": [],
   "source": [
    "# 나도코딩 풀이\n",
    "from random import randint\n",
    "total = 0\n",
    "for i in range(1,51):\n",
    "    t = randint(5,51) #5부터 50분 사이의 시간\n",
    "    if 5 <= t <= 15:   \n",
    "        print(\"[{0}] {1}번째 손님 (소요시간 : {2}분)\".format(0, i, t))\n",
    "        total += 1\n",
    "    else:\n",
    "        print(\"[{0}] {1}번째 손님 (소요시간 : {2}분)\".format(\" \", i, t))\n",
    "print(\"\\n총 탑승 승객 : {}분\".format(total))"
   ]
  },
  {
   "cell_type": "code",
   "execution_count": null,
   "metadata": {},
   "outputs": [],
   "source": [
    "# 나도코딩 풀이\n",
    "from random import randint\n",
    "total = 0\n",
    "for i in range(1,51):\n",
    "    t = randint(5,51) #5부터 50분 사이의 시간\n",
    "    if 5 <= t <= 15:   \n",
    "        print(\"[{0}] {1}번째 손님 (소요시간 : {2}분)\".format(0, i, t))\n",
    "        total += 1\n",
    "    else:\n",
    "        print(\"[{0}] {1}번째 손님 (소요시간 : {2}분)\".format(\" \", i, t))\n",
    "print(\"\\n총 탑승 승객 : {}분\".format(total))"
   ]
  }
 ]
}