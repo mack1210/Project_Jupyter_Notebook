{
 "metadata": {
  "language_info": {
   "codemirror_mode": {
    "name": "ipython",
    "version": 3
   },
   "file_extension": ".py",
   "mimetype": "text/x-python",
   "name": "python",
   "nbconvert_exporter": "python",
   "pygments_lexer": "ipython3",
   "version": "3.8.5-final"
  },
  "orig_nbformat": 2,
  "kernelspec": {
   "name": "python_defaultSpec_1598600611995",
   "display_name": "Python 3.8.5 64-bit"
  }
 },
 "nbformat": 4,
 "nbformat_minor": 2,
 "cells": [
  {
   "cell_type": "markdown",
   "metadata": {},
   "source": [
    "### 나도코딩 1번\n",
    "** 1. 참과 거짓 **\n",
    "\n",
    "* Quiz 1\n",
    "\n",
    "\n",
    "** 2. 연산자 **\n",
    "\n",
    "* Quiz 2\n",
    "\n",
    "\n",
    "** 3. 문자열 **\n",
    "\n",
    "* 슬라이싱\n",
    "\n",
    "* 문자열 처리 함수\n",
    "\n",
    "* 문자열 포멧\n",
    "\n",
    "* 탈출 문자\n",
    "\n",
    "* Quiz 3"
   ]
  },
  {
   "cell_type": "markdown",
   "metadata": {},
   "source": [
    "### 1. 참과 거짓"
   ]
  },
  {
   "cell_type": "code",
   "execution_count": 2,
   "metadata": {
    "tags": []
   },
   "outputs": [
    {
     "output_type": "stream",
     "name": "stdout",
     "text": "False\nTrue\n"
    }
   ],
   "source": [
    "print(not True)\n",
    "print(not(5>10))"
   ]
  },
  {
   "cell_type": "code",
   "execution_count": 5,
   "metadata": {
    "tags": []
   },
   "outputs": [
    {
     "output_type": "stream",
     "name": "stdout",
     "text": "우리집 강아지의 이름은 연탄이\n연탄이는 4살이며, 산책을 아주 좋아해요\n연탄이는 어른일까요? False\n\n우리집  강아지 의 이름은  연탄이\n연탄이 는  4 살이며,  산책 을 아주 좋아해요\n연탄이는 어른일까요?  False \n\n"
    }
   ],
   "source": [
    "# 애완 동물을 소개해 주세요.\n",
    "animal = \"강아지\"\n",
    "name = \"연탄이\"\n",
    "age = 4\n",
    "hobby = \"산책\"\n",
    "is_adult = age >= 5\n",
    "\n",
    "# 1) with +\n",
    "print(\"우리집 \" + animal + \"의 이름은 \"+ name)\n",
    "print(name + \"는 \" + str(age) + \"살이며, \"+ hobby +\"을 아주 좋아해요\")\n",
    "print(\"연탄이는 어른일까요? \"+ str(is_adult) +\"\\n\")\n",
    "\n",
    "# 2) with ,\n",
    "print(\"우리집 \", animal, \"의 이름은 \", name)\n",
    "print(name, \"는 \", age, \"살이며, \", hobby, \"을 아주 좋아해요\")\n",
    "print(\"연탄이는 어른일까요? \", str(is_adult), \"\\n\")"
   ]
  },
  {
   "cell_type": "code",
   "execution_count": 9,
   "metadata": {
    "tags": []
   },
   "outputs": [
    {
     "output_type": "stream",
     "name": "stdout",
     "text": "사당 행 열차가 들어오고 있습니다.\n\n신도림 행 열차가 들어오고 있습니다.\n\n인천공항 행 열차가 들어오고 있습니다.\n\n사당 행 열차가 들어오고 있습니다.\n신도림 행 열차가 들어오고 있습니다.\n인천공항 행 열차가 들어오고 있습니다.\n"
    }
   ],
   "source": [
    "'''\n",
    "# # Quiz 1\n",
    "'''\n",
    "station = [\"사당\", \"신도림\", '인천공항']\n",
    "for i in station:\n",
    "    print(i, \"행 열차가 들어오고 있습니다.\\n\")"
   ]
  },
  {
   "cell_type": "markdown",
   "metadata": {},
   "source": [
    "### 2. 연산자"
   ]
  },
  {
   "cell_type": "code",
   "execution_count": 10,
   "metadata": {
    "tags": []
   },
   "outputs": [
    {
     "output_type": "stream",
     "name": "stdout",
     "text": "5\n16\n4\n4\n4.0\n0.6312976985997669\n3.272874312186115\n8\n9\n20\n13\n21\n6\n24\n41\n15\n32\n"
    }
   ],
   "source": [
    "print(abs(-5))\n",
    "print(pow(4,2))\n",
    "\n",
    "from math import *\n",
    "print(floor(4.99))\n",
    "print(ceil(3.14))\n",
    "print(sqrt(16))\n",
    "\n",
    "# Random function\n",
    "from random import *\n",
    "print(random())\n",
    "print(random()*10)\n",
    "print(int(random() * 10))\n",
    "print(int(random() * 10 + 1))\n",
    "print(int(random() * 45 + 1))\n",
    "print(int(random() * 45 + 1))\n",
    "print(int(random() * 45 + 1))\n",
    "print(int(random() * 45 + 1))\n",
    "print(int(random() * 45 + 1))\n",
    "print(int(random() * 45 + 1))\n",
    "\n",
    "print(randrange(1, 46))\n",
    "print(randint(1,46))"
   ]
  },
  {
   "cell_type": "code",
   "execution_count": 18,
   "metadata": {
    "tags": []
   },
   "outputs": [
    {
     "output_type": "stream",
     "name": "stdout",
     "text": "오프라인 스터디 모임 날짜는 매월  26 일로 선정되었습니다.\n"
    }
   ],
   "source": [
    "'''\n",
    "Quiz 2) 당신은 최근에 코딩 스터디 모임을 새로 만들었습니다.\n",
    "월 4회 스터디를 하는데 3번은 온라인으로 하고 1번은 오프라인으로 하기로 했습니다.\n",
    "\n",
    "condition\n",
    "1) 랜덤으로 날짜 뽑기\n",
    "2) 월별 날짜는 다름을 감안하여 최소 일수인 28 이내로 정함\n",
    "3) 매월 1~3일은 스터디 준비를 해야하므로 제외\n",
    "\n",
    "(출력문 예제)\n",
    "오프라인 스터디 모임 날짜는 매월 X 일로 선정되었습니다.\n",
    "'''\n",
    "\n",
    "# from random import *\n",
    "# for i in range(0,4):\n",
    "#     x = randint(4, 29)\n",
    "#     print(\"스터디 모임 날짜는 매월 \", x, \"일로 선정되었습니다.\")\n",
    "\n",
    "\n",
    "from random import *\n",
    "date = randint(4,29)\n",
    "print(\"오프라인 스터디 모임 날짜는 매월 \", date, \"일로 선정되었습니다.\")"
   ]
  },
  {
   "cell_type": "markdown",
   "metadata": {},
   "source": [
    "### 3. 문자열"
   ]
  },
  {
   "cell_type": "code",
   "execution_count": 7,
   "metadata": {
    "tags": []
   },
   "outputs": [
    {
     "output_type": "stream",
     "name": "stdout",
     "text": "\n    나는 소년이고\n    파이썬은 쉬워요.\n    \n"
    }
   ],
   "source": [
    "sentence = \"\"\"\n",
    "    나는 소년이고\n",
    "    파이썬은 쉬워요.\n",
    "    \"\"\"\n",
    "print(sentence)"
   ]
  },
  {
   "cell_type": "markdown",
   "metadata": {},
   "source": [
    "* 슬라이싱"
   ]
  },
  {
   "cell_type": "code",
   "execution_count": 16,
   "metadata": {
    "tags": []
   },
   "outputs": [
    {
     "output_type": "stream",
     "name": "stdout",
     "text": "성별 :  1\n연 :  99\n생년월일 :  991231\n뒷 일곱자리 :  1234567\n뒷 일곱자리 :  1234567\n"
    }
   ],
   "source": [
    "jumin = \"991231 - 1234567\"\n",
    "print(\"성별 : \", jumin[9])\n",
    "print(\"연 : \", jumin[0:2]) # 0이상 2미만\n",
    "print(\"생년월일 : \", jumin[:6])\n",
    "print(\"뒷 일곱자리 : \", jumin[9:])\n",
    "print(\"뒷 일곱자리 : \", jumin[-7:])\n"
   ]
  },
  {
   "cell_type": "markdown",
   "metadata": {},
   "source": [
    "* 문자열 처리함수"
   ]
  },
  {
   "cell_type": "code",
   "execution_count": 9,
   "metadata": {
    "tags": []
   },
   "outputs": [
    {
     "output_type": "stream",
     "name": "stdout",
     "text": "python is amazing\nPYTHON IS AMAZING\nTrue\n17\nJava is amazing\n\n\n5\n15\n\n\n5\n-1\n2\n"
    }
   ],
   "source": [
    "sentence = \"Python is amazing\"\n",
    "print(sentence.lower())\n",
    "print(sentence.upper())\n",
    "print(sentence[0].isupper())\n",
    "print(len(sentence))\n",
    "print(sentence.replace(\"Python\", \"Java\"))\n",
    "print(\"\\n\")\n",
    "\n",
    "index = sentence.index(\"n\")\n",
    "print(index)\n",
    "index = sentence.index(\"n\", index + 1) #index+1 은 시작위치가 index 직후임을 나타냄\n",
    "print(index)\n",
    "\n",
    "print(\"\\n\")\n",
    "print(sentence.find(\"n\"))\n",
    "print(sentence.find(\"Java\")) # index에서 원하는 값이 없으면 -1을 반환함\n",
    "# print(sentence.index(\"Java\")) # 오류가 남 sentence에는 Java가 없음\n",
    "print(sentence.count(\"n\"))"
   ]
  },
  {
   "cell_type": "markdown",
   "metadata": {},
   "source": [
    "* 문자열 포멧"
   ]
  },
  {
   "cell_type": "code",
   "execution_count": 26,
   "metadata": {
    "tags": []
   },
   "outputs": [
    {
     "output_type": "stream",
     "name": "stdout",
     "text": "나는 20살 입니다.\n나는 파이썬을 좋아합니다.\nApple이란 단어는 A로 시작합니다.\n나는 20살 입니다.\n나는 파이썬와 Java를 좋아합니다.\n나는 20살 입니다\n나는 파랑색과 빨강색을 좋아해요\n나는 빨강색과 파랑색을 좋아해요\n나는 파랑색과 빨강색을 좋아해요\n나는 빨강색과 파랑색을 좋아해요\n나는 20살이며 빨강색을 좋아해요.\n나는 20살이며 빨강색을 좋아해요.\n"
    }
   ],
   "source": [
    "# 1) with %d and %var\n",
    "print(\"나는 %d살 입니다.\" %20)\n",
    "print(\"나는 %s을 좋아합니다.\" %\"파이썬\")\n",
    "print(\"Apple이란 단어는 %c로 시작합니다.\" % \"Apple\"[0])\n",
    "\n",
    "print(\"나는 %s살 입니다.\" %20) # 20은 더 이상 숫자가 아닐 지도 모름\\\n",
    "print(\"나는 %s와 %s를 좋아합니다.\" % (\"파이썬\", \"Java\") )\n",
    "\n",
    "# 2) \n",
    "print(\"나는 {}살 입니다\".format(20))\n",
    "print(\"나는 {}색과 {}색을 좋아해요\".format(\"파랑\", \"빨강\"))\n",
    "print(\"나는 {1}색과 {0}색을 좋아해요\".format(\"파랑\", \"빨강\"))\n",
    "\n",
    "# 3) \n",
    "print(\"나는 {}색과 {}색을 좋아해요\".format(\"파랑\", \"빨강\"))\n",
    "print(\"나는 {1}색과 {0}색을 좋아해요\".format(\"파랑\", \"빨강\"))\n",
    "\n",
    "# 3) \n",
    "print(\"나는 {age}살이며 {color}색을 좋아해요.\".format(age = 20, color = \"빨강\"))\n",
    "\n",
    "# 4) v3.6 이상\n",
    "age = 20\n",
    "color = \"빨강\"\n",
    "print(f\"나는 {age}살이며 {color}색을 좋아해요.\")"
   ]
  },
  {
   "cell_type": "markdown",
   "metadata": {},
   "source": [
    "* 탈출 문자"
   ]
  },
  {
   "cell_type": "code",
   "execution_count": 32,
   "metadata": {
    "tags": []
   },
   "outputs": [
    {
     "output_type": "stream",
     "name": "stdout",
     "text": "백문이 불여일견\n 백문이 불여일타\n저는 \"나도코딩\"입니다.\n저는 \"나도코딩\"입니다.\n"
    }
   ],
   "source": [
    "# \\\" or \\' : 문장 내에서 \" or '\n",
    "print(\"백문이 불여일견\\n 백문이 불여일타\")\n",
    "print('저는 \"나도코딩\"입니다.') # 바깥을 먼저 ''로 감싸고 안쪽을 \"\"로 하면 가능 하지만 번거로우니 밑의 방법을 알아 둘 것\n",
    "print(\"저는 \\\"나도코딩\\\"입니다.\")"
   ]
  },
  {
   "cell_type": "code",
   "execution_count": 33,
   "metadata": {
    "tags": []
   },
   "outputs": [
    {
     "output_type": "stream",
     "name": "stdout",
     "text": "C:\\Python\\Python38\nC:/Python/Python38\n"
    }
   ],
   "source": [
    "# \\\\ : 문장 내에서 \\\n",
    "print(\"C:\\\\Python\\\\Python38\")\n",
    "print(\"C:/Python/Python38\")"
   ]
  },
  {
   "cell_type": "code",
   "execution_count": 34,
   "metadata": {
    "tags": []
   },
   "outputs": [
    {
     "output_type": "stream",
     "name": "stdout",
     "text": "Pine\nPineTree\n"
    }
   ],
   "source": [
    "# \\r : 커서를 맨 앞으로 이동\n",
    "print(\"Red Apple\\rPine\")\n",
    "print(\"Red Apple\\rPineTree\")"
   ]
  },
  {
   "cell_type": "code",
   "execution_count": 36,
   "metadata": {
    "tags": []
   },
   "outputs": [
    {
     "output_type": "stream",
     "name": "stdout",
     "text": "RedApple\n"
    }
   ],
   "source": [
    "# \\b : 백스페이스 (한 글자 삭제)\n",
    "print(\"Redd\\bApple\")"
   ]
  },
  {
   "cell_type": "code",
   "execution_count": 37,
   "metadata": {
    "tags": []
   },
   "outputs": [
    {
     "output_type": "stream",
     "name": "stdout",
     "text": "Red\tApple\n"
    }
   ],
   "source": [
    "#\\t : tab\n",
    "print(\"Red\\tApple\")"
   ]
  },
  {
   "cell_type": "code",
   "execution_count": 61,
   "metadata": {
    "tags": []
   },
   "outputs": [
    {
     "output_type": "stream",
     "name": "stdout",
     "text": "draw\ndra40!\n"
    }
   ],
   "source": [
    "'''\n",
    "Quiz 3) 사이트별로 비밀번호를 만들어 주는 프로그램을 작성하시오\n",
    "예) http://naver.com\n",
    "규칙1 : http:// 부분 제외\n",
    "규칙2 : 처음 만나는 점(.) 이후 부분은 제외 => naver\n",
    "규칙3 : 남은 글자 중 처음 세자리 + 글자 갯수 + 글자 내 'e' 갯수 + \"!\"로 구성\n",
    "예) 생성된 비밀번호 : nav51!\n",
    "'''\n",
    "url = \"http://naver.com\"\n",
    "url = \"https://google.com\"\n",
    "url = \"https://draw.io\"\n",
    "my_url = url[(url.index(\"/\") + 2):url.index(\".\")] # 규칙 1 and 규칙 2\n",
    "password = my_url[:3] + str(len(my_url)) + str(my_url.count(\"e\")) + \"!\" # 규칙 3\n",
    "print(my_url)\n",
    "print(password)"
   ]
  },
  {
   "cell_type": "code",
   "execution_count": null,
   "metadata": {},
   "outputs": [],
   "source": []
  }
 ]
}