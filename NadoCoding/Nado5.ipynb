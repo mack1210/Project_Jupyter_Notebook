{
 "metadata": {
  "language_info": {
   "codemirror_mode": {
    "name": "ipython",
    "version": 3
   },
   "file_extension": ".py",
   "mimetype": "text/x-python",
   "name": "python",
   "nbconvert_exporter": "python",
   "pygments_lexer": "ipython3",
   "version": "3.8.5-final"
  },
  "orig_nbformat": 2,
  "kernelspec": {
   "name": "python_defaultSpec_1599045876808",
   "display_name": "Python 3.8.5 64-bit ('base': conda)"
  }
 },
 "nbformat": 4,
 "nbformat_minor": 2,
 "cells": [
  {
   "cell_type": "markdown",
   "metadata": {},
   "source": [
    "### 나도코딩 5번\n",
    "** 8-1. 클래스 **\n",
    "\n",
    "* 스타크래프트 전반전\n",
    "\n",
    "* 스타크래프트 후반전\n",
    "\n",
    "* Quiz 8\n",
    "\n",
    "\n",
    "** 9. 예외 처리 **\n",
    "\n",
    "* 예외 처리\n",
    "\n",
    "* 에러 발생시키기\n",
    "\n",
    "* 사용자 정의 예외처리\n",
    "\n",
    "* finally\n",
    "\n",
    "* Quiz 9\n",
    "\n"
   ]
  },
  {
   "cell_type": "markdown",
   "metadata": {},
   "source": [
    "### 8-1. 클래스 (프로젝트)"
   ]
  },
  {
   "cell_type": "markdown",
   "metadata": {},
   "source": [
    "* 스타크래프트 전반전"
   ]
  },
  {
   "cell_type": "code",
   "execution_count": 1,
   "metadata": {},
   "outputs": [],
   "source": [
    "from random import randint"
   ]
  },
  {
   "cell_type": "code",
   "execution_count": 2,
   "metadata": {},
   "outputs": [],
   "source": [
    "# 일반 유닛\n",
    "class Unit:\n",
    "    def __init__(self, name, hp, speed):\n",
    "        self.name = name\n",
    "        self.hp = hp\n",
    "        self.speed = speed\n",
    "        print(\"{0} 유닛이 생성되었습니다.\".format(name))\n",
    "\n",
    "    def move(self, location):\n",
    "        print(\"{0} : {1} 방향으로 이동합니다. [속도 {2}]\".format(self.name, location, self.speed))\n",
    "\n",
    "    def damaged(self, damage):\n",
    "        print(\"{0} : {1} 데미지를 입었습니다.\".format(self.name, damage))\n",
    "        self.hp -= damage\n",
    "        print(\"{0} : 현재 체력은 {1}입니다.\".format(self.name, self.hp))\n",
    "        \n",
    "        if self.hp <= 0:\n",
    "            print(\"{0} : 파괴되었습니다.\".format(self.name))"
   ]
  },
  {
   "cell_type": "code",
   "execution_count": 3,
   "metadata": {},
   "outputs": [],
   "source": [
    "# 공격 유닛\n",
    "class AttackUnit(Unit):\n",
    "    def __init__(self, name, hp, speed, damage):\n",
    "        Unit.__init__(self, name, hp, speed)\n",
    "        self.damage = damage\n",
    "\n",
    "    def attack(self, location):\n",
    "        print(\"{0} : {1} 방향으로 적군을 공격합니다. [공격력 {2}]\".format(self.name, location, self.damage))"
   ]
  },
  {
   "cell_type": "code",
   "execution_count": 4,
   "metadata": {},
   "outputs": [],
   "source": [
    "# 마린\n",
    "class Marine(AttackUnit):\n",
    "    def __init__(self):\n",
    "        AttackUnit.__init__(self, \"마린\", 40, 1, 5)\n",
    "\n",
    "    #스팀팩\n",
    "    def stimpak(self):\n",
    "        if self.hp > 10:\n",
    "            self.hp -=10\n",
    "            print(\"{0} : 스팀팩을 사용합니다. (HP 10 감소)\".format(self.name))\n",
    "        else:\n",
    "            print(\"{0} : 체력이 부족합니다.\".format(self.name))"
   ]
  },
  {
   "cell_type": "code",
   "execution_count": 5,
   "metadata": {},
   "outputs": [],
   "source": [
    "# 탱크\n",
    "class Tank(AttackUnit):\n",
    "    # 시즈모드 개발 여부\n",
    "    seize_developed = False\n",
    "    \n",
    "    def __init__(self):\n",
    "        AttackUnit.__init__(self, \"탱크\", 150, 1, 35)\n",
    "        self.seize_mode = False\n",
    "\n",
    "    def set_seize_mode(self):\n",
    "        if Tank.seize_developed == False:\n",
    "            return\n",
    "            # 아무것도 안한다는 말\n",
    "        \n",
    "        # 현재 시즈모드가 아닐때 -> 시즈모드\n",
    "        if self.seize_mode == False:\n",
    "            print(\"{0} : 시즈모드로 전환합니다.\".format(self.name))\n",
    "            self.damage *= 2\n",
    "            self.seize_mode = True\n",
    "            # 현재 시즈모드일 때 -> 시즈모드 해제\n",
    "        else:\n",
    "            print(\"{0} : 시즈모드를 해제합니다.\".format(self.name))\n",
    "            self.damage /= 2\n",
    "            self.seize_mode = False"
   ]
  },
  {
   "cell_type": "code",
   "execution_count": 6,
   "metadata": {},
   "outputs": [],
   "source": [
    "# 공중 유닛 ex) 드랍쉽\n",
    "class Flyable:\n",
    "    def __init__(self, flying_speed):\n",
    "        self.flying_speed = flying_speed\n",
    "\n",
    "    def fly(self, name, location):\n",
    "        print(\"{0} : {1} 방향으로 날아갑니다. [속도 {2}]\".format(name, location, self.flying_speed))"
   ]
  },
  {
   "cell_type": "code",
   "execution_count": 7,
   "metadata": {},
   "outputs": [],
   "source": [
    "# 공중 공격 유닛 클래스\n",
    "class FlyableAttackUnit(AttackUnit, Flyable):\n",
    "    def __init__(self, name, hp, damage, flying_speed):\n",
    "        AttackUnit.__init__(self, name, hp, 0, damage) # 지상 speed는 0으로 처리\n",
    "        Flyable.__init__(self, flying_speed)\n",
    "    \n",
    "    def move(self, location):\n",
    "        self.fly(self.name, location)"
   ]
  },
  {
   "cell_type": "code",
   "execution_count": 8,
   "metadata": {},
   "outputs": [],
   "source": [
    "# 레이스\n",
    "class Wraith(FlyableAttackUnit):\n",
    "    def __init__(self):\n",
    "        FlyableAttackUnit.__init__(self, \"레이스\", 80, 20, 5)\n",
    "        self.clocked = False\n",
    "\n",
    "    def clocking(self):\n",
    "        if self.clocked == True:\n",
    "            print(\"{0} : 클로킹모드 해제합니다.\".format(self.name))\n",
    "            self.clocked = False\n",
    "        else:\n",
    "            print(\"{0} : 클로킹모드 설정합니다.\".format(self.name))\n",
    "            self.clocked = True"
   ]
  },
  {
   "cell_type": "markdown",
   "metadata": {},
   "source": [
    "* 스타크래프트 후반전"
   ]
  },
  {
   "cell_type": "code",
   "execution_count": 9,
   "metadata": {},
   "outputs": [],
   "source": [
    "# 게임 시작과 종료\n",
    "def game_start():\n",
    "    print(\"[알림] 새로운 게임을 시작합니다.\")\n",
    "\n",
    "def game_over():\n",
    "    print(\"GG\")\n",
    "    print(\"[Player] 님이 게임에서 퇴장하셨습니다.\")"
   ]
  },
  {
   "cell_type": "code",
   "execution_count": 10,
   "metadata": {
    "tags": []
   },
   "outputs": [
    {
     "output_type": "stream",
     "name": "stdout",
     "text": "[알림] 새로운 게임을 시작합니다.\n"
    }
   ],
   "source": [
    "# 실제 게임 시작\n",
    "game_start()"
   ]
  },
  {
   "cell_type": "code",
   "execution_count": 11,
   "metadata": {
    "tags": []
   },
   "outputs": [
    {
     "output_type": "stream",
     "name": "stdout",
     "text": "마린 유닛이 생성되었습니다.\n마린 유닛이 생성되었습니다.\n마린 유닛이 생성되었습니다.\n"
    }
   ],
   "source": [
    "# 마린 세 마리 생산\n",
    "m1 = Marine()\n",
    "m2 = Marine()\n",
    "m3 = Marine()"
   ]
  },
  {
   "cell_type": "code",
   "execution_count": 12,
   "metadata": {
    "tags": []
   },
   "outputs": [
    {
     "output_type": "stream",
     "name": "stdout",
     "text": "탱크 유닛이 생성되었습니다.\n탱크 유닛이 생성되었습니다.\n"
    }
   ],
   "source": [
    "# 탱크 2기 생성\n",
    "t1 = Tank()\n",
    "t2 = Tank()"
   ]
  },
  {
   "cell_type": "code",
   "execution_count": 13,
   "metadata": {
    "tags": []
   },
   "outputs": [
    {
     "output_type": "stream",
     "name": "stdout",
     "text": "레이스 유닛이 생성되었습니다.\n"
    }
   ],
   "source": [
    "# 레이스 1기 생성\n",
    "w1 = Wraith()"
   ]
  },
  {
   "cell_type": "code",
   "execution_count": 14,
   "metadata": {
    "tags": []
   },
   "outputs": [],
   "source": [
    "# 공격 유닛\n",
    "attack_units = []\n",
    "attack_units.append(m1)\n",
    "attack_units.append(m2)\n",
    "attack_units.append(m3)\n",
    "attack_units.append(t1)\n",
    "attack_units.append(t2)\n",
    "attack_units.append(w1)"
   ]
  },
  {
   "cell_type": "code",
   "execution_count": 15,
   "metadata": {
    "tags": []
   },
   "outputs": [
    {
     "output_type": "stream",
     "name": "stdout",
     "text": "마린 : 1시 방향으로 이동합니다. [속도 1]\n마린 : 1시 방향으로 이동합니다. [속도 1]\n마린 : 1시 방향으로 이동합니다. [속도 1]\n탱크 : 1시 방향으로 이동합니다. [속도 1]\n탱크 : 1시 방향으로 이동합니다. [속도 1]\n레이스 : 1시 방향으로 날아갑니다. [속도 5]\n"
    }
   ],
   "source": [
    "# 전군 이동\n",
    "for Unit in attack_units:\n",
    "    Unit.move(\"1시\")"
   ]
  },
  {
   "cell_type": "code",
   "execution_count": 16,
   "metadata": {
    "tags": []
   },
   "outputs": [
    {
     "output_type": "stream",
     "name": "stdout",
     "text": "[알림] 탱크 시즈 모드 개발이 완료되었습니다.\n"
    }
   ],
   "source": [
    "# 탱크 시즈모드 개발\n",
    "Tank.seize_developed = True\n",
    "print(\"[알림] 탱크 시즈 모드 개발이 완료되었습니다.\")"
   ]
  },
  {
   "cell_type": "code",
   "execution_count": 21,
   "metadata": {
    "tags": []
   },
   "outputs": [
    {
     "output_type": "stream",
     "name": "stdout",
     "text": "탱크 : 시즈모드로 전환합니다.\n탱크 : 시즈모드로 전환합니다.\n레이스 : 클로킹모드 설정합니다.\n"
    }
   ],
   "source": [
    "# 공격 모드 준비 (탱크 : 시즈모드, 레이스 : 클로킹)\n",
    "for unit in attack_units:\n",
    "    # 지금 만들어진 객체가 어떤 클래스의 인스턴스인지 확인 하는 것\n",
    "    if isinstance(Unit, Marine):\n",
    "        unit.stimpak()\n",
    "    elif isinstance(unit, Tank):\n",
    "        unit.set_seize_mode()\n",
    "    elif isinstance(unit, Wraith):\n",
    "        unit.clocking()"
   ]
  },
  {
   "cell_type": "code",
   "execution_count": 22,
   "metadata": {
    "tags": []
   },
   "outputs": [
    {
     "output_type": "stream",
     "name": "stdout",
     "text": "마린 : 1시 방향으로 적군을 공격합니다. [공격력 5]\n마린 : 1시 방향으로 적군을 공격합니다. [공격력 5]\n마린 : 1시 방향으로 적군을 공격합니다. [공격력 5]\n탱크 : 1시 방향으로 적군을 공격합니다. [공격력 70]\n탱크 : 1시 방향으로 적군을 공격합니다. [공격력 70]\n레이스 : 1시 방향으로 적군을 공격합니다. [공격력 20]\n"
    }
   ],
   "source": [
    "# 전군 공격\n",
    "for unit in attack_units:\n",
    "    unit.attack(\"1시\")"
   ]
  },
  {
   "cell_type": "code",
   "execution_count": 23,
   "metadata": {
    "tags": []
   },
   "outputs": [
    {
     "output_type": "stream",
     "name": "stdout",
     "text": "마린 : 11 데미지를 입었습니다.\n마린 : 현재 체력은 16입니다.\n마린 : 17 데미지를 입었습니다.\n마린 : 현재 체력은 9입니다.\n마린 : 5 데미지를 입었습니다.\n마린 : 현재 체력은 28입니다.\n탱크 : 11 데미지를 입었습니다.\n탱크 : 현재 체력은 118입니다.\n탱크 : 15 데미지를 입었습니다.\n탱크 : 현재 체력은 115입니다.\n레이스 : 10 데미지를 입었습니다.\n레이스 : 현재 체력은 53입니다.\n"
    }
   ],
   "source": [
    "# 전군 피해\n",
    "for unit in attack_units:\n",
    "    # 공격은 랜덤으로 받음 (5~20)\n",
    "    unit.damaged(randint(5,21))"
   ]
  },
  {
   "cell_type": "code",
   "execution_count": 24,
   "metadata": {
    "tags": []
   },
   "outputs": [
    {
     "output_type": "stream",
     "name": "stdout",
     "text": "GG\n[Player] 님이 게임에서 퇴장하셨습니다.\n"
    }
   ],
   "source": [
    "# 게임 종료\n",
    "game_over()\n"
   ]
  },
  {
   "cell_type": "code",
   "execution_count": 28,
   "metadata": {},
   "outputs": [],
   "source": [
    "'''\n",
    "Quiz 8) 주어진 코드를 활용하여 부동산 프로그램을 작성하시오.\n",
    "\n",
    "(출력 예제)\n",
    "총 3대의 매물이 있습니다.\n",
    "강남 아파트 매매 10억 2010년\n",
    "마포 오피스텔 전세 5억 2007년\n",
    "송파 빌라 월세 500/50 2000년\n",
    "'''\n",
    "\n",
    "class House:\n",
    "    # 매물 초기화\n",
    "    def __init__(self, location, House_type, deal_type, price, completion_year):\n",
    "        self.location = location\n",
    "        self.House_type = House_type\n",
    "        self.deal_type = deal_type\n",
    "        self.price = price\n",
    "        self.completion_year = completion_year\n",
    "\n",
    "    def show_detail(self):\n",
    "        print(\"위치는 {0}, 주거 유형은 {1}, 거래 유형은 {2}, 가격은 {3}, 준공일은 {4}\".format(self.location, self.House_type, self.deal_type, self.price, self.completion_year))"
   ]
  },
  {
   "cell_type": "code",
   "execution_count": 29,
   "metadata": {
    "tags": []
   },
   "outputs": [
    {
     "output_type": "stream",
     "name": "stdout",
     "text": "총 3대의 매물이 있습니다.\n위치는 강남, 주거 유형은 아파트, 거래 유형은 매매, 가격은 10억, 준공일은 2010년\n위치는 마포, 주거 유형은 오피스텔, 거래 유형은 전세, 가격은 5억, 준공일은 2007년\n위치는 송파, 주거 유형은 빌라, 거래 유형은 월세, 가격은 500/50, 준공일은 2000년\n"
    }
   ],
   "source": [
    "houses = []\n",
    "B1 = House(\"강남\", \"아파트\", \"매매\", \"10억\", \"2010년\")\n",
    "B2 = House(\"마포\", \"오피스텔\", \"전세\", \"5억\", \"2007년\")\n",
    "B3 = House(\"송파\", \"빌라\", \"월세\", \"500/50\", \"2000년\")\n",
    "houses.append(B1)\n",
    "houses.append(B2)\n",
    "houses.append(B3)\n",
    "\n",
    "print(\"총 {0}대의 매물이 있습니다.\".format(len(houses)))\n",
    "for house in houses:\n",
    "    House.show_detail(house)"
   ]
  },
  {
   "cell_type": "markdown",
   "metadata": {},
   "source": [
    "### 9. 예외 처리"
   ]
  },
  {
   "cell_type": "markdown",
   "metadata": {},
   "source": [
    "* 예외 처리"
   ]
  },
  {
   "cell_type": "code",
   "execution_count": null,
   "metadata": {},
   "outputs": [],
   "source": [
    "# 나누기 전용 계산기\n",
    "try:\n",
    "    print(\"나누기 전용 계산기 입니다.\")\n",
    "    nums = []\n",
    "    nums.append(int(input(\"첫 번째 숫자를 입력하세요 : \")))\n",
    "    nums.append(int(input(\"두 번째 숫자를 입력하세요 : \")))\n",
    "    # nums.append(int(nums[0] / nums[1])) #실수했다고 가정하면!\n",
    "    print(\"{0} / {1} = {2}\".format(nums[0], nums[1], nums[2]))\n",
    "except ValueError:\n",
    "    print(\"에러! 잘못된 값을 입력하셨어요!\")\n",
    "except ZeroDivisionError as err:\n",
    "    print(err)\n",
    "except Exception as err:\n",
    "    print(err)\n"
   ]
  },
  {
   "cell_type": "markdown",
   "metadata": {},
   "source": [
    "* 에러 발생시키기"
   ]
  },
  {
   "cell_type": "code",
   "execution_count": 35,
   "metadata": {
    "tags": []
   },
   "outputs": [
    {
     "output_type": "stream",
     "name": "stdout",
     "text": "한 자리 숫자 나누기 전용 계산기입니다.\n9 / 3 = 3\n계산기를 이용해 주셔서 감사합니다.\n"
    }
   ],
   "source": [
    "# 사용자가 발생시키는 에러에 대해서 어떤 메세지를 찍을 지 정의할 수 있다.\n",
    "class BigNumberError(Exception):\n",
    "    def __init__(self, msg):\n",
    "        self.msg = msg\n",
    "    def __str__(self):\n",
    "        return self.msg\n",
    "\n",
    "try:\n",
    "    print(\"한 자리 숫자 나누기 전용 계산기입니다.\")\n",
    "    num1 = int(input(\"첫 번째 숫자를 입력하세요 : \"))\n",
    "    num2 = int(input(\"두 번째 숫자를 입력하세요 : \"))\n",
    "    if num1 >= 10 or num2 >= 10:\n",
    "        raise BigNumberError(\"입력값 : {0}, {1}\".format(num1, num2))\n",
    "    print(\"{0} / {1} = {2}\".format(num1, num2, int(num1 / num2)))\n",
    "except ValueError:\n",
    "    print(\"잘못된 값을 입력하였습니다. 한 자리 숫자만 입력하세요.\")\n",
    "except BigNumberError as err:\n",
    "    print(\"에러가 발생하였습니다. 한 자리 숫자만 입력하세요.\")\n",
    "    print(err)\n",
    "finally:\n",
    "    print(\"계산기를 이용해 주셔서 감사합니다.\")\n",
    "    # finally\n",
    "    # 프로그램 성사 여부에 관계없이 무조건 출력됨"
   ]
  },
  {
   "cell_type": "code",
   "execution_count": 39,
   "metadata": {
    "tags": []
   },
   "outputs": [
    {
     "output_type": "stream",
     "name": "stdout",
     "text": "[남은 치킨 : 10]\n[대기번호 1] 5마리 주문이 완료되었습니다.\n\n[남은 치킨 : 5]\n[대기번호 2] 3마리 주문이 완료되었습니다.\n\n[남은 치킨 : 2]\n[대기번호 3] 2마리 주문이 완료되었습니다.\n\n재고가 소진되어 더는 주문을 받지 않습니다.\n\n"
    }
   ],
   "source": [
    "'''\n",
    "Quiz9\n",
    "동네에 항상 대기 손님이 있는 맛있는 치킨집이 있다.\n",
    "대기 손님의 치킨 요리 시간을 줄이고자 자동 주문 시스템을 제작하였습니다.\n",
    "시스템 코드를 확인하고 적절한 예외처리 구문을 넣으시오.\n",
    "\n",
    "조건1 : 1보다 작거나 숫자가 아닌 입력값이 들어올 때는 ValueError로 처리\n",
    "    출력 메시지 : \"잘못된 값을 입력하였습니다.\"\n",
    "조건2 : 대기 손님이 주문할 수 있는 총 치킨량은 10마리로 한정\n",
    "    치킨소진시 사용자 정의 에러[SoldOutError]를 발생시키고 프로그램 종료\n",
    "    출력 메시지 : \"재고가 소진되어 더 이상 주문을 받지 않습니다.\"\n",
    "'''\n",
    "class SoldOutError(Exception):\n",
    "    def __init__(self, msg):\n",
    "        self.msg = msg\n",
    "\n",
    "    def __str__(self):\n",
    "        return self.msg\n",
    "\n",
    "chicken = 10;\n",
    "waiting = 1 # 홀 안에는 현재 만석. 대기번호 1부터 시작\n",
    "while(True):\n",
    "    try:\n",
    "        print(\"[남은 치킨 : {0}]\".format(chicken))\n",
    "        order = int(input(\"치킨 몇 마리 주문하시겠습니까?\"))\n",
    "        if order > chicken: #남은 치킨보다 주문량이 많을때\n",
    "            print(\"재료가 부족합니다.\\n\")\n",
    "        elif order <= 0:\n",
    "            raise ValueError\n",
    "        else:\n",
    "            print(\"[대기번호 {0}] {1}마리 주문이 완료되었습니다.\\n\".format(waiting, order))\n",
    "            waiting += 1\n",
    "            chicken -= order\n",
    "\n",
    "        if chicken == 0:\n",
    "            raise SoldOutError(\"재고가 소진되어 더는 주문을 받지 않습니다.\\n\")\n",
    "\n",
    "    except ValueError:\n",
    "        print(\"잘못된 값을 입력하셨습니다.\\n\")\n",
    "\n",
    "    except SoldOutError as err:\n",
    "        print(err)\n",
    "        break"
   ]
  },
  {
   "cell_type": "code",
   "execution_count": null,
   "metadata": {},
   "outputs": [],
   "source": []
  },
  {
   "cell_type": "code",
   "execution_count": null,
   "metadata": {},
   "outputs": [],
   "source": [
    "'''\n",
    "Quiz9\n",
    "동네에 항상 대기 손님이 있는 맛있는 치킨집이 있다.\n",
    "대기 손님의 치킨 요리 시간을 줄이고자 자동 주문 시스템을 제작하였습니다.\n",
    "시스템 코드를 확인하고 적절한 예외처리 구문을 넣으시오.\n",
    "\n",
    "조건1 : 1보다 작거나 숫자가 아닌 입력값이 들어올 때는 ValueError로 처리\n",
    "    출력 메시지 : \"잘못된 값을 입력하였습니다.\"\n",
    "조건2 : 대기 손님이 주문할 수 있는 총 치킨량은 10마리로 한정\n",
    "    치킨소진시 사용자 정의 에러[SoldOutError]를 발생시키고 프로그램 종료\n",
    "    출력 메시지 : \"재고가 소진되어 더 이상 주문을 받지 않습니다.\"\n",
    "'''\n",
    "\n",
    "class SoudOutError(Exception):\n",
    "    def __init__(self, msg):\n",
    "        self.msg = msg\n",
    "    \n",
    "    def __str__(self):\n",
    "        return self.msg\n",
    "chicken = 10\n",
    "waiting = 1 # 홀은 만석, 대기번호 1부터 시작\n",
    "\n",
    "try:\n",
    "    print(\"[남은 치킨 : {0}]\".format(chicken))\n",
    "    order = int(input(\"치킨을 몇 마리 주문하시겠습니까? \"))\n",
    "    if order > chicken:\n",
    "        print(\"재료가 부족합니다.\")\n",
    "    else:\n",
    "        pr\n",
    "\n"
   ]
  }
 ]
}