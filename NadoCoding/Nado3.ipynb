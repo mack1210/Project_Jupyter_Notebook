{
 "metadata": {
  "language_info": {
   "codemirror_mode": {
    "name": "ipython",
    "version": 3
   },
   "file_extension": ".py",
   "mimetype": "text/x-python",
   "name": "python",
   "nbconvert_exporter": "python",
   "pygments_lexer": "ipython3",
   "version": "3.8.5-final"
  },
  "orig_nbformat": 2,
  "kernelspec": {
   "name": "python_defaultSpec_1599021666140",
   "display_name": "Python 3.8.5 64-bit"
  }
 },
 "nbformat": 4,
 "nbformat_minor": 2,
 "cells": [
  {
   "cell_type": "markdown",
   "metadata": {},
   "source": [
    "### 나도코딩 3번\n",
    "** 6. 함수 **\n",
    "\n",
    "* 함수\n",
    "\n",
    "* 전달값과 반환값\n",
    "\n",
    "* 기본값\n",
    "\n",
    "* 키워드값\n",
    "\n",
    "* 가변인자\n",
    "\n",
    "* 지역변수와 전역변수\n",
    "\n",
    "* Quiz 6\n",
    "\n",
    "\n",
    "** 7. 입출력 **\n",
    "\n",
    "* 표준 입출력\n",
    "\n",
    "* 다양한 출력 포멧\n",
    "\n",
    "* 파일 입출력\n",
    "\n",
    "* pickle\n",
    "\n",
    "* with\n",
    "\n",
    "* Quiz 7\n",
    "\n"
   ]
  },
  {
   "cell_type": "markdown",
   "metadata": {},
   "source": [
    "### 6. 함수"
   ]
  },
  {
   "cell_type": "markdown",
   "metadata": {},
   "source": [
    "* 함수"
   ]
  },
  {
   "cell_type": "code",
   "execution_count": 3,
   "metadata": {
    "tags": []
   },
   "outputs": [
    {
     "output_type": "stream",
     "name": "stdout",
     "text": "새로운 계좌가 생성되었습니다.\n"
    }
   ],
   "source": [
    "# 계좌 생성\n",
    "def open_account():\n",
    "    print(\"새로운 계좌가 생성되었습니다.\")\n",
    "\n",
    "open_account()"
   ]
  },
  {
   "cell_type": "code",
   "execution_count": 4,
   "metadata": {
    "tags": []
   },
   "outputs": [
    {
     "output_type": "stream",
     "name": "stdout",
     "text": "입금이 완료되었습니다. 잔액은 300원 입니다.\n"
    },
    {
     "output_type": "execute_result",
     "data": {
      "text/plain": "300"
     },
     "metadata": {},
     "execution_count": 4
    }
   ],
   "source": [
    "# 입금\n",
    "def deposit(balance, money):\n",
    "    print(\"입금이 완료되었습니다. 잔액은 {0}원 입니다.\".format(balance + money))\n",
    "    return balance + money\n",
    "\n",
    "deposit(100, 200)"
   ]
  },
  {
   "cell_type": "code",
   "execution_count": 9,
   "metadata": {
    "tags": []
   },
   "outputs": [
    {
     "output_type": "stream",
     "name": "stdout",
     "text": "출금 불가. 잔액은 200원 입니다.\n"
    },
    {
     "output_type": "execute_result",
     "data": {
      "text/plain": "200"
     },
     "metadata": {},
     "execution_count": 9
    }
   ],
   "source": [
    "# 출금\n",
    "def withdraw(balance, money):\n",
    "    if(balance >= money):\n",
    "        print(\"출금 완료. 잔액은 {0}원 입니다.\".format(balance-money))\n",
    "        return balance-money\n",
    "    else:\n",
    "        print(\"출금 불가. 잔액은 {0}원 입니다.\".format(balance))\n",
    "        return balance\n",
    "\n",
    "withdraw(200,300)"
   ]
  },
  {
   "cell_type": "code",
   "execution_count": 14,
   "metadata": {
    "tags": []
   },
   "outputs": [
    {
     "output_type": "stream",
     "name": "stdout",
     "text": "수수료는 100원이며, 잔액은 800원 입니다.\n"
    }
   ],
   "source": [
    "def withdraw_night(balance, money):\n",
    "    commission = 100\n",
    "    return commission, balance -money -commission # tuple형식으로 보낸다.\\\n",
    "    \n",
    "balance = 1000\n",
    "commission, balance = withdraw_night(balance, 100)\n",
    "print(\"수수료는 {0}원이며, 잔액은 {1}원 입니다.\".format(commission, balance))"
   ]
  },
  {
   "cell_type": "code",
   "execution_count": 17,
   "metadata": {
    "tags": []
   },
   "outputs": [
    {
     "output_type": "stream",
     "name": "stdout",
     "text": "이름 : 유재석\n나이 : 유재석\n주 사용 언어 : 유재석\n\n\n이름 : 김태호\n나이 : 김태호\n주 사용 언어 : 김태호\n\n\n"
    }
   ],
   "source": [
    "def profile(name, age, main_lang):\n",
    "    print(\"이름 : {}\".format(name))\n",
    "    print(\"나이 : {}\".format(name))\n",
    "    print(\"주 사용 언어 : {}\".format(name))\n",
    "    print(\"\\n\")\n",
    "\n",
    "profile(\"유재석\", 20, \"파이썬\")\n",
    "profile(\"김태호\", 25, \"자바\")"
   ]
  },
  {
   "cell_type": "code",
   "execution_count": 20,
   "metadata": {
    "tags": []
   },
   "outputs": [
    {
     "output_type": "stream",
     "name": "stdout",
     "text": "이름 : 유재석\t 나이 : 17\t 주 언어 : 파이썬\t\n이름 : 김태호\t 나이 : 17\t 주 언어 : 파이썬\t\n"
    }
   ],
   "source": [
    "# 같은 학교, 같은 학년, 같은 반, 같은 수업을 듣는 학생들의 이름만 받아보자\n",
    "def profile(name, age = 17, main_lang = \"파이썬\"):\n",
    "    print(\"이름 : {0}\\t 나이 : {1}\\t 주 언어 : {2}\\t\"\\\n",
    "    .format(name, age, main_lang))\n",
    "# \\을 붙이면 한문장으로 인식을 함\n",
    "profile(\"유재석\")\n",
    "profile(\"김태호\")"
   ]
  },
  {
   "cell_type": "markdown",
   "metadata": {},
   "source": [
    "* 키워드 값"
   ]
  },
  {
   "cell_type": "code",
   "execution_count": 22,
   "metadata": {
    "tags": []
   },
   "outputs": [
    {
     "output_type": "stream",
     "name": "stdout",
     "text": "유재석 17 파이썬\n유재석 17 파이썬\n"
    }
   ],
   "source": [
    "def profile(name, age, main_lang):\n",
    "    print(name, age, main_lang)\n",
    "\n",
    "profile(name = \"유재석\", age= 17, main_lang = \"파이썬\")\n",
    "profile(main_lang = \"파이썬\", name = \"유재석\", age= 17)"
   ]
  },
  {
   "cell_type": "code",
   "execution_count": 24,
   "metadata": {
    "tags": []
   },
   "outputs": [
    {
     "output_type": "stream",
     "name": "stdout",
     "text": "이름 : 유재석\t나이 : 20\t 파이썬 자바 C C++ C#\n이름 : 김태호\t나이 : 20\t 코틀린 스위프트   \n"
    }
   ],
   "source": [
    "def profile(name, age, lang1, lang2, lang3, lang4, lang5):\n",
    "    print(\"이름 : {0}\\t나이 : {1}\\t\".format(name, age), end = \" \") #end가 붙으면 옆으로 출력, 없으면 밑으로 출력이 된다.\n",
    "    print(lang1, lang2, lang3, lang4, lang5)\n",
    "\n",
    "profile(\"유재석\", 20, \"파이썬\", \"자바\", \"C\", \"C++\", \"C#\")\n",
    "profile(\"김태호\", 20, \"코틀린\", \"스위프트\", \"\", \"\", \"\")"
   ]
  },
  {
   "cell_type": "markdown",
   "metadata": {},
   "source": [
    "* 가변인자\n",
    "\n",
    "        일정하지 않고 수 많은 변수를 입력 받을때 유용하게 쓰임"
   ]
  },
  {
   "cell_type": "code",
   "execution_count": 30,
   "metadata": {
    "tags": []
   },
   "outputs": [
    {
     "output_type": "stream",
     "name": "stdout",
     "text": "이름 : 유재석\t나이 : 20\t파이썬 자바 C C++ C# \n이름 : 김태호\t나이 : 20\t코틀린 스위프트 \n"
    }
   ],
   "source": [
    "# 이름과 나이를 받고 주 사용언어를 받는다. 다만 주 사용 언어의 갯수는 가변하다.\n",
    "def profile(name, age, *language):\n",
    "    print(\"이름 : {0}\\t나이 : {1}\\t\".format(name, age), end = \"\")\n",
    "\n",
    "    for i in language:\n",
    "        print(i, end=\" \")\n",
    "    print()\n",
    "\n",
    "profile(\"유재석\", 20, \"파이썬\", \"자바\", \"C\", \"C++\", \"C#\")\n",
    "profile(\"김태호\", 20, \"코틀린\", \"스위프트\")"
   ]
  },
  {
   "cell_type": "markdown",
   "metadata": {},
   "source": [
    "* 지역 변수와 전역 변수"
   ]
  },
  {
   "cell_type": "code",
   "execution_count": 41,
   "metadata": {
    "tags": []
   },
   "outputs": [
    {
     "output_type": "stream",
     "name": "stdout",
     "text": "전체 총 : 10\n[함수 내] 남은 총 : 6\n남은 총 : 6\n"
    }
   ],
   "source": [
    "# 병사들이 경계 근무를 선다\n",
    "# 총은 총 10정이 있고 근무를 나가게 되면 총의 갯수가 감소한다.\n",
    "# gun을 전역 변수로 받는다.\n",
    "gun = 10\n",
    "def checkpoint(soldiers): # 경계 근무\n",
    "    global gun #전역공간에 있는 gun사용 #메모리를 많이 먹기에 권장되는 방법은 아님 \n",
    "    gun = gun - soldiers\n",
    "    print(\"[함수 내] 남은 총 : {0}\".format(gun))\n",
    "\n",
    "# gun을 지역 변수로 받는다.\n",
    "def checkpoint_ret(gun, soldiers): # 경계 근무\n",
    "    gun = gun - soldiers\n",
    "    print(\"[함수 내] 남은 총 : {0}\".format(gun))\n",
    "    return gun\n",
    "\n",
    "print(\"전체 총 : {0}\".format(gun))\n",
    "# checkpoint(2) # 2명이 경계 근무 나감\n",
    "gun = checkpoint_ret(gun, 4)\n",
    "print(\"남은 총 : {0}\".format(gun))"
   ]
  },
  {
   "cell_type": "code",
   "execution_count": 63,
   "metadata": {
    "tags": []
   },
   "outputs": [
    {
     "output_type": "stream",
     "name": "stdout",
     "text": "키 175cm 남자의 표준 체중은  67.38kg 입니다.\n"
    }
   ],
   "source": [
    "'''\n",
    "Quiz 7)\n",
    "표준 체중을 구하는 프로그램을 작성하시오.\n",
    "    키(m), 몸무게kg\n",
    "    남: 키 * 키 * 22\n",
    "    녀: 키 * 키 * 21\n",
    "\n",
    "    조건1) 표준 체중은 별도의 함수 내에서 계산\n",
    "            * 함수명 : std_weight\n",
    "            * 전달값 : 키(height), 성별(gender)\n",
    "    조건2) 표준 체중은 소수점 둘째자리까지 표시\n",
    "\n",
    "(출력 예제)\n",
    "키 175cm 남자의 표준 체중은 67.38kg 입니다.\n",
    "'''\n",
    "def std_weight(height, gender):\n",
    "    if gender == \"남\":\n",
    "        gender = 22\n",
    "    elif gender == \"녀\":\n",
    "        gender = 21\n",
    "    \n",
    "    print(\"키 {0:.0f}cm 남자의 표준 체중은 {1: .2f}kg 입니다.\"\\\n",
    "        .format(height * 100, height**2*gender))\n",
    "\n",
    "std_weight(1.75, \"남\")"
   ]
  },
  {
   "cell_type": "markdown",
   "metadata": {},
   "source": [
    "* 표준 입출력"
   ]
  },
  {
   "cell_type": "code",
   "execution_count": 72,
   "metadata": {
    "tags": []
   },
   "outputs": [
    {
     "output_type": "stream",
     "name": "stdout",
     "text": "python, Java, JavaScript?\n무엇이 더 재밌을까요?\n"
    }
   ],
   "source": [
    "print(\"python\", \"Java\", \"JavaScript\", sep = \", \", end = \"?\\n\")\n",
    "# end : change the last word of the sentence as the word set in the 'end' variable\n",
    "print(\"무엇이 더 재밌을까요?\")"
   ]
  },
  {
   "cell_type": "code",
   "execution_count": 77,
   "metadata": {
    "tags": []
   },
   "outputs": [
    {
     "output_type": "stream",
     "name": "stdout",
     "text": "python Java JavaScript\nds\npython Java JavaScript\n"
    }
   ],
   "source": [
    "import sys\n",
    "print(\"python\", \"Java\", \"JavaScript\", file = sys.stdout) # 표준 출력으로 출력\n",
    "print(\"python\", \"Java\", \"JavaScript\", file = sys.stderr) # 표준 에러로 처리"
   ]
  },
  {
   "cell_type": "code",
   "execution_count": 9,
   "metadata": {
    "tags": []
   },
   "outputs": [
    {
     "output_type": "stream",
     "name": "stdout",
     "text": "수학 0\n영어 50\n코딩 100\n"
    }
   ],
   "source": [
    "# 시험 성적 사전 (keys, values)\n",
    "scores = {\"수학\" : 0, \"영어\" : 50, \"코딩\" : 100}\n",
    "\n",
    "for subject, score in scores.items():\n",
    "    print(subject.ljust(8), str(score).rjust(4), sep=\":\")\n",
    "    # ljust : left adjust and make space for 8 letters\n",
    "    "
   ]
  },
  {
   "cell_type": "code",
   "execution_count": 12,
   "metadata": {
    "tags": []
   },
   "outputs": [
    {
     "output_type": "stream",
     "name": "stdout",
     "text": "대기번호 :  001\n대기번호 :  002\n대기번호 :  003\n대기번호 :  004\n대기번호 :  005\n대기번호 :  006\n대기번호 :  007\n대기번호 :  008\n대기번호 :  009\n대기번호 :  010\n대기번호 :  011\n대기번호 :  012\n대기번호 :  013\n대기번호 :  014\n대기번호 :  015\n대기번호 :  016\n대기번호 :  017\n대기번호 :  018\n대기번호 :  019\n대기번호 :  020\n"
    }
   ],
   "source": [
    "# 은행 대기 순번표를 뽑아보자\n",
    "# 001, 002, 003, ...\n",
    "for i in range(1, 21):\n",
    "    print(\"대기번호 : \", str(i).zfill(3))"
   ]
  },
  {
   "cell_type": "code",
   "execution_count": 14,
   "metadata": {
    "tags": []
   },
   "outputs": [
    {
     "output_type": "stream",
     "name": "stdout",
     "text": "<class 'str'>\n입력하신 값은 3입니다.\n"
    }
   ],
   "source": [
    "# 표준 입력\n",
    "answer = input(\"아무 값이나 입력하세요 : \") #항상 문자열 형태로 입력이 되는 것을 알 수 있다.\n",
    "print(type(answer))\n",
    "print(\"입력하신 값은 \" + answer + \"입니다.\")"
   ]
  },
  {
   "cell_type": "markdown",
   "metadata": {},
   "source": [
    "* 다양한 출력"
   ]
  },
  {
   "cell_type": "code",
   "execution_count": 18,
   "metadata": {
    "tags": []
   },
   "outputs": [
    {
     "output_type": "stream",
     "name": "stdout",
     "text": "500\n"
    }
   ],
   "source": [
    "# 빈 자리는 빈 공간으로 두고, 오른쪽 정렬을 하되, 총 10자리 공간을 확보\n",
    "print(\"{0: >10}\".format(500)) # > : rjust, 10 : 공간 총 20자리"
   ]
  },
  {
   "cell_type": "code",
   "execution_count": 20,
   "metadata": {
    "tags": []
   },
   "outputs": [
    {
     "output_type": "stream",
     "name": "stdout",
     "text": "+500\n"
    }
   ],
   "source": [
    "# 양수일 때는 +로 표시, 음수일 때는 -로 표시\n",
    "print(\"{0: >+10}\".format(500))"
   ]
  },
  {
   "cell_type": "code",
   "execution_count": 21,
   "metadata": {
    "tags": []
   },
   "outputs": [
    {
     "output_type": "stream",
     "name": "stdout",
     "text": "+500______\n"
    }
   ],
   "source": [
    "# 왼쪽 정렬하고, 빈칸을 _ 로 채움\n",
    "print(\"{0:_<+10}\".format(500))"
   ]
  },
  {
   "cell_type": "code",
   "execution_count": 30,
   "metadata": {
    "tags": []
   },
   "outputs": [
    {
     "output_type": "stream",
     "name": "stdout",
     "text": "100,000,000,000\n-100,000,000,000\n+100000000000^^^^^^^^^^^^^^^^^\n"
    }
   ],
   "source": [
    "# 세 자리 마다 콤마 찍어주기\n",
    "print(\"{0:,}\".format(100000000000))\n",
    "# +부호\n",
    "print(\"{0:+,}\".format(-100000000000))\n",
    "# +30자릴수, 왼쪽 정렬, 빈공간에는 ^\n",
    "print(\"{0:^<+30}\".format(100000000000))"
   ]
  },
  {
   "cell_type": "markdown",
   "metadata": {},
   "source": [
    "* 파일 입출력"
   ]
  },
  {
   "cell_type": "code",
   "execution_count": 31,
   "metadata": {},
   "outputs": [],
   "source": [
    "# score_file에 open을 통해 score.txt를 w 할 것, encoding은 utf8\n",
    "score_file = open(\"score.txt\", \"w\", encoding= \"utf8\")\n",
    "print(\"수학 : 0\", file= score_file)\n",
    "print(\"영어 : 100\", file= score_file)\n",
    "score_file.close()"
   ]
  },
  {
   "cell_type": "code",
   "execution_count": 32,
   "metadata": {
    "tags": []
   },
   "outputs": [
    {
     "output_type": "stream",
     "name": "stdout",
     "text": "수학 : 0\n영어 : 100\n과학 : 80\n코딩 : 100\n"
    }
   ],
   "source": [
    "# 과학 점수와 코딩점수를 추가하자 append의 a 사용\n",
    "score_file = open(\"score.txt\", \"a\", encoding=\"utf8\")\n",
    "score_file.write(\"과학 : 80\")\n",
    "score_file.write(\"\\n코딩 : 100\")\n",
    "\n",
    "score_file = open(\"score.txt\", \"r\", encoding=\"utf8\")\n",
    "print(score_file.read())\n",
    "score_file.close()"
   ]
  },
  {
   "cell_type": "code",
   "execution_count": 41,
   "metadata": {
    "tags": []
   },
   "outputs": [
    {
     "output_type": "stream",
     "name": "stdout",
     "text": "수학 : 0\nhere\n\n영어 : 100\n\n과학 : 80\n\n코딩 : 100\n"
    }
   ],
   "source": [
    "score_file = open(\"score.txt\", \"r\", encoding=\"utf8\")\n",
    "print(score_file.readline(),end=\"\")\n",
    "print(\"here\\n\")\n",
    "# 줄 별로 읽기, 한 줄 읽고 커서는 다음 줄로 이동\n",
    "# 줄바꿈을 안하고 싶다면 end = \"\" 추가\n",
    "print(score_file.readline())\n",
    "print(score_file.readline())\n",
    "print(score_file.readline())\n",
    "score_file.close()"
   ]
  },
  {
   "cell_type": "code",
   "execution_count": 33,
   "metadata": {
    "tags": []
   },
   "outputs": [
    {
     "output_type": "stream",
     "name": "stdout",
     "text": "수학 : 0\n영어 : 100\n과학 : 80\n코딩 : 100"
    }
   ],
   "source": [
    "# R로 열고 각각의 line을 출력하다.\n",
    "score_file = open(\"score.txt\", \"r\", encoding=\"utf8\")\n",
    "while True:\n",
    "    line = score_file.readline()\n",
    "    if not line:\n",
    "        break\n",
    "    print(line, end=\"\")\n",
    "score_file.close()"
   ]
  },
  {
   "cell_type": "code",
   "execution_count": 42,
   "metadata": {
    "tags": []
   },
   "outputs": [
    {
     "output_type": "stream",
     "name": "stdout",
     "text": "수학 : 0\n영어 : 100\n과학 : 80\n코딩 : 100"
    }
   ],
   "source": [
    "score_file = open(\"score.txt\", \"r\", encoding= \"utf8\")\n",
    "lines = score_file.readlines()\n",
    "for line in lines:\n",
    "    print(line, end=\"\")\n",
    "    \n",
    "score_file.close()"
   ]
  },
  {
   "cell_type": "markdown",
   "metadata": {},
   "source": [
    "* Pickle\n",
    "\n",
    "        프로그램상에 사용하는 데이터를 파일로 저장하는 것\n",
    "        \n",
    "        다른 사람들도 피클을 이용해서 그 데이터를 사용할 수 있다."
   ]
  },
  {
   "cell_type": "code",
   "execution_count": 6,
   "metadata": {
    "tags": []
   },
   "outputs": [
    {
     "output_type": "stream",
     "name": "stdout",
     "text": "{'이름': '박명수', '나이': 30, '취미': ['축구', '골프', '코딩']}\n"
    }
   ],
   "source": [
    "import pickle\n",
    "profile_file = open(\"profile.pickle\", \"wb\") #w : write b : binary(필수로 적어야함), encoding 불필요\n",
    "profile = {\"이름\" : \"박명수\", \"나이\" : 30, \"취미\" : [\"축구\", \"골프\", \"코딩\"]}\n",
    "print(profile)\n",
    "pickle.dump(profile, profile_file) #profile에 있는 정보를 file에 저장\n",
    "profile_file.close()\n"
   ]
  },
  {
   "cell_type": "code",
   "execution_count": 8,
   "metadata": {
    "tags": []
   },
   "outputs": [
    {
     "output_type": "stream",
     "name": "stdout",
     "text": "{'이름': '박명수', '나이': 30, '취미': ['축구', '골프', '코딩']}\n"
    }
   ],
   "source": [
    "profile_file = open(\"profile.pickle\", \"rb\")\n",
    "profile = pickle.load(profile_file) # file에 있는 정보를 파이썬 상의 변수 profile에 저장\n",
    "print(profile)\n",
    "profile_file.close()"
   ]
  },
  {
   "cell_type": "markdown",
   "metadata": {},
   "source": [
    "* with\n",
    "\n",
    "        pickle 업이 활용할 수 있게 해준다. \n",
    "        \n",
    "        매번 close를 해줄 필요가 없어서 좋다."
   ]
  },
  {
   "cell_type": "code",
   "execution_count": 9,
   "metadata": {
    "tags": []
   },
   "outputs": [
    {
     "output_type": "stream",
     "name": "stdout",
     "text": "{'이름': '박명수', '나이': 30, '취미': ['축구', '골프', '코딩']}\n"
    }
   ],
   "source": [
    "import pickle\n",
    "with open(\"profile.pickle\", \"rb\") as profile_file:\n",
    "    print(pickle.load(profile_file))"
   ]
  },
  {
   "cell_type": "code",
   "execution_count": 10,
   "metadata": {
    "tags": []
   },
   "outputs": [
    {
     "output_type": "stream",
     "name": "stdout",
     "text": "파이썬을 열심히 공부하고 있어요\n"
    }
   ],
   "source": [
    "# 단 네 줄로 파일 읽고 쓰기\n",
    "with open(\"study.txt\", \"w\", encoding=\"utf8\") as study_file:\n",
    "    study_file.write(\"파이썬을 열심히 공부하고 있어요\")\n",
    "\n",
    "with open(\"study.txt\", \"r\", encoding=\"utf8\") as study_file:\n",
    "    print(study_file.read())"
   ]
  },
  {
   "cell_type": "code",
   "execution_count": 11,
   "metadata": {},
   "outputs": [],
   "source": [
    "'''\n",
    "Quiz 7)\n",
    "당신의 회사에서는 매주 1회 작성해야하는 보고서가 있습니다.\n",
    "보고서는 항상 아래와 같은 형태로 출력되어야한다.\n",
    "\n",
    "- X 주차 주간보고 -\n",
    "부서 : \n",
    "이름 : \n",
    "업무 요약 : \n",
    "\n",
    "1주차부터 50주차까지의 보고서 파일을 만드는 프로그램을 작서하시오.\n",
    "\n",
    "조건 : 파일명은 '1주차.txt', '2주차.txt', ... 와 같이 만듭니다.\n",
    "'''\n",
    "for i in range(1, 51):\n",
    "    with open(str(i).zfill(2) + \" 주차.txt\", \"w\", encoding=\"utf8\") as Weeckly_Report:\n",
    "        Weeckly_Report.write(\"- {0} 주차 주간보고 -\".format(i))\n",
    "        Weeckly_Report.write(\"부서 : \")\n",
    "        Weeckly_Report.write(\"이름 : \")\n",
    "        Weeckly_Report.write(\"업무 요약 : \")"
   ]
  },
  {
   "cell_type": "code",
   "execution_count": null,
   "metadata": {},
   "outputs": [],
   "source": []
  }
 ]
}