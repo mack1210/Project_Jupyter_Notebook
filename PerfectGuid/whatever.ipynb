{
 "metadata": {
  "language_info": {
   "codemirror_mode": {
    "name": "ipython",
    "version": 3
   },
   "file_extension": ".py",
   "mimetype": "text/x-python",
   "name": "python",
   "nbconvert_exporter": "python",
   "pygments_lexer": "ipython3",
   "version": "3.8.5-final"
  },
  "orig_nbformat": 2,
  "kernelspec": {
   "name": "python_defaultSpec_1599479690776",
   "display_name": "Python 3.8.5 64-bit ('base': conda)"
  }
 },
 "nbformat": 4,
 "nbformat_minor": 2,
 "cells": [
  {
   "cell_type": "code",
   "execution_count": null,
   "metadata": {},
   "outputs": [],
   "source": [
    "import pandas as pd"
   ]
  },
  {
   "cell_type": "code",
   "execution_count": null,
   "metadata": {
    "tags": []
   },
   "outputs": [],
   "source": [
    "bank_df = pd.read_csv('C:\\\\Users\\\\flowe\\\\OneDrive - San Francisco State University\\\\Project_Expert_GitHub\\\\Project_Python\\\\JupyterNotebookWorkingSpace\\\\PerfectGuid\\\\1장\\\\bank.csv')\n",
    "print(type(bank_df))"
   ]
  },
  {
   "cell_type": "code",
   "execution_count": null,
   "metadata": {},
   "outputs": [],
   "source": [
    "bank_df.head(20)"
   ]
  },
  {
   "cell_type": "code",
   "execution_count": null,
   "metadata": {
    "tags": []
   },
   "outputs": [],
   "source": [
    "print(\"columns:\", bank_df.columns)\n",
    "print(\"index:\",bank_df.index)\n",
    "print(\"index value:\", bank_d`f.index.values)"
   ]
  },
  {
   "cell_type": "code",
   "execution_count": null,
   "metadata": {
    "tags": []
   },
   "outputs": [],
   "source": [
    "print('DataFrame 크기 : ',bank_df.shape)"
   ]
  },
  {
   "cell_type": "code",
   "execution_count": null,
   "metadata": {
    "tags": []
   },
   "outputs": [],
   "source": [
    "bank_df.info()"
   ]
  },
  {
   "cell_type": "code",
   "execution_count": null,
   "metadata": {},
   "outputs": [],
   "source": [
    "bank_df.describe()"
   ]
  },
  {
   "cell_type": "code",
   "execution_count": null,
   "metadata": {
    "tags": []
   },
   "outputs": [],
   "source": [
    "value_counts = bank_df['age'].value_counts()\n",
    "print(value_counts)"
   ]
  },
  {
   "cell_type": "code",
   "execution_count": null,
   "metadata": {
    "tags": []
   },
   "outputs": [],
   "source": [
    "bank_age = bank_df['age']\n",
    "print(type(bank_age))"
   ]
  },
  {
   "cell_type": "code",
   "execution_count": null,
   "metadata": {},
   "outputs": [],
   "source": [
    "bank_age.head()"
   ]
  },
  {
   "cell_type": "code",
   "execution_count": null,
   "metadata": {},
   "outputs": [],
   "source": [
    "bank_df.sort_values(by = 'age', ascending = True)\n",
    "\n",
    "bank_df[['age', 'job', 'balance']].sort_values(by = ['age', 'balance'], ascending = [True, False])"
   ]
  },
  {
   "cell_type": "code",
   "execution_count": null,
   "metadata": {},
   "outputs": [],
   "source": [
    "import numpy as np\n",
    "\n",
    "bank_df['age_0'] = 0\n",
    "bank_df.head()\n"
   ]
  },
  {
   "cell_type": "code",
   "execution_count": null,
   "metadata": {},
   "outputs": [],
   "source": [
    "bank_df[\"age_0\"] = bank_df['age'] * 10\n",
    "bank_df.head()"
   ]
  },
  {
   "cell_type": "code",
   "execution_count": null,
   "metadata": {
    "tags": []
   },
   "outputs": [],
   "source": [
    "bank_drop_df = bank_df.drop('age_0', axis=1)\n",
    "bank_drop_df.head(3)\n",
    "bank_drop_df.info()"
   ]
  },
  {
   "cell_type": "code",
   "execution_count": null,
   "metadata": {
    "tags": []
   },
   "outputs": [],
   "source": [
    "bank_df = pd.read_csv('C:\\\\Users\\\\flowe\\\\OneDrive - San Francisco State University\\\\Project_Expert_GitHub\\\\Project_Python\\\\JupyterNotebookWorkingSpace\\\\PerfectGuid\\\\1장\\\\bank.csv')\n",
    "indexes = bank_df.index\n",
    "print(indexes.values)"
   ]
  },
  {
   "cell_type": "code",
   "execution_count": null,
   "metadata": {
    "tags": []
   },
   "outputs": [],
   "source": [
    "print(type(indexes.values))\n",
    "print(indexes.values.shape)\n",
    "print(indexes[:5].values)\n",
    "print(indexes.values[:5])\n",
    "print(indexes[6])"
   ]
  },
  {
   "cell_type": "code",
   "execution_count": null,
   "metadata": {},
   "outputs": [],
   "source": [
    "series_balance = bank_df['balance']\n",
    "series_balance.head(5)"
   ]
  },
  {
   "cell_type": "code",
   "execution_count": null,
   "metadata": {
    "tags": []
   },
   "outputs": [],
   "source": [
    "print('balance Series max 값:', series_balance.max())\n",
    "print('balance Series sum 값:', series_balance.sum())\n",
    "print('sum() balance Series:', sum(series_balance))\n",
    "print('balance Series + 3:\\n',(series_balance + 3).head(3) )"
   ]
  },
  {
   "cell_type": "code",
   "execution_count": null,
   "metadata": {},
   "outputs": [],
   "source": [
    "bank_reset_df = bank_df.reset_index(inplace = False)\n",
    "bank_reset_df.head(3)"
   ]
  },
  {
   "cell_type": "code",
   "execution_count": null,
   "metadata": {},
   "outputs": [],
   "source": [
    "bank_reset_df.shape"
   ]
  },
  {
   "cell_type": "code",
   "execution_count": null,
   "metadata": {
    "tags": []
   },
   "outputs": [],
   "source": [
    "bank_df[ bank_df['age'] == 20 ].head(3)"
   ]
  },
  {
   "cell_type": "code",
   "execution_count": null,
   "metadata": {
    "tags": []
   },
   "outputs": [],
   "source": [
    "bank_bool = bank_df[bank_df['age'] == 18]\n",
    "print(type(bank_bool))\n",
    "bank_bool"
   ]
  },
  {
   "cell_type": "code",
   "execution_count": null,
   "metadata": {
    "tags": []
   },
   "outputs": [],
   "source": [
    "bank_df['age'] <= 20\n",
    "var1 = bank_df['age'] <= 20\n",
    "print(var1)\n",
    "print(type(var1))"
   ]
  },
  {
   "cell_type": "code",
   "execution_count": null,
   "metadata": {},
   "outputs": [],
   "source": [
    "bank_df[bank_df['age'] <= 20][ ['age', 'job', 'balance'] ].head(10)"
   ]
  },
  {
   "cell_type": "code",
   "execution_count": null,
   "metadata": {},
   "outputs": [],
   "source": [
    "bank_df.loc[(bank_df['age'] <= 24) & (bank_df['job'] != 'student'), ['age', 'job', 'balance']].head(10)"
   ]
  },
  {
   "cell_type": "code",
   "execution_count": null,
   "metadata": {},
   "outputs": [],
   "source": [
    "bank_df.count()"
   ]
  },
  {
   "cell_type": "code",
   "execution_count": null,
   "metadata": {},
   "outputs": [],
   "source": [
    "bank_df[['age', 'balance']].mean(axis=0)"
   ]
  },
  {
   "cell_type": "code",
   "execution_count": null,
   "metadata": {},
   "outputs": [],
   "source": [
    "bank_df[['age', 'balance']].mean()"
   ]
  },
  {
   "cell_type": "code",
   "execution_count": null,
   "metadata": {},
   "outputs": [],
   "source": [
    "bank_df[['age', 'balance']].sum(axis=0)"
   ]
  },
  {
   "cell_type": "code",
   "execution_count": null,
   "metadata": {
    "tags": []
   },
   "outputs": [],
   "source": [
    "bank_groupby = bank_df.groupby(by = 'job')\n",
    "print(type(bank_groupby))\n",
    "print(bank_groupby)"
   ]
  },
  {
   "cell_type": "code",
   "execution_count": null,
   "metadata": {},
   "outputs": [],
   "source": [
    "bank_groupby = bank_df.groupby('job').median()\n",
    "bank_groupby"
   ]
  },
  {
   "cell_type": "code",
   "execution_count": null,
   "metadata": {
    "tags": []
   },
   "outputs": [],
   "source": [
    "print(type(bank_groupby))\n",
    "print(bank_groupby.shape)\n",
    "print(bank_groupby.index)"
   ]
  },
  {
   "cell_type": "code",
   "execution_count": 15,
   "metadata": {},
   "outputs": [
    {
     "output_type": "execute_result",
     "data": {
      "text/plain": "                     age      balance\njob                                  \nadmin.         39.374063  1195.866567\nblue-collar    39.505144  1203.926440\nentrepreneur   42.887195  1621.942073\nhousemaid      47.445255  1366.160584\nmanagement     40.218239  1793.663679\nretired        65.424165  2417.250643\nself-employed  39.809877  1865.372840\nservices       38.141928  1081.171181\nstudent        26.102778  1500.783333\ntechnician     39.001646  1556.294569\nunemployed     40.997199  1314.719888\nunknown        46.857143  1945.457143",
      "text/html": "<div>\n<style scoped>\n    .dataframe tbody tr th:only-of-type {\n        vertical-align: middle;\n    }\n\n    .dataframe tbody tr th {\n        vertical-align: top;\n    }\n\n    .dataframe thead th {\n        text-align: right;\n    }\n</style>\n<table border=\"1\" class=\"dataframe\">\n  <thead>\n    <tr style=\"text-align: right;\">\n      <th></th>\n      <th>age</th>\n      <th>balance</th>\n    </tr>\n    <tr>\n      <th>job</th>\n      <th></th>\n      <th></th>\n    </tr>\n  </thead>\n  <tbody>\n    <tr>\n      <th>admin.</th>\n      <td>39.374063</td>\n      <td>1195.866567</td>\n    </tr>\n    <tr>\n      <th>blue-collar</th>\n      <td>39.505144</td>\n      <td>1203.926440</td>\n    </tr>\n    <tr>\n      <th>entrepreneur</th>\n      <td>42.887195</td>\n      <td>1621.942073</td>\n    </tr>\n    <tr>\n      <th>housemaid</th>\n      <td>47.445255</td>\n      <td>1366.160584</td>\n    </tr>\n    <tr>\n      <th>management</th>\n      <td>40.218239</td>\n      <td>1793.663679</td>\n    </tr>\n    <tr>\n      <th>retired</th>\n      <td>65.424165</td>\n      <td>2417.250643</td>\n    </tr>\n    <tr>\n      <th>self-employed</th>\n      <td>39.809877</td>\n      <td>1865.372840</td>\n    </tr>\n    <tr>\n      <th>services</th>\n      <td>38.141928</td>\n      <td>1081.171181</td>\n    </tr>\n    <tr>\n      <th>student</th>\n      <td>26.102778</td>\n      <td>1500.783333</td>\n    </tr>\n    <tr>\n      <th>technician</th>\n      <td>39.001646</td>\n      <td>1556.294569</td>\n    </tr>\n    <tr>\n      <th>unemployed</th>\n      <td>40.997199</td>\n      <td>1314.719888</td>\n    </tr>\n    <tr>\n      <th>unknown</th>\n      <td>46.857143</td>\n      <td>1945.457143</td>\n    </tr>\n  </tbody>\n</table>\n</div>"
     },
     "metadata": {},
     "execution_count": 15
    }
   ],
   "source": [
    "bank_groupby = bank_df.groupby(by = 'job')[['age', 'balance']].mean()\n",
    "bank_groupby"
   ]
  },
  {
   "cell_type": "code",
   "execution_count": null,
   "metadata": {},
   "outputs": [],
   "source": [
    "bank_df.groupby('job')['age', 'balance'].agg([min, max])"
   ]
  },
  {
   "cell_type": "code",
   "execution_count": null,
   "metadata": {},
   "outputs": [],
   "source": [
    "agg_format = {'age' : ['min', 'max'], 'balance' : 'mean'}\n",
    "bank_df.groupby('job').agg(agg_format)a"
   ]
  },
  {
   "cell_type": "code",
   "execution_count": null,
   "metadata": {},
   "outputs": [],
   "source": [
    "bank_df.isna().head(3)"
   ]
  },
  {
   "cell_type": "code",
   "execution_count": null,
   "metadata": {},
   "outputs": [],
   "source": [
    "bank_df.isna().sum()"
   ]
  },
  {
   "cell_type": "code",
   "execution_count": null,
   "metadata": {
    "tags": []
   },
   "outputs": [],
   "source": [
    "lambda_square = lambda x : x**2\n",
    "print('3의 제곱은 : ', lambda_square(3))"
   ]
  },
  {
   "cell_type": "code",
   "execution_count": null,
   "metadata": {},
   "outputs": [],
   "source": [
    "bank_df['job_len'] = bank_df['job'].apply(lambda x : len(x))\n",
    "bank_df[['job', 'job_len']].head(3)"
   ]
  },
  {
   "cell_type": "code",
   "execution_count": null,
   "metadata": {},
   "outputs": [],
   "source": [
    "def get_category(age):\n",
    "    cat = ''\n",
    "    if age <= 19: cat = 'Teenager'\n",
    "    elif age <= 26: cat = 'Student'\n",
    "    elif age <= 35: cat = 'Young Adult'\n",
    "    elif age <= 59: cat = 'Adult'\n",
    "    else : cat = 'Elderly'\n",
    "    \n",
    "    return cat\n",
    "\n",
    "bank_df['age_cat'] = bank_df['age'].apply(lambda x : get_category(x))\n",
    "bank_df[['age', 'age_cat']].head(10)"
   ]
  },
  {
   "cell_type": "code",
   "execution_count": null,
   "metadata": {
    "tags": []
   },
   "outputs": [],
   "source": [
    "from sklearn.datasets import load_iris\n",
    "from sklearn.tree import DecisionTreeClassifier\n",
    "from sklearn.metrics import accuracy_score\n",
    "\n",
    "iris = load_iris()\n",
    "dt_clf = DecisionTreeClassifier()\n",
    "train_data = iris.data\n",
    "train_label = iris.target\n",
    "dt_clf.fit(train_data, train_label)\n",
    "\n",
    "# 학습 데이터 셋으로 예측 수행\n",
    "pred = dt_clf.predict(train_data)\n",
    "print('예측 정확도:',accuracy_score(train_label,pred))"
   ]
  },
  {
   "cell_type": "code",
   "execution_count": null,
   "metadata": {},
   "outputs": [],
   "source": [
    "from sklearn.datasets import load_iris\n",
    "from sklearn.tree import DecisionTreeClassifier\n",
    "from sklearn.metrics import accuracy_score\n",
    "from sklearn.model_selection import train_test_split\n",
    "\n",
    "dt_clf = DecisionTreeClassifier( )\n",
    "iris_data = load_iris()\n",
    "\n",
    "X_train, X_test, y_train, y_test = train_test_split(iris_data.data, iris_data.target, \n",
    "                                                    test_size=0.3, random_state=121)"
   ]
  },
  {
   "cell_type": "code",
   "execution_count": null,
   "metadata": {
    "tags": []
   },
   "outputs": [],
   "source": [
    "dt_clf.fit(X_train, y_train)\n",
    "pred = dt_clf.predict(X_test)\n",
    "print('예측 정확도: {0:.4f}'.format(accuracy_score(y_test,pred)))"
   ]
  },
  {
   "cell_type": "code",
   "execution_count": null,
   "metadata": {},
   "outputs": [],
   "source": [
    "import pandas as pd\n",
    "\n",
    "iris_df = pd.DataFrame(iris_data.data, columns=iris_data.feature_names)\n",
    "iris_df['target']=iris_data.target\n",
    "iris_df.head()"
   ]
  },
  {
   "cell_type": "code",
   "execution_count": null,
   "metadata": {},
   "outputs": [],
   "source": [
    "ftr_df = iris_df.iloc[:, :-1] # 행 전체 and target을 빼고 슬라이싱\n",
    "tgt_df = iris_df.iloc[:, -1] # 행 전체 and target만 슬라이싱\n",
    "X_train, X_test, y_train, y_test = train_test_split(ftr_df, tgt_df, \n",
    "                                                    test_size=0.3, random_state=121)"
   ]
  },
  {
   "cell_type": "code",
   "execution_count": 8,
   "metadata": {},
   "outputs": [],
   "source": [
    "import numpy as np\n",
    "import pandas as pd"
   ]
  },
  {
   "cell_type": "code",
   "execution_count": 9,
   "metadata": {
    "tags": []
   },
   "outputs": [
    {
     "output_type": "stream",
     "name": "stdout",
     "text": "<class 'pandas.core.frame.DataFrame'>\n"
    }
   ],
   "source": [
    "from sklearn.datasets import load_iris\n",
    "from sklearn.tree import DecisionTreeClassifier\n",
    "from sklearn.metrics import accuracy_score\n",
    "from sklearn.model_selection import train_test_split\n",
    "\n",
    "dt_clf = DecisionTreeClassifier( )\n",
    "bank_df = pd.read_csv('C:\\\\Users\\\\flowe\\\\OneDrive - San Francisco State University\\\\Project_Expert_GitHub\\\\Project_Python\\\\JupyterNotebookWorkingSpace\\\\PerfectGuid\\\\1장\\\\bank.csv')\n",
    "print(type(bank_df))"
   ]
  },
  {
   "cell_type": "code",
   "execution_count": 22,
   "metadata": {
    "tags": []
   },
   "outputs": [
    {
     "output_type": "execute_result",
     "data": {
      "text/plain": "       age          job  marital  education default  balance housing loan  \\\n0       59       admin.  married  secondary      no     2343     yes   no   \n1       56       admin.  married  secondary      no       45      no   no   \n2       41   technician  married  secondary      no     1270     yes   no   \n3       55     services  married  secondary      no     2476     yes   no   \n4       54       admin.  married   tertiary      no      184      no   no   \n...    ...          ...      ...        ...     ...      ...     ...  ...   \n11157   33  blue-collar   single    primary      no        1     yes   no   \n11158   39     services  married  secondary      no      733      no   no   \n11159   32   technician   single  secondary      no       29      no   no   \n11160   43   technician  married  secondary      no        0      no  yes   \n11161   34   technician  married  secondary      no        0      no   no   \n\n        contact  day month  duration  campaign  pdays  previous poutcome  \\\n0       unknown    5   may      1042         1     -1         0  unknown   \n1       unknown    5   may      1467         1     -1         0  unknown   \n2       unknown    5   may      1389         1     -1         0  unknown   \n3       unknown    5   may       579         1     -1         0  unknown   \n4       unknown    5   may       673         2     -1         0  unknown   \n...         ...  ...   ...       ...       ...    ...       ...      ...   \n11157  cellular   20   apr       257         1     -1         0  unknown   \n11158   unknown   16   jun        83         4     -1         0  unknown   \n11159  cellular   19   aug       156         2     -1         0  unknown   \n11160  cellular    8   may         9         2    172         5  failure   \n11161  cellular    9   jul       628         1     -1         0  unknown   \n\n      deposit  \n0         yes  \n1         yes  \n2         yes  \n3         yes  \n4         yes  \n...       ...  \n11157      no  \n11158      no  \n11159      no  \n11160      no  \n11161      no  \n\n[11162 rows x 17 columns]",
      "text/html": "<div>\n<style scoped>\n    .dataframe tbody tr th:only-of-type {\n        vertical-align: middle;\n    }\n\n    .dataframe tbody tr th {\n        vertical-align: top;\n    }\n\n    .dataframe thead th {\n        text-align: right;\n    }\n</style>\n<table border=\"1\" class=\"dataframe\">\n  <thead>\n    <tr style=\"text-align: right;\">\n      <th></th>\n      <th>age</th>\n      <th>job</th>\n      <th>marital</th>\n      <th>education</th>\n      <th>default</th>\n      <th>balance</th>\n      <th>housing</th>\n      <th>loan</th>\n      <th>contact</th>\n      <th>day</th>\n      <th>month</th>\n      <th>duration</th>\n      <th>campaign</th>\n      <th>pdays</th>\n      <th>previous</th>\n      <th>poutcome</th>\n      <th>deposit</th>\n    </tr>\n  </thead>\n  <tbody>\n    <tr>\n      <th>0</th>\n      <td>59</td>\n      <td>admin.</td>\n      <td>married</td>\n      <td>secondary</td>\n      <td>no</td>\n      <td>2343</td>\n      <td>yes</td>\n      <td>no</td>\n      <td>unknown</td>\n      <td>5</td>\n      <td>may</td>\n      <td>1042</td>\n      <td>1</td>\n      <td>-1</td>\n      <td>0</td>\n      <td>unknown</td>\n      <td>yes</td>\n    </tr>\n    <tr>\n      <th>1</th>\n      <td>56</td>\n      <td>admin.</td>\n      <td>married</td>\n      <td>secondary</td>\n      <td>no</td>\n      <td>45</td>\n      <td>no</td>\n      <td>no</td>\n      <td>unknown</td>\n      <td>5</td>\n      <td>may</td>\n      <td>1467</td>\n      <td>1</td>\n      <td>-1</td>\n      <td>0</td>\n      <td>unknown</td>\n      <td>yes</td>\n    </tr>\n    <tr>\n      <th>2</th>\n      <td>41</td>\n      <td>technician</td>\n      <td>married</td>\n      <td>secondary</td>\n      <td>no</td>\n      <td>1270</td>\n      <td>yes</td>\n      <td>no</td>\n      <td>unknown</td>\n      <td>5</td>\n      <td>may</td>\n      <td>1389</td>\n      <td>1</td>\n      <td>-1</td>\n      <td>0</td>\n      <td>unknown</td>\n      <td>yes</td>\n    </tr>\n    <tr>\n      <th>3</th>\n      <td>55</td>\n      <td>services</td>\n      <td>married</td>\n      <td>secondary</td>\n      <td>no</td>\n      <td>2476</td>\n      <td>yes</td>\n      <td>no</td>\n      <td>unknown</td>\n      <td>5</td>\n      <td>may</td>\n      <td>579</td>\n      <td>1</td>\n      <td>-1</td>\n      <td>0</td>\n      <td>unknown</td>\n      <td>yes</td>\n    </tr>\n    <tr>\n      <th>4</th>\n      <td>54</td>\n      <td>admin.</td>\n      <td>married</td>\n      <td>tertiary</td>\n      <td>no</td>\n      <td>184</td>\n      <td>no</td>\n      <td>no</td>\n      <td>unknown</td>\n      <td>5</td>\n      <td>may</td>\n      <td>673</td>\n      <td>2</td>\n      <td>-1</td>\n      <td>0</td>\n      <td>unknown</td>\n      <td>yes</td>\n    </tr>\n    <tr>\n      <th>...</th>\n      <td>...</td>\n      <td>...</td>\n      <td>...</td>\n      <td>...</td>\n      <td>...</td>\n      <td>...</td>\n      <td>...</td>\n      <td>...</td>\n      <td>...</td>\n      <td>...</td>\n      <td>...</td>\n      <td>...</td>\n      <td>...</td>\n      <td>...</td>\n      <td>...</td>\n      <td>...</td>\n      <td>...</td>\n    </tr>\n    <tr>\n      <th>11157</th>\n      <td>33</td>\n      <td>blue-collar</td>\n      <td>single</td>\n      <td>primary</td>\n      <td>no</td>\n      <td>1</td>\n      <td>yes</td>\n      <td>no</td>\n      <td>cellular</td>\n      <td>20</td>\n      <td>apr</td>\n      <td>257</td>\n      <td>1</td>\n      <td>-1</td>\n      <td>0</td>\n      <td>unknown</td>\n      <td>no</td>\n    </tr>\n    <tr>\n      <th>11158</th>\n      <td>39</td>\n      <td>services</td>\n      <td>married</td>\n      <td>secondary</td>\n      <td>no</td>\n      <td>733</td>\n      <td>no</td>\n      <td>no</td>\n      <td>unknown</td>\n      <td>16</td>\n      <td>jun</td>\n      <td>83</td>\n      <td>4</td>\n      <td>-1</td>\n      <td>0</td>\n      <td>unknown</td>\n      <td>no</td>\n    </tr>\n    <tr>\n      <th>11159</th>\n      <td>32</td>\n      <td>technician</td>\n      <td>single</td>\n      <td>secondary</td>\n      <td>no</td>\n      <td>29</td>\n      <td>no</td>\n      <td>no</td>\n      <td>cellular</td>\n      <td>19</td>\n      <td>aug</td>\n      <td>156</td>\n      <td>2</td>\n      <td>-1</td>\n      <td>0</td>\n      <td>unknown</td>\n      <td>no</td>\n    </tr>\n    <tr>\n      <th>11160</th>\n      <td>43</td>\n      <td>technician</td>\n      <td>married</td>\n      <td>secondary</td>\n      <td>no</td>\n      <td>0</td>\n      <td>no</td>\n      <td>yes</td>\n      <td>cellular</td>\n      <td>8</td>\n      <td>may</td>\n      <td>9</td>\n      <td>2</td>\n      <td>172</td>\n      <td>5</td>\n      <td>failure</td>\n      <td>no</td>\n    </tr>\n    <tr>\n      <th>11161</th>\n      <td>34</td>\n      <td>technician</td>\n      <td>married</td>\n      <td>secondary</td>\n      <td>no</td>\n      <td>0</td>\n      <td>no</td>\n      <td>no</td>\n      <td>cellular</td>\n      <td>9</td>\n      <td>jul</td>\n      <td>628</td>\n      <td>1</td>\n      <td>-1</td>\n      <td>0</td>\n      <td>unknown</td>\n      <td>no</td>\n    </tr>\n  </tbody>\n</table>\n<p>11162 rows × 17 columns</p>\n</div>"
     },
     "metadata": {},
     "execution_count": 22
    }
   ],
   "source": [
    "bank_df"
   ]
  },
  {
   "cell_type": "code",
   "execution_count": 1,
   "metadata": {
    "tags": []
   },
   "outputs": [
    {
     "output_type": "stream",
     "name": "stdout",
     "text": "인코딩 변환값: [0 1 4 5 3 3 2 2]\n"
    }
   ],
   "source": [
    "from sklearn.preprocessing import LabelEncoder\n",
    "\n",
    "items=['TV','냉장고','전자렌지','컴퓨터','선풍기','선풍기','믹서','믹서']\n",
    "\n",
    "encoder = LabelEncoder()\n",
    "encoder.fit(items)\n",
    "labels = encoder.transform(items)\n",
    "print('인코딩 변환값:',labels)"
   ]
  },
  {
   "cell_type": "code",
   "execution_count": 3,
   "metadata": {
    "tags": []
   },
   "outputs": [
    {
     "output_type": "stream",
     "name": "stdout",
     "text": "['TV' '냉장고' '믹서' '선풍기' '전자렌지' '컴퓨터']\n"
    }
   ],
   "source": [
    "print(encoder.classes_)"
   ]
  },
  {
   "cell_type": "code",
   "execution_count": 5,
   "metadata": {
    "tags": []
   },
   "outputs": [
    {
     "output_type": "stream",
     "name": "stdout",
     "text": "['컴퓨터' '전자렌지' '선풍기' '믹서' '냉장고']\n"
    }
   ],
   "source": [
    "print(encoder.inverse_transform([5,4,3,2,1]))"
   ]
  },
  {
   "cell_type": "code",
   "execution_count": null,
   "metadata": {},
   "outputs": [],
   "source": []
  }
 ]
}