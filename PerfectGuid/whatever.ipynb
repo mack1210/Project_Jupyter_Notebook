{
 "metadata": {
  "language_info": {
   "codemirror_mode": {
    "name": "ipython",
    "version": 3
   },
   "file_extension": ".py",
   "mimetype": "text/x-python",
   "name": "python",
   "nbconvert_exporter": "python",
   "pygments_lexer": "ipython3",
   "version": "3.8.5-final"
  },
  "orig_nbformat": 2,
  "kernelspec": {
   "name": "python_defaultSpec_1599270350899",
   "display_name": "Python 3.8.5 64-bit ('base': conda)"
  }
 },
 "nbformat": 4,
 "nbformat_minor": 2,
 "cells": [
  {
   "cell_type": "code",
   "execution_count": 1,
   "metadata": {},
   "outputs": [],
   "source": [
    "import pandas as pd"
   ]
  },
  {
   "cell_type": "code",
   "execution_count": 2,
   "metadata": {
    "tags": []
   },
   "outputs": [
    {
     "output_type": "stream",
     "name": "stdout",
     "text": "<class 'pandas.core.frame.DataFrame'>\n"
    }
   ],
   "source": [
    "bank_df = pd.read_csv('C:\\\\Users\\\\flowe\\\\OneDrive - San Francisco State University\\\\Project_Expert_GitHub\\\\Project_Python\\\\JupyterNotebookWorkingSpace\\\\PerfectGuid\\\\1장\\\\bank.csv')\n",
    "print(type(bank_df))"
   ]
  },
  {
   "cell_type": "code",
   "execution_count": 3,
   "metadata": {},
   "outputs": [
    {
     "output_type": "execute_result",
     "data": {
      "text/plain": "    age          job   marital  education default  balance housing loan  \\\n0    59       admin.   married  secondary      no     2343     yes   no   \n1    56       admin.   married  secondary      no       45      no   no   \n2    41   technician   married  secondary      no     1270     yes   no   \n3    55     services   married  secondary      no     2476     yes   no   \n4    54       admin.   married   tertiary      no      184      no   no   \n5    42   management    single   tertiary      no        0     yes  yes   \n6    56   management   married   tertiary      no      830     yes  yes   \n7    60      retired  divorced  secondary      no      545     yes   no   \n8    37   technician   married  secondary      no        1     yes   no   \n9    28     services    single  secondary      no     5090     yes   no   \n10   38       admin.    single  secondary      no      100     yes   no   \n11   30  blue-collar   married  secondary      no      309     yes   no   \n12   29   management   married   tertiary      no      199     yes  yes   \n13   46  blue-collar    single   tertiary      no      460     yes   no   \n14   31   technician    single   tertiary      no      703     yes   no   \n15   35   management  divorced   tertiary      no     3837     yes   no   \n16   32  blue-collar    single    primary      no      611     yes   no   \n17   49     services   married  secondary      no       -8     yes   no   \n18   41       admin.   married  secondary      no       55     yes   no   \n19   49       admin.  divorced  secondary      no      168     yes  yes   \n\n    contact  day month  duration  campaign  pdays  previous poutcome deposit  \n0   unknown    5   may      1042         1     -1         0  unknown     yes  \n1   unknown    5   may      1467         1     -1         0  unknown     yes  \n2   unknown    5   may      1389         1     -1         0  unknown     yes  \n3   unknown    5   may       579         1     -1         0  unknown     yes  \n4   unknown    5   may       673         2     -1         0  unknown     yes  \n5   unknown    5   may       562         2     -1         0  unknown     yes  \n6   unknown    6   may      1201         1     -1         0  unknown     yes  \n7   unknown    6   may      1030         1     -1         0  unknown     yes  \n8   unknown    6   may       608         1     -1         0  unknown     yes  \n9   unknown    6   may      1297         3     -1         0  unknown     yes  \n10  unknown    7   may       786         1     -1         0  unknown     yes  \n11  unknown    7   may      1574         2     -1         0  unknown     yes  \n12  unknown    7   may      1689         4     -1         0  unknown     yes  \n13  unknown    7   may      1102         2     -1         0  unknown     yes  \n14  unknown    8   may       943         2     -1         0  unknown     yes  \n15  unknown    8   may      1084         1     -1         0  unknown     yes  \n16  unknown    8   may       541         3     -1         0  unknown     yes  \n17  unknown    8   may      1119         1     -1         0  unknown     yes  \n18  unknown    8   may      1120         2     -1         0  unknown     yes  \n19  unknown    8   may       513         1     -1         0  unknown     yes  ",
      "text/html": "<div>\n<style scoped>\n    .dataframe tbody tr th:only-of-type {\n        vertical-align: middle;\n    }\n\n    .dataframe tbody tr th {\n        vertical-align: top;\n    }\n\n    .dataframe thead th {\n        text-align: right;\n    }\n</style>\n<table border=\"1\" class=\"dataframe\">\n  <thead>\n    <tr style=\"text-align: right;\">\n      <th></th>\n      <th>age</th>\n      <th>job</th>\n      <th>marital</th>\n      <th>education</th>\n      <th>default</th>\n      <th>balance</th>\n      <th>housing</th>\n      <th>loan</th>\n      <th>contact</th>\n      <th>day</th>\n      <th>month</th>\n      <th>duration</th>\n      <th>campaign</th>\n      <th>pdays</th>\n      <th>previous</th>\n      <th>poutcome</th>\n      <th>deposit</th>\n    </tr>\n  </thead>\n  <tbody>\n    <tr>\n      <th>0</th>\n      <td>59</td>\n      <td>admin.</td>\n      <td>married</td>\n      <td>secondary</td>\n      <td>no</td>\n      <td>2343</td>\n      <td>yes</td>\n      <td>no</td>\n      <td>unknown</td>\n      <td>5</td>\n      <td>may</td>\n      <td>1042</td>\n      <td>1</td>\n      <td>-1</td>\n      <td>0</td>\n      <td>unknown</td>\n      <td>yes</td>\n    </tr>\n    <tr>\n      <th>1</th>\n      <td>56</td>\n      <td>admin.</td>\n      <td>married</td>\n      <td>secondary</td>\n      <td>no</td>\n      <td>45</td>\n      <td>no</td>\n      <td>no</td>\n      <td>unknown</td>\n      <td>5</td>\n      <td>may</td>\n      <td>1467</td>\n      <td>1</td>\n      <td>-1</td>\n      <td>0</td>\n      <td>unknown</td>\n      <td>yes</td>\n    </tr>\n    <tr>\n      <th>2</th>\n      <td>41</td>\n      <td>technician</td>\n      <td>married</td>\n      <td>secondary</td>\n      <td>no</td>\n      <td>1270</td>\n      <td>yes</td>\n      <td>no</td>\n      <td>unknown</td>\n      <td>5</td>\n      <td>may</td>\n      <td>1389</td>\n      <td>1</td>\n      <td>-1</td>\n      <td>0</td>\n      <td>unknown</td>\n      <td>yes</td>\n    </tr>\n    <tr>\n      <th>3</th>\n      <td>55</td>\n      <td>services</td>\n      <td>married</td>\n      <td>secondary</td>\n      <td>no</td>\n      <td>2476</td>\n      <td>yes</td>\n      <td>no</td>\n      <td>unknown</td>\n      <td>5</td>\n      <td>may</td>\n      <td>579</td>\n      <td>1</td>\n      <td>-1</td>\n      <td>0</td>\n      <td>unknown</td>\n      <td>yes</td>\n    </tr>\n    <tr>\n      <th>4</th>\n      <td>54</td>\n      <td>admin.</td>\n      <td>married</td>\n      <td>tertiary</td>\n      <td>no</td>\n      <td>184</td>\n      <td>no</td>\n      <td>no</td>\n      <td>unknown</td>\n      <td>5</td>\n      <td>may</td>\n      <td>673</td>\n      <td>2</td>\n      <td>-1</td>\n      <td>0</td>\n      <td>unknown</td>\n      <td>yes</td>\n    </tr>\n    <tr>\n      <th>5</th>\n      <td>42</td>\n      <td>management</td>\n      <td>single</td>\n      <td>tertiary</td>\n      <td>no</td>\n      <td>0</td>\n      <td>yes</td>\n      <td>yes</td>\n      <td>unknown</td>\n      <td>5</td>\n      <td>may</td>\n      <td>562</td>\n      <td>2</td>\n      <td>-1</td>\n      <td>0</td>\n      <td>unknown</td>\n      <td>yes</td>\n    </tr>\n    <tr>\n      <th>6</th>\n      <td>56</td>\n      <td>management</td>\n      <td>married</td>\n      <td>tertiary</td>\n      <td>no</td>\n      <td>830</td>\n      <td>yes</td>\n      <td>yes</td>\n      <td>unknown</td>\n      <td>6</td>\n      <td>may</td>\n      <td>1201</td>\n      <td>1</td>\n      <td>-1</td>\n      <td>0</td>\n      <td>unknown</td>\n      <td>yes</td>\n    </tr>\n    <tr>\n      <th>7</th>\n      <td>60</td>\n      <td>retired</td>\n      <td>divorced</td>\n      <td>secondary</td>\n      <td>no</td>\n      <td>545</td>\n      <td>yes</td>\n      <td>no</td>\n      <td>unknown</td>\n      <td>6</td>\n      <td>may</td>\n      <td>1030</td>\n      <td>1</td>\n      <td>-1</td>\n      <td>0</td>\n      <td>unknown</td>\n      <td>yes</td>\n    </tr>\n    <tr>\n      <th>8</th>\n      <td>37</td>\n      <td>technician</td>\n      <td>married</td>\n      <td>secondary</td>\n      <td>no</td>\n      <td>1</td>\n      <td>yes</td>\n      <td>no</td>\n      <td>unknown</td>\n      <td>6</td>\n      <td>may</td>\n      <td>608</td>\n      <td>1</td>\n      <td>-1</td>\n      <td>0</td>\n      <td>unknown</td>\n      <td>yes</td>\n    </tr>\n    <tr>\n      <th>9</th>\n      <td>28</td>\n      <td>services</td>\n      <td>single</td>\n      <td>secondary</td>\n      <td>no</td>\n      <td>5090</td>\n      <td>yes</td>\n      <td>no</td>\n      <td>unknown</td>\n      <td>6</td>\n      <td>may</td>\n      <td>1297</td>\n      <td>3</td>\n      <td>-1</td>\n      <td>0</td>\n      <td>unknown</td>\n      <td>yes</td>\n    </tr>\n    <tr>\n      <th>10</th>\n      <td>38</td>\n      <td>admin.</td>\n      <td>single</td>\n      <td>secondary</td>\n      <td>no</td>\n      <td>100</td>\n      <td>yes</td>\n      <td>no</td>\n      <td>unknown</td>\n      <td>7</td>\n      <td>may</td>\n      <td>786</td>\n      <td>1</td>\n      <td>-1</td>\n      <td>0</td>\n      <td>unknown</td>\n      <td>yes</td>\n    </tr>\n    <tr>\n      <th>11</th>\n      <td>30</td>\n      <td>blue-collar</td>\n      <td>married</td>\n      <td>secondary</td>\n      <td>no</td>\n      <td>309</td>\n      <td>yes</td>\n      <td>no</td>\n      <td>unknown</td>\n      <td>7</td>\n      <td>may</td>\n      <td>1574</td>\n      <td>2</td>\n      <td>-1</td>\n      <td>0</td>\n      <td>unknown</td>\n      <td>yes</td>\n    </tr>\n    <tr>\n      <th>12</th>\n      <td>29</td>\n      <td>management</td>\n      <td>married</td>\n      <td>tertiary</td>\n      <td>no</td>\n      <td>199</td>\n      <td>yes</td>\n      <td>yes</td>\n      <td>unknown</td>\n      <td>7</td>\n      <td>may</td>\n      <td>1689</td>\n      <td>4</td>\n      <td>-1</td>\n      <td>0</td>\n      <td>unknown</td>\n      <td>yes</td>\n    </tr>\n    <tr>\n      <th>13</th>\n      <td>46</td>\n      <td>blue-collar</td>\n      <td>single</td>\n      <td>tertiary</td>\n      <td>no</td>\n      <td>460</td>\n      <td>yes</td>\n      <td>no</td>\n      <td>unknown</td>\n      <td>7</td>\n      <td>may</td>\n      <td>1102</td>\n      <td>2</td>\n      <td>-1</td>\n      <td>0</td>\n      <td>unknown</td>\n      <td>yes</td>\n    </tr>\n    <tr>\n      <th>14</th>\n      <td>31</td>\n      <td>technician</td>\n      <td>single</td>\n      <td>tertiary</td>\n      <td>no</td>\n      <td>703</td>\n      <td>yes</td>\n      <td>no</td>\n      <td>unknown</td>\n      <td>8</td>\n      <td>may</td>\n      <td>943</td>\n      <td>2</td>\n      <td>-1</td>\n      <td>0</td>\n      <td>unknown</td>\n      <td>yes</td>\n    </tr>\n    <tr>\n      <th>15</th>\n      <td>35</td>\n      <td>management</td>\n      <td>divorced</td>\n      <td>tertiary</td>\n      <td>no</td>\n      <td>3837</td>\n      <td>yes</td>\n      <td>no</td>\n      <td>unknown</td>\n      <td>8</td>\n      <td>may</td>\n      <td>1084</td>\n      <td>1</td>\n      <td>-1</td>\n      <td>0</td>\n      <td>unknown</td>\n      <td>yes</td>\n    </tr>\n    <tr>\n      <th>16</th>\n      <td>32</td>\n      <td>blue-collar</td>\n      <td>single</td>\n      <td>primary</td>\n      <td>no</td>\n      <td>611</td>\n      <td>yes</td>\n      <td>no</td>\n      <td>unknown</td>\n      <td>8</td>\n      <td>may</td>\n      <td>541</td>\n      <td>3</td>\n      <td>-1</td>\n      <td>0</td>\n      <td>unknown</td>\n      <td>yes</td>\n    </tr>\n    <tr>\n      <th>17</th>\n      <td>49</td>\n      <td>services</td>\n      <td>married</td>\n      <td>secondary</td>\n      <td>no</td>\n      <td>-8</td>\n      <td>yes</td>\n      <td>no</td>\n      <td>unknown</td>\n      <td>8</td>\n      <td>may</td>\n      <td>1119</td>\n      <td>1</td>\n      <td>-1</td>\n      <td>0</td>\n      <td>unknown</td>\n      <td>yes</td>\n    </tr>\n    <tr>\n      <th>18</th>\n      <td>41</td>\n      <td>admin.</td>\n      <td>married</td>\n      <td>secondary</td>\n      <td>no</td>\n      <td>55</td>\n      <td>yes</td>\n      <td>no</td>\n      <td>unknown</td>\n      <td>8</td>\n      <td>may</td>\n      <td>1120</td>\n      <td>2</td>\n      <td>-1</td>\n      <td>0</td>\n      <td>unknown</td>\n      <td>yes</td>\n    </tr>\n    <tr>\n      <th>19</th>\n      <td>49</td>\n      <td>admin.</td>\n      <td>divorced</td>\n      <td>secondary</td>\n      <td>no</td>\n      <td>168</td>\n      <td>yes</td>\n      <td>yes</td>\n      <td>unknown</td>\n      <td>8</td>\n      <td>may</td>\n      <td>513</td>\n      <td>1</td>\n      <td>-1</td>\n      <td>0</td>\n      <td>unknown</td>\n      <td>yes</td>\n    </tr>\n  </tbody>\n</table>\n</div>"
     },
     "metadata": {},
     "execution_count": 3
    }
   ],
   "source": [
    "bank_df.head(20)"
   ]
  },
  {
   "cell_type": "code",
   "execution_count": 11,
   "metadata": {
    "tags": []
   },
   "outputs": [
    {
     "output_type": "stream",
     "name": "stdout",
     "text": "columns: Index(['age', 'job', 'marital', 'education', 'default', 'balance', 'housing',\n       'loan', 'contact', 'day', 'month', 'duration', 'campaign', 'pdays',\n       'previous', 'poutcome', 'deposit'],\n      dtype='object')\nindex: RangeIndex(start=0, stop=11162, step=1)\nindex value: [    0     1     2 ... 11159 11160 11161]\n"
    }
   ],
   "source": [
    "print(\"columns:\", bank_df.columns)\n",
    "print(\"index:\",bank_df.index)\n",
    "print(\"index value:\", bank_d`f.index.values)"
   ]
  },
  {
   "cell_type": "code",
   "execution_count": 4,
   "metadata": {
    "tags": []
   },
   "outputs": [
    {
     "output_type": "stream",
     "name": "stdout",
     "text": "DataFrame 크기 :  (11162, 17)\n"
    }
   ],
   "source": [
    "print('DataFrame 크기 : ',bank_df.shape)"
   ]
  },
  {
   "cell_type": "code",
   "execution_count": 5,
   "metadata": {
    "tags": []
   },
   "outputs": [
    {
     "output_type": "stream",
     "name": "stdout",
     "text": "<class 'pandas.core.frame.DataFrame'>\nRangeIndex: 11162 entries, 0 to 11161\nData columns (total 17 columns):\n #   Column     Non-Null Count  Dtype \n---  ------     --------------  ----- \n 0   age        11162 non-null  int64 \n 1   job        11162 non-null  object\n 2   marital    11162 non-null  object\n 3   education  11162 non-null  object\n 4   default    11162 non-null  object\n 5   balance    11162 non-null  int64 \n 6   housing    11162 non-null  object\n 7   loan       11162 non-null  object\n 8   contact    11162 non-null  object\n 9   day        11162 non-null  int64 \n 10  month      11162 non-null  object\n 11  duration   11162 non-null  int64 \n 12  campaign   11162 non-null  int64 \n 13  pdays      11162 non-null  int64 \n 14  previous   11162 non-null  int64 \n 15  poutcome   11162 non-null  object\n 16  deposit    11162 non-null  object\ndtypes: int64(7), object(10)\nmemory usage: 1.4+ MB\n"
    }
   ],
   "source": [
    "bank_df.info()"
   ]
  },
  {
   "cell_type": "code",
   "execution_count": 6,
   "metadata": {},
   "outputs": [
    {
     "output_type": "execute_result",
     "data": {
      "text/plain": "                age       balance           day      duration      campaign  \\\ncount  11162.000000  11162.000000  11162.000000  11162.000000  11162.000000   \nmean      41.231948   1528.538524     15.658036    371.993818      2.508421   \nstd       11.913369   3225.413326      8.420740    347.128386      2.722077   \nmin       18.000000  -6847.000000      1.000000      2.000000      1.000000   \n25%       32.000000    122.000000      8.000000    138.000000      1.000000   \n50%       39.000000    550.000000     15.000000    255.000000      2.000000   \n75%       49.000000   1708.000000     22.000000    496.000000      3.000000   \nmax       95.000000  81204.000000     31.000000   3881.000000     63.000000   \n\n              pdays      previous  \ncount  11162.000000  11162.000000  \nmean      51.330407      0.832557  \nstd      108.758282      2.292007  \nmin       -1.000000      0.000000  \n25%       -1.000000      0.000000  \n50%       -1.000000      0.000000  \n75%       20.750000      1.000000  \nmax      854.000000     58.000000  ",
      "text/html": "<div>\n<style scoped>\n    .dataframe tbody tr th:only-of-type {\n        vertical-align: middle;\n    }\n\n    .dataframe tbody tr th {\n        vertical-align: top;\n    }\n\n    .dataframe thead th {\n        text-align: right;\n    }\n</style>\n<table border=\"1\" class=\"dataframe\">\n  <thead>\n    <tr style=\"text-align: right;\">\n      <th></th>\n      <th>age</th>\n      <th>balance</th>\n      <th>day</th>\n      <th>duration</th>\n      <th>campaign</th>\n      <th>pdays</th>\n      <th>previous</th>\n    </tr>\n  </thead>\n  <tbody>\n    <tr>\n      <th>count</th>\n      <td>11162.000000</td>\n      <td>11162.000000</td>\n      <td>11162.000000</td>\n      <td>11162.000000</td>\n      <td>11162.000000</td>\n      <td>11162.000000</td>\n      <td>11162.000000</td>\n    </tr>\n    <tr>\n      <th>mean</th>\n      <td>41.231948</td>\n      <td>1528.538524</td>\n      <td>15.658036</td>\n      <td>371.993818</td>\n      <td>2.508421</td>\n      <td>51.330407</td>\n      <td>0.832557</td>\n    </tr>\n    <tr>\n      <th>std</th>\n      <td>11.913369</td>\n      <td>3225.413326</td>\n      <td>8.420740</td>\n      <td>347.128386</td>\n      <td>2.722077</td>\n      <td>108.758282</td>\n      <td>2.292007</td>\n    </tr>\n    <tr>\n      <th>min</th>\n      <td>18.000000</td>\n      <td>-6847.000000</td>\n      <td>1.000000</td>\n      <td>2.000000</td>\n      <td>1.000000</td>\n      <td>-1.000000</td>\n      <td>0.000000</td>\n    </tr>\n    <tr>\n      <th>25%</th>\n      <td>32.000000</td>\n      <td>122.000000</td>\n      <td>8.000000</td>\n      <td>138.000000</td>\n      <td>1.000000</td>\n      <td>-1.000000</td>\n      <td>0.000000</td>\n    </tr>\n    <tr>\n      <th>50%</th>\n      <td>39.000000</td>\n      <td>550.000000</td>\n      <td>15.000000</td>\n      <td>255.000000</td>\n      <td>2.000000</td>\n      <td>-1.000000</td>\n      <td>0.000000</td>\n    </tr>\n    <tr>\n      <th>75%</th>\n      <td>49.000000</td>\n      <td>1708.000000</td>\n      <td>22.000000</td>\n      <td>496.000000</td>\n      <td>3.000000</td>\n      <td>20.750000</td>\n      <td>1.000000</td>\n    </tr>\n    <tr>\n      <th>max</th>\n      <td>95.000000</td>\n      <td>81204.000000</td>\n      <td>31.000000</td>\n      <td>3881.000000</td>\n      <td>63.000000</td>\n      <td>854.000000</td>\n      <td>58.000000</td>\n    </tr>\n  </tbody>\n</table>\n</div>"
     },
     "metadata": {},
     "execution_count": 6
    }
   ],
   "source": [
    "bank_df.describe()"
   ]
  },
  {
   "cell_type": "code",
   "execution_count": 7,
   "metadata": {
    "tags": []
   },
   "outputs": [
    {
     "output_type": "stream",
     "name": "stdout",
     "text": "31    496\n32    477\n34    466\n33    464\n35    461\n     ... \n92      2\n93      2\n90      2\n89      1\n95      1\nName: age, Length: 76, dtype: int64\n"
    }
   ],
   "source": [
    "value_counts = bank_df['age'].value_counts()\n",
    "print(value_counts)"
   ]
  },
  {
   "cell_type": "code",
   "execution_count": 8,
   "metadata": {
    "tags": []
   },
   "outputs": [
    {
     "output_type": "stream",
     "name": "stdout",
     "text": "<class 'pandas.core.series.Series'>\n"
    }
   ],
   "source": [
    "bank_age = bank_df['age']\n",
    "print(type(bank_age))"
   ]
  },
  {
   "cell_type": "code",
   "execution_count": 9,
   "metadata": {},
   "outputs": [
    {
     "output_type": "execute_result",
     "data": {
      "text/plain": "0    59\n1    56\n2    41\n3    55\n4    54\nName: age, dtype: int64"
     },
     "metadata": {},
     "execution_count": 9
    }
   ],
   "source": [
    "bank_age.head()"
   ]
  },
  {
   "cell_type": "code",
   "execution_count": 15,
   "metadata": {},
   "outputs": [
    {
     "output_type": "execute_result",
     "data": {
      "text/plain": "      age      job  balance\n2498   18  student      608\n2935   18  student      608\n3494   18  student      348\n2464   18  student      108\n2654   18  student      108\n...   ...      ...      ...\n2802   92  retired      775\n3098   92  retired      775\n3756   93  retired      775\n3822   93  retired      775\n1582   95  retired     2282\n\n[11162 rows x 3 columns]",
      "text/html": "<div>\n<style scoped>\n    .dataframe tbody tr th:only-of-type {\n        vertical-align: middle;\n    }\n\n    .dataframe tbody tr th {\n        vertical-align: top;\n    }\n\n    .dataframe thead th {\n        text-align: right;\n    }\n</style>\n<table border=\"1\" class=\"dataframe\">\n  <thead>\n    <tr style=\"text-align: right;\">\n      <th></th>\n      <th>age</th>\n      <th>job</th>\n      <th>balance</th>\n    </tr>\n  </thead>\n  <tbody>\n    <tr>\n      <th>2498</th>\n      <td>18</td>\n      <td>student</td>\n      <td>608</td>\n    </tr>\n    <tr>\n      <th>2935</th>\n      <td>18</td>\n      <td>student</td>\n      <td>608</td>\n    </tr>\n    <tr>\n      <th>3494</th>\n      <td>18</td>\n      <td>student</td>\n      <td>348</td>\n    </tr>\n    <tr>\n      <th>2464</th>\n      <td>18</td>\n      <td>student</td>\n      <td>108</td>\n    </tr>\n    <tr>\n      <th>2654</th>\n      <td>18</td>\n      <td>student</td>\n      <td>108</td>\n    </tr>\n    <tr>\n      <th>...</th>\n      <td>...</td>\n      <td>...</td>\n      <td>...</td>\n    </tr>\n    <tr>\n      <th>2802</th>\n      <td>92</td>\n      <td>retired</td>\n      <td>775</td>\n    </tr>\n    <tr>\n      <th>3098</th>\n      <td>92</td>\n      <td>retired</td>\n      <td>775</td>\n    </tr>\n    <tr>\n      <th>3756</th>\n      <td>93</td>\n      <td>retired</td>\n      <td>775</td>\n    </tr>\n    <tr>\n      <th>3822</th>\n      <td>93</td>\n      <td>retired</td>\n      <td>775</td>\n    </tr>\n    <tr>\n      <th>1582</th>\n      <td>95</td>\n      <td>retired</td>\n      <td>2282</td>\n    </tr>\n  </tbody>\n</table>\n<p>11162 rows × 3 columns</p>\n</div>"
     },
     "metadata": {},
     "execution_count": 15
    }
   ],
   "source": [
    "bank_df.sort_values(by = 'age', ascending = True)\n",
    "\n",
    "bank_df[['age', 'job', 'balance']].sort_values(by = ['age', 'balance'], ascending = [True, False])"
   ]
  },
  {
   "cell_type": "code",
   "execution_count": 16,
   "metadata": {},
   "outputs": [
    {
     "output_type": "execute_result",
     "data": {
      "text/plain": "   age         job  marital  education default  balance housing loan  contact  \\\n0   59      admin.  married  secondary      no     2343     yes   no  unknown   \n1   56      admin.  married  secondary      no       45      no   no  unknown   \n2   41  technician  married  secondary      no     1270     yes   no  unknown   \n3   55    services  married  secondary      no     2476     yes   no  unknown   \n4   54      admin.  married   tertiary      no      184      no   no  unknown   \n\n   day month  duration  campaign  pdays  previous poutcome deposit  age_0  \n0    5   may      1042         1     -1         0  unknown     yes      0  \n1    5   may      1467         1     -1         0  unknown     yes      0  \n2    5   may      1389         1     -1         0  unknown     yes      0  \n3    5   may       579         1     -1         0  unknown     yes      0  \n4    5   may       673         2     -1         0  unknown     yes      0  ",
      "text/html": "<div>\n<style scoped>\n    .dataframe tbody tr th:only-of-type {\n        vertical-align: middle;\n    }\n\n    .dataframe tbody tr th {\n        vertical-align: top;\n    }\n\n    .dataframe thead th {\n        text-align: right;\n    }\n</style>\n<table border=\"1\" class=\"dataframe\">\n  <thead>\n    <tr style=\"text-align: right;\">\n      <th></th>\n      <th>age</th>\n      <th>job</th>\n      <th>marital</th>\n      <th>education</th>\n      <th>default</th>\n      <th>balance</th>\n      <th>housing</th>\n      <th>loan</th>\n      <th>contact</th>\n      <th>day</th>\n      <th>month</th>\n      <th>duration</th>\n      <th>campaign</th>\n      <th>pdays</th>\n      <th>previous</th>\n      <th>poutcome</th>\n      <th>deposit</th>\n      <th>age_0</th>\n    </tr>\n  </thead>\n  <tbody>\n    <tr>\n      <th>0</th>\n      <td>59</td>\n      <td>admin.</td>\n      <td>married</td>\n      <td>secondary</td>\n      <td>no</td>\n      <td>2343</td>\n      <td>yes</td>\n      <td>no</td>\n      <td>unknown</td>\n      <td>5</td>\n      <td>may</td>\n      <td>1042</td>\n      <td>1</td>\n      <td>-1</td>\n      <td>0</td>\n      <td>unknown</td>\n      <td>yes</td>\n      <td>0</td>\n    </tr>\n    <tr>\n      <th>1</th>\n      <td>56</td>\n      <td>admin.</td>\n      <td>married</td>\n      <td>secondary</td>\n      <td>no</td>\n      <td>45</td>\n      <td>no</td>\n      <td>no</td>\n      <td>unknown</td>\n      <td>5</td>\n      <td>may</td>\n      <td>1467</td>\n      <td>1</td>\n      <td>-1</td>\n      <td>0</td>\n      <td>unknown</td>\n      <td>yes</td>\n      <td>0</td>\n    </tr>\n    <tr>\n      <th>2</th>\n      <td>41</td>\n      <td>technician</td>\n      <td>married</td>\n      <td>secondary</td>\n      <td>no</td>\n      <td>1270</td>\n      <td>yes</td>\n      <td>no</td>\n      <td>unknown</td>\n      <td>5</td>\n      <td>may</td>\n      <td>1389</td>\n      <td>1</td>\n      <td>-1</td>\n      <td>0</td>\n      <td>unknown</td>\n      <td>yes</td>\n      <td>0</td>\n    </tr>\n    <tr>\n      <th>3</th>\n      <td>55</td>\n      <td>services</td>\n      <td>married</td>\n      <td>secondary</td>\n      <td>no</td>\n      <td>2476</td>\n      <td>yes</td>\n      <td>no</td>\n      <td>unknown</td>\n      <td>5</td>\n      <td>may</td>\n      <td>579</td>\n      <td>1</td>\n      <td>-1</td>\n      <td>0</td>\n      <td>unknown</td>\n      <td>yes</td>\n      <td>0</td>\n    </tr>\n    <tr>\n      <th>4</th>\n      <td>54</td>\n      <td>admin.</td>\n      <td>married</td>\n      <td>tertiary</td>\n      <td>no</td>\n      <td>184</td>\n      <td>no</td>\n      <td>no</td>\n      <td>unknown</td>\n      <td>5</td>\n      <td>may</td>\n      <td>673</td>\n      <td>2</td>\n      <td>-1</td>\n      <td>0</td>\n      <td>unknown</td>\n      <td>yes</td>\n      <td>0</td>\n    </tr>\n  </tbody>\n</table>\n</div>"
     },
     "metadata": {},
     "execution_count": 16
    }
   ],
   "source": [
    "import numpy as np\n",
    "\n",
    "bank_df['age_0'] = 0\n",
    "bank_df.head()\n"
   ]
  },
  {
   "cell_type": "code",
   "execution_count": 18,
   "metadata": {},
   "outputs": [
    {
     "output_type": "execute_result",
     "data": {
      "text/plain": "   age         job  marital  education default  balance housing loan  contact  \\\n0   59      admin.  married  secondary      no     2343     yes   no  unknown   \n1   56      admin.  married  secondary      no       45      no   no  unknown   \n2   41  technician  married  secondary      no     1270     yes   no  unknown   \n3   55    services  married  secondary      no     2476     yes   no  unknown   \n4   54      admin.  married   tertiary      no      184      no   no  unknown   \n\n   day month  duration  campaign  pdays  previous poutcome deposit  age_0  \n0    5   may      1042         1     -1         0  unknown     yes    590  \n1    5   may      1467         1     -1         0  unknown     yes    560  \n2    5   may      1389         1     -1         0  unknown     yes    410  \n3    5   may       579         1     -1         0  unknown     yes    550  \n4    5   may       673         2     -1         0  unknown     yes    540  ",
      "text/html": "<div>\n<style scoped>\n    .dataframe tbody tr th:only-of-type {\n        vertical-align: middle;\n    }\n\n    .dataframe tbody tr th {\n        vertical-align: top;\n    }\n\n    .dataframe thead th {\n        text-align: right;\n    }\n</style>\n<table border=\"1\" class=\"dataframe\">\n  <thead>\n    <tr style=\"text-align: right;\">\n      <th></th>\n      <th>age</th>\n      <th>job</th>\n      <th>marital</th>\n      <th>education</th>\n      <th>default</th>\n      <th>balance</th>\n      <th>housing</th>\n      <th>loan</th>\n      <th>contact</th>\n      <th>day</th>\n      <th>month</th>\n      <th>duration</th>\n      <th>campaign</th>\n      <th>pdays</th>\n      <th>previous</th>\n      <th>poutcome</th>\n      <th>deposit</th>\n      <th>age_0</th>\n    </tr>\n  </thead>\n  <tbody>\n    <tr>\n      <th>0</th>\n      <td>59</td>\n      <td>admin.</td>\n      <td>married</td>\n      <td>secondary</td>\n      <td>no</td>\n      <td>2343</td>\n      <td>yes</td>\n      <td>no</td>\n      <td>unknown</td>\n      <td>5</td>\n      <td>may</td>\n      <td>1042</td>\n      <td>1</td>\n      <td>-1</td>\n      <td>0</td>\n      <td>unknown</td>\n      <td>yes</td>\n      <td>590</td>\n    </tr>\n    <tr>\n      <th>1</th>\n      <td>56</td>\n      <td>admin.</td>\n      <td>married</td>\n      <td>secondary</td>\n      <td>no</td>\n      <td>45</td>\n      <td>no</td>\n      <td>no</td>\n      <td>unknown</td>\n      <td>5</td>\n      <td>may</td>\n      <td>1467</td>\n      <td>1</td>\n      <td>-1</td>\n      <td>0</td>\n      <td>unknown</td>\n      <td>yes</td>\n      <td>560</td>\n    </tr>\n    <tr>\n      <th>2</th>\n      <td>41</td>\n      <td>technician</td>\n      <td>married</td>\n      <td>secondary</td>\n      <td>no</td>\n      <td>1270</td>\n      <td>yes</td>\n      <td>no</td>\n      <td>unknown</td>\n      <td>5</td>\n      <td>may</td>\n      <td>1389</td>\n      <td>1</td>\n      <td>-1</td>\n      <td>0</td>\n      <td>unknown</td>\n      <td>yes</td>\n      <td>410</td>\n    </tr>\n    <tr>\n      <th>3</th>\n      <td>55</td>\n      <td>services</td>\n      <td>married</td>\n      <td>secondary</td>\n      <td>no</td>\n      <td>2476</td>\n      <td>yes</td>\n      <td>no</td>\n      <td>unknown</td>\n      <td>5</td>\n      <td>may</td>\n      <td>579</td>\n      <td>1</td>\n      <td>-1</td>\n      <td>0</td>\n      <td>unknown</td>\n      <td>yes</td>\n      <td>550</td>\n    </tr>\n    <tr>\n      <th>4</th>\n      <td>54</td>\n      <td>admin.</td>\n      <td>married</td>\n      <td>tertiary</td>\n      <td>no</td>\n      <td>184</td>\n      <td>no</td>\n      <td>no</td>\n      <td>unknown</td>\n      <td>5</td>\n      <td>may</td>\n      <td>673</td>\n      <td>2</td>\n      <td>-1</td>\n      <td>0</td>\n      <td>unknown</td>\n      <td>yes</td>\n      <td>540</td>\n    </tr>\n  </tbody>\n</table>\n</div>"
     },
     "metadata": {},
     "execution_count": 18
    }
   ],
   "source": [
    "bank_df[\"age_0\"] = bank_df['age'] * 10\n",
    "bank_df.head()"
   ]
  },
  {
   "cell_type": "code",
   "execution_count": 26,
   "metadata": {
    "tags": []
   },
   "outputs": [
    {
     "output_type": "stream",
     "name": "stdout",
     "text": "<class 'pandas.core.frame.DataFrame'>\nRangeIndex: 11162 entries, 0 to 11161\nData columns (total 17 columns):\n #   Column     Non-Null Count  Dtype \n---  ------     --------------  ----- \n 0   age        11162 non-null  int64 \n 1   job        11162 non-null  object\n 2   marital    11162 non-null  object\n 3   education  11162 non-null  object\n 4   default    11162 non-null  object\n 5   balance    11162 non-null  int64 \n 6   housing    11162 non-null  object\n 7   loan       11162 non-null  object\n 8   contact    11162 non-null  object\n 9   day        11162 non-null  int64 \n 10  month      11162 non-null  object\n 11  duration   11162 non-null  int64 \n 12  campaign   11162 non-null  int64 \n 13  pdays      11162 non-null  int64 \n 14  previous   11162 non-null  int64 \n 15  poutcome   11162 non-null  object\n 16  deposit    11162 non-null  object\ndtypes: int64(7), object(10)\nmemory usage: 1.4+ MB\n"
    }
   ],
   "source": [
    "bank_drop_df = bank_df.drop('age_0', axis=1)\n",
    "bank_drop_df.head(3)\n",
    "bank_drop_df.info()"
   ]
  },
  {
   "cell_type": "code",
   "execution_count": 31,
   "metadata": {
    "tags": []
   },
   "outputs": [
    {
     "output_type": "stream",
     "name": "stdout",
     "text": "[    0     1     2 ... 11159 11160 11161]\n"
    }
   ],
   "source": [
    "bank_df = pd.read_csv('C:\\\\Users\\\\flowe\\\\OneDrive - San Francisco State University\\\\Project_Expert_GitHub\\\\Project_Python\\\\JupyterNotebookWorkingSpace\\\\PerfectGuid\\\\1장\\\\bank.csv')\n",
    "indexes = bank_df.index\n",
    "print(indexes.values)"
   ]
  },
  {
   "cell_type": "code",
   "execution_count": 32,
   "metadata": {
    "tags": []
   },
   "outputs": [
    {
     "output_type": "stream",
     "name": "stdout",
     "text": "<class 'numpy.ndarray'>\n(11162,)\n[0 1 2 3 4]\n[0 1 2 3 4]\n6\n"
    }
   ],
   "source": [
    "print(type(indexes.values))\n",
    "print(indexes.values.shape)\n",
    "print(indexes[:5].values)\n",
    "print(indexes.values[:5])\n",
    "print(indexes[6])"
   ]
  },
  {
   "cell_type": "code",
   "execution_count": 34,
   "metadata": {},
   "outputs": [
    {
     "output_type": "execute_result",
     "data": {
      "text/plain": "0    2343\n1      45\n2    1270\n3    2476\n4     184\nName: balance, dtype: int64"
     },
     "metadata": {},
     "execution_count": 34
    }
   ],
   "source": [
    "series_balance = bank_df['balance']\n",
    "series_balance.head(5)"
   ]
  },
  {
   "cell_type": "code",
   "execution_count": 35,
   "metadata": {
    "tags": []
   },
   "outputs": [
    {
     "output_type": "stream",
     "name": "stdout",
     "text": "balance Series max 값: 81204\nbalance Series sum 값: 17061547\nsum() balance Series: 17061547\nbalance Series + 3:\n 0    2346\n1      48\n2    1273\nName: balance, dtype: int64\n"
    }
   ],
   "source": [
    "print('balance Series max 값:', series_balance.max())\n",
    "print('balance Series sum 값:', series_balance.sum())\n",
    "print('sum() balance Series:', sum(series_balance))\n",
    "print('balance Series + 3:\\n',(series_balance + 3).head(3) )"
   ]
  },
  {
   "cell_type": "code",
   "execution_count": 37,
   "metadata": {},
   "outputs": [
    {
     "output_type": "execute_result",
     "data": {
      "text/plain": "   index  age         job  marital  education default  balance housing loan  \\\n0      0   59      admin.  married  secondary      no     2343     yes   no   \n1      1   56      admin.  married  secondary      no       45      no   no   \n2      2   41  technician  married  secondary      no     1270     yes   no   \n\n   contact  day month  duration  campaign  pdays  previous poutcome deposit  \n0  unknown    5   may      1042         1     -1         0  unknown     yes  \n1  unknown    5   may      1467         1     -1         0  unknown     yes  \n2  unknown    5   may      1389         1     -1         0  unknown     yes  ",
      "text/html": "<div>\n<style scoped>\n    .dataframe tbody tr th:only-of-type {\n        vertical-align: middle;\n    }\n\n    .dataframe tbody tr th {\n        vertical-align: top;\n    }\n\n    .dataframe thead th {\n        text-align: right;\n    }\n</style>\n<table border=\"1\" class=\"dataframe\">\n  <thead>\n    <tr style=\"text-align: right;\">\n      <th></th>\n      <th>index</th>\n      <th>age</th>\n      <th>job</th>\n      <th>marital</th>\n      <th>education</th>\n      <th>default</th>\n      <th>balance</th>\n      <th>housing</th>\n      <th>loan</th>\n      <th>contact</th>\n      <th>day</th>\n      <th>month</th>\n      <th>duration</th>\n      <th>campaign</th>\n      <th>pdays</th>\n      <th>previous</th>\n      <th>poutcome</th>\n      <th>deposit</th>\n    </tr>\n  </thead>\n  <tbody>\n    <tr>\n      <th>0</th>\n      <td>0</td>\n      <td>59</td>\n      <td>admin.</td>\n      <td>married</td>\n      <td>secondary</td>\n      <td>no</td>\n      <td>2343</td>\n      <td>yes</td>\n      <td>no</td>\n      <td>unknown</td>\n      <td>5</td>\n      <td>may</td>\n      <td>1042</td>\n      <td>1</td>\n      <td>-1</td>\n      <td>0</td>\n      <td>unknown</td>\n      <td>yes</td>\n    </tr>\n    <tr>\n      <th>1</th>\n      <td>1</td>\n      <td>56</td>\n      <td>admin.</td>\n      <td>married</td>\n      <td>secondary</td>\n      <td>no</td>\n      <td>45</td>\n      <td>no</td>\n      <td>no</td>\n      <td>unknown</td>\n      <td>5</td>\n      <td>may</td>\n      <td>1467</td>\n      <td>1</td>\n      <td>-1</td>\n      <td>0</td>\n      <td>unknown</td>\n      <td>yes</td>\n    </tr>\n    <tr>\n      <th>2</th>\n      <td>2</td>\n      <td>41</td>\n      <td>technician</td>\n      <td>married</td>\n      <td>secondary</td>\n      <td>no</td>\n      <td>1270</td>\n      <td>yes</td>\n      <td>no</td>\n      <td>unknown</td>\n      <td>5</td>\n      <td>may</td>\n      <td>1389</td>\n      <td>1</td>\n      <td>-1</td>\n      <td>0</td>\n      <td>unknown</td>\n      <td>yes</td>\n    </tr>\n  </tbody>\n</table>\n</div>"
     },
     "metadata": {},
     "execution_count": 37
    }
   ],
   "source": [
    "bank_reset_df = bank_df.reset_index(inplace = False)\n",
    "bank_reset_df.head(3)"
   ]
  },
  {
   "cell_type": "code",
   "execution_count": 38,
   "metadata": {},
   "outputs": [
    {
     "output_type": "execute_result",
     "data": {
      "text/plain": "(11162, 18)"
     },
     "metadata": {},
     "execution_count": 38
    }
   ],
   "source": [
    "bank_reset_df.shape"
   ]
  },
  {
   "cell_type": "code",
   "execution_count": 50,
   "metadata": {
    "tags": []
   },
   "outputs": [
    {
     "output_type": "execute_result",
     "data": {
      "text/plain": "      age          job marital  education default  balance housing loan  \\\n1446   20      student  single  secondary      no     1819      no   no   \n2089   20  blue-collar  single  secondary      no       76     yes   no   \n2405   20      student  single    unknown      no      829      no   no   \n\n       contact  day month  duration  campaign  pdays  previous poutcome  \\\n1446  cellular    9   apr       245         3     -1         0  unknown   \n2089  cellular   18   may       639         2     -1         0  unknown   \n2405  cellular    9   jul       253         2     -1         0  unknown   \n\n     deposit  \n1446     yes  \n2089     yes  \n2405     yes  ",
      "text/html": "<div>\n<style scoped>\n    .dataframe tbody tr th:only-of-type {\n        vertical-align: middle;\n    }\n\n    .dataframe tbody tr th {\n        vertical-align: top;\n    }\n\n    .dataframe thead th {\n        text-align: right;\n    }\n</style>\n<table border=\"1\" class=\"dataframe\">\n  <thead>\n    <tr style=\"text-align: right;\">\n      <th></th>\n      <th>age</th>\n      <th>job</th>\n      <th>marital</th>\n      <th>education</th>\n      <th>default</th>\n      <th>balance</th>\n      <th>housing</th>\n      <th>loan</th>\n      <th>contact</th>\n      <th>day</th>\n      <th>month</th>\n      <th>duration</th>\n      <th>campaign</th>\n      <th>pdays</th>\n      <th>previous</th>\n      <th>poutcome</th>\n      <th>deposit</th>\n    </tr>\n  </thead>\n  <tbody>\n    <tr>\n      <th>1446</th>\n      <td>20</td>\n      <td>student</td>\n      <td>single</td>\n      <td>secondary</td>\n      <td>no</td>\n      <td>1819</td>\n      <td>no</td>\n      <td>no</td>\n      <td>cellular</td>\n      <td>9</td>\n      <td>apr</td>\n      <td>245</td>\n      <td>3</td>\n      <td>-1</td>\n      <td>0</td>\n      <td>unknown</td>\n      <td>yes</td>\n    </tr>\n    <tr>\n      <th>2089</th>\n      <td>20</td>\n      <td>blue-collar</td>\n      <td>single</td>\n      <td>secondary</td>\n      <td>no</td>\n      <td>76</td>\n      <td>yes</td>\n      <td>no</td>\n      <td>cellular</td>\n      <td>18</td>\n      <td>may</td>\n      <td>639</td>\n      <td>2</td>\n      <td>-1</td>\n      <td>0</td>\n      <td>unknown</td>\n      <td>yes</td>\n    </tr>\n    <tr>\n      <th>2405</th>\n      <td>20</td>\n      <td>student</td>\n      <td>single</td>\n      <td>unknown</td>\n      <td>no</td>\n      <td>829</td>\n      <td>no</td>\n      <td>no</td>\n      <td>cellular</td>\n      <td>9</td>\n      <td>jul</td>\n      <td>253</td>\n      <td>2</td>\n      <td>-1</td>\n      <td>0</td>\n      <td>unknown</td>\n      <td>yes</td>\n    </tr>\n  </tbody>\n</table>\n</div>"
     },
     "metadata": {},
     "execution_count": 50
    }
   ],
   "source": [
    "bank_df[ bank_df['age'] == 20 ].head(3)"
   ]
  },
  {
   "cell_type": "code",
   "execution_count": 52,
   "metadata": {
    "tags": []
   },
   "outputs": [
    {
     "output_type": "stream",
     "name": "stdout",
     "text": "<class 'pandas.core.frame.DataFrame'>\n"
    },
    {
     "output_type": "execute_result",
     "data": {
      "text/plain": "      age      job marital  education default  balance housing loan   contact  \\\n2464   18  student  single    unknown      no      108      no   no  cellular   \n2498   18  student  single    primary      no      608      no   no  cellular   \n2654   18  student  single    unknown      no      108      no   no  cellular   \n2935   18  student  single    primary      no      608      no   no  cellular   \n3174   18  student  single    unknown      no      108      no   no  cellular   \n3494   18  student  single    unknown      no      348      no   no  cellular   \n4219   18  student  single    unknown      no        3      no   no  cellular   \n6456   18  student  single  secondary      no        5      no   no  cellular   \n\n      day month  duration  campaign  pdays  previous poutcome deposit  \n2464   10   aug       167         1     -1         0  unknown     yes  \n2498   12   aug       267         1     -1         0  unknown     yes  \n2654    8   sep       169         1     -1         0  unknown     yes  \n2935   13   nov       210         1     93         1  success     yes  \n3174    9   feb        92         1    183         1  success     yes  \n3494    5   may       443         4     -1         0  unknown     yes  \n4219   25   aug       130         2     -1         0  unknown     yes  \n6456   24   aug       143         2     -1         0  unknown      no  ",
      "text/html": "<div>\n<style scoped>\n    .dataframe tbody tr th:only-of-type {\n        vertical-align: middle;\n    }\n\n    .dataframe tbody tr th {\n        vertical-align: top;\n    }\n\n    .dataframe thead th {\n        text-align: right;\n    }\n</style>\n<table border=\"1\" class=\"dataframe\">\n  <thead>\n    <tr style=\"text-align: right;\">\n      <th></th>\n      <th>age</th>\n      <th>job</th>\n      <th>marital</th>\n      <th>education</th>\n      <th>default</th>\n      <th>balance</th>\n      <th>housing</th>\n      <th>loan</th>\n      <th>contact</th>\n      <th>day</th>\n      <th>month</th>\n      <th>duration</th>\n      <th>campaign</th>\n      <th>pdays</th>\n      <th>previous</th>\n      <th>poutcome</th>\n      <th>deposit</th>\n    </tr>\n  </thead>\n  <tbody>\n    <tr>\n      <th>2464</th>\n      <td>18</td>\n      <td>student</td>\n      <td>single</td>\n      <td>unknown</td>\n      <td>no</td>\n      <td>108</td>\n      <td>no</td>\n      <td>no</td>\n      <td>cellular</td>\n      <td>10</td>\n      <td>aug</td>\n      <td>167</td>\n      <td>1</td>\n      <td>-1</td>\n      <td>0</td>\n      <td>unknown</td>\n      <td>yes</td>\n    </tr>\n    <tr>\n      <th>2498</th>\n      <td>18</td>\n      <td>student</td>\n      <td>single</td>\n      <td>primary</td>\n      <td>no</td>\n      <td>608</td>\n      <td>no</td>\n      <td>no</td>\n      <td>cellular</td>\n      <td>12</td>\n      <td>aug</td>\n      <td>267</td>\n      <td>1</td>\n      <td>-1</td>\n      <td>0</td>\n      <td>unknown</td>\n      <td>yes</td>\n    </tr>\n    <tr>\n      <th>2654</th>\n      <td>18</td>\n      <td>student</td>\n      <td>single</td>\n      <td>unknown</td>\n      <td>no</td>\n      <td>108</td>\n      <td>no</td>\n      <td>no</td>\n      <td>cellular</td>\n      <td>8</td>\n      <td>sep</td>\n      <td>169</td>\n      <td>1</td>\n      <td>-1</td>\n      <td>0</td>\n      <td>unknown</td>\n      <td>yes</td>\n    </tr>\n    <tr>\n      <th>2935</th>\n      <td>18</td>\n      <td>student</td>\n      <td>single</td>\n      <td>primary</td>\n      <td>no</td>\n      <td>608</td>\n      <td>no</td>\n      <td>no</td>\n      <td>cellular</td>\n      <td>13</td>\n      <td>nov</td>\n      <td>210</td>\n      <td>1</td>\n      <td>93</td>\n      <td>1</td>\n      <td>success</td>\n      <td>yes</td>\n    </tr>\n    <tr>\n      <th>3174</th>\n      <td>18</td>\n      <td>student</td>\n      <td>single</td>\n      <td>unknown</td>\n      <td>no</td>\n      <td>108</td>\n      <td>no</td>\n      <td>no</td>\n      <td>cellular</td>\n      <td>9</td>\n      <td>feb</td>\n      <td>92</td>\n      <td>1</td>\n      <td>183</td>\n      <td>1</td>\n      <td>success</td>\n      <td>yes</td>\n    </tr>\n    <tr>\n      <th>3494</th>\n      <td>18</td>\n      <td>student</td>\n      <td>single</td>\n      <td>unknown</td>\n      <td>no</td>\n      <td>348</td>\n      <td>no</td>\n      <td>no</td>\n      <td>cellular</td>\n      <td>5</td>\n      <td>may</td>\n      <td>443</td>\n      <td>4</td>\n      <td>-1</td>\n      <td>0</td>\n      <td>unknown</td>\n      <td>yes</td>\n    </tr>\n    <tr>\n      <th>4219</th>\n      <td>18</td>\n      <td>student</td>\n      <td>single</td>\n      <td>unknown</td>\n      <td>no</td>\n      <td>3</td>\n      <td>no</td>\n      <td>no</td>\n      <td>cellular</td>\n      <td>25</td>\n      <td>aug</td>\n      <td>130</td>\n      <td>2</td>\n      <td>-1</td>\n      <td>0</td>\n      <td>unknown</td>\n      <td>yes</td>\n    </tr>\n    <tr>\n      <th>6456</th>\n      <td>18</td>\n      <td>student</td>\n      <td>single</td>\n      <td>secondary</td>\n      <td>no</td>\n      <td>5</td>\n      <td>no</td>\n      <td>no</td>\n      <td>cellular</td>\n      <td>24</td>\n      <td>aug</td>\n      <td>143</td>\n      <td>2</td>\n      <td>-1</td>\n      <td>0</td>\n      <td>unknown</td>\n      <td>no</td>\n    </tr>\n  </tbody>\n</table>\n</div>"
     },
     "metadata": {},
     "execution_count": 52
    }
   ],
   "source": [
    "bank_bool = bank_df[bank_df['age'] == 18]\n",
    "print(type(bank_bool))\n",
    "bank_bool"
   ]
  },
  {
   "cell_type": "code",
   "execution_count": 55,
   "metadata": {
    "tags": []
   },
   "outputs": [
    {
     "output_type": "stream",
     "name": "stdout",
     "text": "0        False\n1        False\n2        False\n3        False\n4        False\n         ...  \n11157    False\n11158    False\n11159    False\n11160    False\n11161    False\nName: age, Length: 11162, dtype: bool\n<class 'pandas.core.series.Series'>\n"
    }
   ],
   "source": [
    "bank_df['age'] <= 20\n",
    "var1 = bank_df['age'] <= 20\n",
    "print(var1)\n",
    "print(type(var1))"
   ]
  },
  {
   "cell_type": "code",
   "execution_count": 57,
   "metadata": {},
   "outputs": [
    {
     "output_type": "execute_result",
     "data": {
      "text/plain": "      age          job  balance\n1385   19      student      134\n1446   20      student     1819\n2089   20  blue-collar       76\n2405   20      student      829\n2406   19      student      103\n2434   20      student      292\n2464   18      student      108\n2493   20      student     6991\n2498   18      student      608\n2574   20      student      215",
      "text/html": "<div>\n<style scoped>\n    .dataframe tbody tr th:only-of-type {\n        vertical-align: middle;\n    }\n\n    .dataframe tbody tr th {\n        vertical-align: top;\n    }\n\n    .dataframe thead th {\n        text-align: right;\n    }\n</style>\n<table border=\"1\" class=\"dataframe\">\n  <thead>\n    <tr style=\"text-align: right;\">\n      <th></th>\n      <th>age</th>\n      <th>job</th>\n      <th>balance</th>\n    </tr>\n  </thead>\n  <tbody>\n    <tr>\n      <th>1385</th>\n      <td>19</td>\n      <td>student</td>\n      <td>134</td>\n    </tr>\n    <tr>\n      <th>1446</th>\n      <td>20</td>\n      <td>student</td>\n      <td>1819</td>\n    </tr>\n    <tr>\n      <th>2089</th>\n      <td>20</td>\n      <td>blue-collar</td>\n      <td>76</td>\n    </tr>\n    <tr>\n      <th>2405</th>\n      <td>20</td>\n      <td>student</td>\n      <td>829</td>\n    </tr>\n    <tr>\n      <th>2406</th>\n      <td>19</td>\n      <td>student</td>\n      <td>103</td>\n    </tr>\n    <tr>\n      <th>2434</th>\n      <td>20</td>\n      <td>student</td>\n      <td>292</td>\n    </tr>\n    <tr>\n      <th>2464</th>\n      <td>18</td>\n      <td>student</td>\n      <td>108</td>\n    </tr>\n    <tr>\n      <th>2493</th>\n      <td>20</td>\n      <td>student</td>\n      <td>6991</td>\n    </tr>\n    <tr>\n      <th>2498</th>\n      <td>18</td>\n      <td>student</td>\n      <td>608</td>\n    </tr>\n    <tr>\n      <th>2574</th>\n      <td>20</td>\n      <td>student</td>\n      <td>215</td>\n    </tr>\n  </tbody>\n</table>\n</div>"
     },
     "metadata": {},
     "execution_count": 57
    }
   ],
   "source": [
    "bank_df[bank_df['age'] <= 20][ ['age', 'job', 'balance'] ].head(10)"
   ]
  },
  {
   "cell_type": "code",
   "execution_count": 67,
   "metadata": {},
   "outputs": [
    {
     "output_type": "execute_result",
     "data": {
      "text/plain": "      age           job  balance\n39     23  entrepreneur        4\n83     24    technician      409\n146    24   blue-collar      685\n160    23      services      665\n220    23      services      425\n230    23   blue-collar      492\n294    24   blue-collar     -203\n348    24    management      867\n1087   23    unemployed     1003\n1166   22        admin.      897",
      "text/html": "<div>\n<style scoped>\n    .dataframe tbody tr th:only-of-type {\n        vertical-align: middle;\n    }\n\n    .dataframe tbody tr th {\n        vertical-align: top;\n    }\n\n    .dataframe thead th {\n        text-align: right;\n    }\n</style>\n<table border=\"1\" class=\"dataframe\">\n  <thead>\n    <tr style=\"text-align: right;\">\n      <th></th>\n      <th>age</th>\n      <th>job</th>\n      <th>balance</th>\n    </tr>\n  </thead>\n  <tbody>\n    <tr>\n      <th>39</th>\n      <td>23</td>\n      <td>entrepreneur</td>\n      <td>4</td>\n    </tr>\n    <tr>\n      <th>83</th>\n      <td>24</td>\n      <td>technician</td>\n      <td>409</td>\n    </tr>\n    <tr>\n      <th>146</th>\n      <td>24</td>\n      <td>blue-collar</td>\n      <td>685</td>\n    </tr>\n    <tr>\n      <th>160</th>\n      <td>23</td>\n      <td>services</td>\n      <td>665</td>\n    </tr>\n    <tr>\n      <th>220</th>\n      <td>23</td>\n      <td>services</td>\n      <td>425</td>\n    </tr>\n    <tr>\n      <th>230</th>\n      <td>23</td>\n      <td>blue-collar</td>\n      <td>492</td>\n    </tr>\n    <tr>\n      <th>294</th>\n      <td>24</td>\n      <td>blue-collar</td>\n      <td>-203</td>\n    </tr>\n    <tr>\n      <th>348</th>\n      <td>24</td>\n      <td>management</td>\n      <td>867</td>\n    </tr>\n    <tr>\n      <th>1087</th>\n      <td>23</td>\n      <td>unemployed</td>\n      <td>1003</td>\n    </tr>\n    <tr>\n      <th>1166</th>\n      <td>22</td>\n      <td>admin.</td>\n      <td>897</td>\n    </tr>\n  </tbody>\n</table>\n</div>"
     },
     "metadata": {},
     "execution_count": 67
    }
   ],
   "source": [
    "bank_df.loc[(bank_df['age'] <= 24) & (bank_df['job'] != 'student'), ['age', 'job', 'balance']].head(10)"
   ]
  },
  {
   "cell_type": "code",
   "execution_count": 68,
   "metadata": {},
   "outputs": [
    {
     "output_type": "execute_result",
     "data": {
      "text/plain": "age          11162\njob          11162\nmarital      11162\neducation    11162\ndefault      11162\nbalance      11162\nhousing      11162\nloan         11162\ncontact      11162\nday          11162\nmonth        11162\nduration     11162\ncampaign     11162\npdays        11162\nprevious     11162\npoutcome     11162\ndeposit      11162\ndtype: int64"
     },
     "metadata": {},
     "execution_count": 68
    }
   ],
   "source": [
    "bank_df.count()"
   ]
  },
  {
   "cell_type": "code",
   "execution_count": 71,
   "metadata": {},
   "outputs": [
    {
     "output_type": "execute_result",
     "data": {
      "text/plain": "age          41.231948\nbalance    1528.538524\ndtype: float64"
     },
     "metadata": {},
     "execution_count": 71
    }
   ],
   "source": [
    "bank_df[['age', 'balance']].mean(axis=0)"
   ]
  },
  {
   "cell_type": "code",
   "execution_count": 72,
   "metadata": {},
   "outputs": [
    {
     "output_type": "execute_result",
     "data": {
      "text/plain": "age          41.231948\nbalance    1528.538524\ndtype: float64"
     },
     "metadata": {},
     "execution_count": 72
    }
   ],
   "source": [
    "bank_df[['age', 'balance']].mean()"
   ]
  },
  {
   "cell_type": "code",
   "execution_count": 73,
   "metadata": {},
   "outputs": [
    {
     "output_type": "execute_result",
     "data": {
      "text/plain": "age          460231\nbalance    17061547\ndtype: int64"
     },
     "metadata": {},
     "execution_count": 73
    }
   ],
   "source": [
    "bank_df[['age', 'balance']].sum(axis=0)"
   ]
  },
  {
   "cell_type": "code",
   "execution_count": 78,
   "metadata": {
    "tags": []
   },
   "outputs": [
    {
     "output_type": "stream",
     "name": "stdout",
     "text": "<class 'pandas.core.groupby.generic.DataFrameGroupBy'>\n<pandas.core.groupby.generic.DataFrameGroupBy object at 0x000001D2201A7640>\n"
    }
   ],
   "source": [
    "bank_groupby = bank_df.groupby(by = 'job')\n",
    "print(type(bank_groupby))\n",
    "print(bank_groupby)"
   ]
  },
  {
   "cell_type": "code",
   "execution_count": 88,
   "metadata": {},
   "outputs": [
    {
     "output_type": "execute_result",
     "data": {
      "text/plain": "                age  balance   day  duration  campaign  pdays  previous\njob                                                                    \nadmin.         37.0    464.0  15.0     228.5       2.0   -1.0       0.0\nblue-collar    39.0    460.5  15.0     263.0       2.0   -1.0       0.0\nentrepreneur   41.5    399.0  16.0     248.5       2.0   -1.0       0.0\nhousemaid      48.0    444.0  16.0     206.0       2.0   -1.0       0.0\nmanagement     38.0    630.0  16.0     251.0       2.0   -1.0       0.0\nretired        64.0   1087.5  15.0     301.0       1.5   -1.0       0.0\nself-employed  37.0    581.0  16.0     256.0       2.0   -1.0       0.0\nservices       37.0    406.0  15.0     262.0       2.0   -1.0       0.0\nstudent        25.0    489.5  14.0     253.0       1.0   -1.0       0.0\ntechnician     37.0    542.0  16.0     250.0       2.0   -1.0       0.0\nunemployed     40.0    660.0  14.0     317.0       2.0   -1.0       0.0\nunknown        46.5    819.0  13.5     266.5       2.0   -1.0       0.0",
      "text/html": "<div>\n<style scoped>\n    .dataframe tbody tr th:only-of-type {\n        vertical-align: middle;\n    }\n\n    .dataframe tbody tr th {\n        vertical-align: top;\n    }\n\n    .dataframe thead th {\n        text-align: right;\n    }\n</style>\n<table border=\"1\" class=\"dataframe\">\n  <thead>\n    <tr style=\"text-align: right;\">\n      <th></th>\n      <th>age</th>\n      <th>balance</th>\n      <th>day</th>\n      <th>duration</th>\n      <th>campaign</th>\n      <th>pdays</th>\n      <th>previous</th>\n    </tr>\n    <tr>\n      <th>job</th>\n      <th></th>\n      <th></th>\n      <th></th>\n      <th></th>\n      <th></th>\n      <th></th>\n      <th></th>\n    </tr>\n  </thead>\n  <tbody>\n    <tr>\n      <th>admin.</th>\n      <td>37.0</td>\n      <td>464.0</td>\n      <td>15.0</td>\n      <td>228.5</td>\n      <td>2.0</td>\n      <td>-1.0</td>\n      <td>0.0</td>\n    </tr>\n    <tr>\n      <th>blue-collar</th>\n      <td>39.0</td>\n      <td>460.5</td>\n      <td>15.0</td>\n      <td>263.0</td>\n      <td>2.0</td>\n      <td>-1.0</td>\n      <td>0.0</td>\n    </tr>\n    <tr>\n      <th>entrepreneur</th>\n      <td>41.5</td>\n      <td>399.0</td>\n      <td>16.0</td>\n      <td>248.5</td>\n      <td>2.0</td>\n      <td>-1.0</td>\n      <td>0.0</td>\n    </tr>\n    <tr>\n      <th>housemaid</th>\n      <td>48.0</td>\n      <td>444.0</td>\n      <td>16.0</td>\n      <td>206.0</td>\n      <td>2.0</td>\n      <td>-1.0</td>\n      <td>0.0</td>\n    </tr>\n    <tr>\n      <th>management</th>\n      <td>38.0</td>\n      <td>630.0</td>\n      <td>16.0</td>\n      <td>251.0</td>\n      <td>2.0</td>\n      <td>-1.0</td>\n      <td>0.0</td>\n    </tr>\n    <tr>\n      <th>retired</th>\n      <td>64.0</td>\n      <td>1087.5</td>\n      <td>15.0</td>\n      <td>301.0</td>\n      <td>1.5</td>\n      <td>-1.0</td>\n      <td>0.0</td>\n    </tr>\n    <tr>\n      <th>self-employed</th>\n      <td>37.0</td>\n      <td>581.0</td>\n      <td>16.0</td>\n      <td>256.0</td>\n      <td>2.0</td>\n      <td>-1.0</td>\n      <td>0.0</td>\n    </tr>\n    <tr>\n      <th>services</th>\n      <td>37.0</td>\n      <td>406.0</td>\n      <td>15.0</td>\n      <td>262.0</td>\n      <td>2.0</td>\n      <td>-1.0</td>\n      <td>0.0</td>\n    </tr>\n    <tr>\n      <th>student</th>\n      <td>25.0</td>\n      <td>489.5</td>\n      <td>14.0</td>\n      <td>253.0</td>\n      <td>1.0</td>\n      <td>-1.0</td>\n      <td>0.0</td>\n    </tr>\n    <tr>\n      <th>technician</th>\n      <td>37.0</td>\n      <td>542.0</td>\n      <td>16.0</td>\n      <td>250.0</td>\n      <td>2.0</td>\n      <td>-1.0</td>\n      <td>0.0</td>\n    </tr>\n    <tr>\n      <th>unemployed</th>\n      <td>40.0</td>\n      <td>660.0</td>\n      <td>14.0</td>\n      <td>317.0</td>\n      <td>2.0</td>\n      <td>-1.0</td>\n      <td>0.0</td>\n    </tr>\n    <tr>\n      <th>unknown</th>\n      <td>46.5</td>\n      <td>819.0</td>\n      <td>13.5</td>\n      <td>266.5</td>\n      <td>2.0</td>\n      <td>-1.0</td>\n      <td>0.0</td>\n    </tr>\n  </tbody>\n</table>\n</div>"
     },
     "metadata": {},
     "execution_count": 88
    }
   ],
   "source": [
    "bank_groupby = bank_df.groupby('job').median()\n",
    "bank_groupby"
   ]
  },
  {
   "cell_type": "code",
   "execution_count": 84,
   "metadata": {
    "tags": []
   },
   "outputs": [
    {
     "output_type": "stream",
     "name": "stdout",
     "text": "<class 'pandas.core.frame.DataFrame'>\n(12, 16)\nIndex(['admin.', 'blue-collar', 'entrepreneur', 'housemaid', 'management',\n       'retired', 'self-employed', 'services', 'student', 'technician',\n       'unemployed', 'unknown'],\n      dtype='object', name='job')\n"
    }
   ],
   "source": [
    "print(type(bank_groupby))\n",
    "print(bank_groupby.shape)\n",
    "print(bank_groupby.index)"
   ]
  },
  {
   "cell_type": "code",
   "execution_count": 95,
   "metadata": {},
   "outputs": [
    {
     "output_type": "execute_result",
     "data": {
      "text/plain": "                     age      balance\njob                                  \nadmin.         39.374063  1195.866567\nblue-collar    39.505144  1203.926440\nentrepreneur   42.887195  1621.942073\nhousemaid      47.445255  1366.160584\nmanagement     40.218239  1793.663679\nretired        65.424165  2417.250643\nself-employed  39.809877  1865.372840\nservices       38.141928  1081.171181\nstudent        26.102778  1500.783333\ntechnician     39.001646  1556.294569\nunemployed     40.997199  1314.719888\nunknown        46.857143  1945.457143",
      "text/html": "<div>\n<style scoped>\n    .dataframe tbody tr th:only-of-type {\n        vertical-align: middle;\n    }\n\n    .dataframe tbody tr th {\n        vertical-align: top;\n    }\n\n    .dataframe thead th {\n        text-align: right;\n    }\n</style>\n<table border=\"1\" class=\"dataframe\">\n  <thead>\n    <tr style=\"text-align: right;\">\n      <th></th>\n      <th>age</th>\n      <th>balance</th>\n    </tr>\n    <tr>\n      <th>job</th>\n      <th></th>\n      <th></th>\n    </tr>\n  </thead>\n  <tbody>\n    <tr>\n      <th>admin.</th>\n      <td>39.374063</td>\n      <td>1195.866567</td>\n    </tr>\n    <tr>\n      <th>blue-collar</th>\n      <td>39.505144</td>\n      <td>1203.926440</td>\n    </tr>\n    <tr>\n      <th>entrepreneur</th>\n      <td>42.887195</td>\n      <td>1621.942073</td>\n    </tr>\n    <tr>\n      <th>housemaid</th>\n      <td>47.445255</td>\n      <td>1366.160584</td>\n    </tr>\n    <tr>\n      <th>management</th>\n      <td>40.218239</td>\n      <td>1793.663679</td>\n    </tr>\n    <tr>\n      <th>retired</th>\n      <td>65.424165</td>\n      <td>2417.250643</td>\n    </tr>\n    <tr>\n      <th>self-employed</th>\n      <td>39.809877</td>\n      <td>1865.372840</td>\n    </tr>\n    <tr>\n      <th>services</th>\n      <td>38.141928</td>\n      <td>1081.171181</td>\n    </tr>\n    <tr>\n      <th>student</th>\n      <td>26.102778</td>\n      <td>1500.783333</td>\n    </tr>\n    <tr>\n      <th>technician</th>\n      <td>39.001646</td>\n      <td>1556.294569</td>\n    </tr>\n    <tr>\n      <th>unemployed</th>\n      <td>40.997199</td>\n      <td>1314.719888</td>\n    </tr>\n    <tr>\n      <th>unknown</th>\n      <td>46.857143</td>\n      <td>1945.457143</td>\n    </tr>\n  </tbody>\n</table>\n</div>"
     },
     "metadata": {},
     "execution_count": 95
    }
   ],
   "source": [
    "bank_groupby = bank_df.groupby(by = 'job')[['age', 'balance']].mean()\n",
    "bank_groupby"
   ]
  },
  {
   "cell_type": "code",
   "execution_count": 97,
   "metadata": {},
   "outputs": [
    {
     "output_type": "execute_result",
     "data": {
      "text/plain": "              age     balance       \n              min max     min    max\njob                                 \nadmin.         20  72   -1415  56831\nblue-collar    20  63   -1489  66653\nentrepreneur   21  84   -1965  51439\nhousemaid      22  82   -1531  26965\nmanagement     21  78   -6847  36252\nretired        34  95   -1206  81204\nself-employed  22  76   -3058  52587\nservices       21  69   -1139  23592\nstudent        18  47       0  23878\ntechnician     21  71   -1944  45248\nunemployed     21  65    -825  16397\nunknown        26  78       0  19268",
      "text/html": "<div>\n<style scoped>\n    .dataframe tbody tr th:only-of-type {\n        vertical-align: middle;\n    }\n\n    .dataframe tbody tr th {\n        vertical-align: top;\n    }\n\n    .dataframe thead tr th {\n        text-align: left;\n    }\n\n    .dataframe thead tr:last-of-type th {\n        text-align: right;\n    }\n</style>\n<table border=\"1\" class=\"dataframe\">\n  <thead>\n    <tr>\n      <th></th>\n      <th colspan=\"2\" halign=\"left\">age</th>\n      <th colspan=\"2\" halign=\"left\">balance</th>\n    </tr>\n    <tr>\n      <th></th>\n      <th>min</th>\n      <th>max</th>\n      <th>min</th>\n      <th>max</th>\n    </tr>\n    <tr>\n      <th>job</th>\n      <th></th>\n      <th></th>\n      <th></th>\n      <th></th>\n    </tr>\n  </thead>\n  <tbody>\n    <tr>\n      <th>admin.</th>\n      <td>20</td>\n      <td>72</td>\n      <td>-1415</td>\n      <td>56831</td>\n    </tr>\n    <tr>\n      <th>blue-collar</th>\n      <td>20</td>\n      <td>63</td>\n      <td>-1489</td>\n      <td>66653</td>\n    </tr>\n    <tr>\n      <th>entrepreneur</th>\n      <td>21</td>\n      <td>84</td>\n      <td>-1965</td>\n      <td>51439</td>\n    </tr>\n    <tr>\n      <th>housemaid</th>\n      <td>22</td>\n      <td>82</td>\n      <td>-1531</td>\n      <td>26965</td>\n    </tr>\n    <tr>\n      <th>management</th>\n      <td>21</td>\n      <td>78</td>\n      <td>-6847</td>\n      <td>36252</td>\n    </tr>\n    <tr>\n      <th>retired</th>\n      <td>34</td>\n      <td>95</td>\n      <td>-1206</td>\n      <td>81204</td>\n    </tr>\n    <tr>\n      <th>self-employed</th>\n      <td>22</td>\n      <td>76</td>\n      <td>-3058</td>\n      <td>52587</td>\n    </tr>\n    <tr>\n      <th>services</th>\n      <td>21</td>\n      <td>69</td>\n      <td>-1139</td>\n      <td>23592</td>\n    </tr>\n    <tr>\n      <th>student</th>\n      <td>18</td>\n      <td>47</td>\n      <td>0</td>\n      <td>23878</td>\n    </tr>\n    <tr>\n      <th>technician</th>\n      <td>21</td>\n      <td>71</td>\n      <td>-1944</td>\n      <td>45248</td>\n    </tr>\n    <tr>\n      <th>unemployed</th>\n      <td>21</td>\n      <td>65</td>\n      <td>-825</td>\n      <td>16397</td>\n    </tr>\n    <tr>\n      <th>unknown</th>\n      <td>26</td>\n      <td>78</td>\n      <td>0</td>\n      <td>19268</td>\n    </tr>\n  </tbody>\n</table>\n</div>"
     },
     "metadata": {},
     "execution_count": 97
    }
   ],
   "source": [
    "bank_df.groupby('job')['age', 'balance'].agg([min, max])"
   ]
  },
  {
   "cell_type": "code",
   "execution_count": 101,
   "metadata": {},
   "outputs": [
    {
     "output_type": "execute_result",
     "data": {
      "text/plain": "              age          balance\n              min max         mean\njob                               \nadmin.         20  72  1195.866567\nblue-collar    20  63  1203.926440\nentrepreneur   21  84  1621.942073\nhousemaid      22  82  1366.160584\nmanagement     21  78  1793.663679\nretired        34  95  2417.250643\nself-employed  22  76  1865.372840\nservices       21  69  1081.171181\nstudent        18  47  1500.783333\ntechnician     21  71  1556.294569\nunemployed     21  65  1314.719888\nunknown        26  78  1945.457143",
      "text/html": "<div>\n<style scoped>\n    .dataframe tbody tr th:only-of-type {\n        vertical-align: middle;\n    }\n\n    .dataframe tbody tr th {\n        vertical-align: top;\n    }\n\n    .dataframe thead tr th {\n        text-align: left;\n    }\n\n    .dataframe thead tr:last-of-type th {\n        text-align: right;\n    }\n</style>\n<table border=\"1\" class=\"dataframe\">\n  <thead>\n    <tr>\n      <th></th>\n      <th colspan=\"2\" halign=\"left\">age</th>\n      <th>balance</th>\n    </tr>\n    <tr>\n      <th></th>\n      <th>min</th>\n      <th>max</th>\n      <th>mean</th>\n    </tr>\n    <tr>\n      <th>job</th>\n      <th></th>\n      <th></th>\n      <th></th>\n    </tr>\n  </thead>\n  <tbody>\n    <tr>\n      <th>admin.</th>\n      <td>20</td>\n      <td>72</td>\n      <td>1195.866567</td>\n    </tr>\n    <tr>\n      <th>blue-collar</th>\n      <td>20</td>\n      <td>63</td>\n      <td>1203.926440</td>\n    </tr>\n    <tr>\n      <th>entrepreneur</th>\n      <td>21</td>\n      <td>84</td>\n      <td>1621.942073</td>\n    </tr>\n    <tr>\n      <th>housemaid</th>\n      <td>22</td>\n      <td>82</td>\n      <td>1366.160584</td>\n    </tr>\n    <tr>\n      <th>management</th>\n      <td>21</td>\n      <td>78</td>\n      <td>1793.663679</td>\n    </tr>\n    <tr>\n      <th>retired</th>\n      <td>34</td>\n      <td>95</td>\n      <td>2417.250643</td>\n    </tr>\n    <tr>\n      <th>self-employed</th>\n      <td>22</td>\n      <td>76</td>\n      <td>1865.372840</td>\n    </tr>\n    <tr>\n      <th>services</th>\n      <td>21</td>\n      <td>69</td>\n      <td>1081.171181</td>\n    </tr>\n    <tr>\n      <th>student</th>\n      <td>18</td>\n      <td>47</td>\n      <td>1500.783333</td>\n    </tr>\n    <tr>\n      <th>technician</th>\n      <td>21</td>\n      <td>71</td>\n      <td>1556.294569</td>\n    </tr>\n    <tr>\n      <th>unemployed</th>\n      <td>21</td>\n      <td>65</td>\n      <td>1314.719888</td>\n    </tr>\n    <tr>\n      <th>unknown</th>\n      <td>26</td>\n      <td>78</td>\n      <td>1945.457143</td>\n    </tr>\n  </tbody>\n</table>\n</div>"
     },
     "metadata": {},
     "execution_count": 101
    }
   ],
   "source": [
    "agg_format = {'age' : ['min', 'max'], 'balance' : 'mean'}\n",
    "bank_df.groupby('job').agg(agg_format)a"
   ]
  },
  {
   "cell_type": "code",
   "execution_count": 103,
   "metadata": {},
   "outputs": [
    {
     "output_type": "execute_result",
     "data": {
      "text/plain": "     age    job  marital  education  default  balance  housing   loan  \\\n0  False  False    False      False    False    False    False  False   \n1  False  False    False      False    False    False    False  False   \n2  False  False    False      False    False    False    False  False   \n\n   contact    day  month  duration  campaign  pdays  previous  poutcome  \\\n0    False  False  False     False     False  False     False     False   \n1    False  False  False     False     False  False     False     False   \n2    False  False  False     False     False  False     False     False   \n\n   deposit  \n0    False  \n1    False  \n2    False  ",
      "text/html": "<div>\n<style scoped>\n    .dataframe tbody tr th:only-of-type {\n        vertical-align: middle;\n    }\n\n    .dataframe tbody tr th {\n        vertical-align: top;\n    }\n\n    .dataframe thead th {\n        text-align: right;\n    }\n</style>\n<table border=\"1\" class=\"dataframe\">\n  <thead>\n    <tr style=\"text-align: right;\">\n      <th></th>\n      <th>age</th>\n      <th>job</th>\n      <th>marital</th>\n      <th>education</th>\n      <th>default</th>\n      <th>balance</th>\n      <th>housing</th>\n      <th>loan</th>\n      <th>contact</th>\n      <th>day</th>\n      <th>month</th>\n      <th>duration</th>\n      <th>campaign</th>\n      <th>pdays</th>\n      <th>previous</th>\n      <th>poutcome</th>\n      <th>deposit</th>\n    </tr>\n  </thead>\n  <tbody>\n    <tr>\n      <th>0</th>\n      <td>False</td>\n      <td>False</td>\n      <td>False</td>\n      <td>False</td>\n      <td>False</td>\n      <td>False</td>\n      <td>False</td>\n      <td>False</td>\n      <td>False</td>\n      <td>False</td>\n      <td>False</td>\n      <td>False</td>\n      <td>False</td>\n      <td>False</td>\n      <td>False</td>\n      <td>False</td>\n      <td>False</td>\n    </tr>\n    <tr>\n      <th>1</th>\n      <td>False</td>\n      <td>False</td>\n      <td>False</td>\n      <td>False</td>\n      <td>False</td>\n      <td>False</td>\n      <td>False</td>\n      <td>False</td>\n      <td>False</td>\n      <td>False</td>\n      <td>False</td>\n      <td>False</td>\n      <td>False</td>\n      <td>False</td>\n      <td>False</td>\n      <td>False</td>\n      <td>False</td>\n    </tr>\n    <tr>\n      <th>2</th>\n      <td>False</td>\n      <td>False</td>\n      <td>False</td>\n      <td>False</td>\n      <td>False</td>\n      <td>False</td>\n      <td>False</td>\n      <td>False</td>\n      <td>False</td>\n      <td>False</td>\n      <td>False</td>\n      <td>False</td>\n      <td>False</td>\n      <td>False</td>\n      <td>False</td>\n      <td>False</td>\n      <td>False</td>\n    </tr>\n  </tbody>\n</table>\n</div>"
     },
     "metadata": {},
     "execution_count": 103
    }
   ],
   "source": [
    "bank_df.isna().head(3)"
   ]
  },
  {
   "cell_type": "code",
   "execution_count": 104,
   "metadata": {},
   "outputs": [
    {
     "output_type": "execute_result",
     "data": {
      "text/plain": "age          0\njob          0\nmarital      0\neducation    0\ndefault      0\nbalance      0\nhousing      0\nloan         0\ncontact      0\nday          0\nmonth        0\nduration     0\ncampaign     0\npdays        0\nprevious     0\npoutcome     0\ndeposit      0\ndtype: int64"
     },
     "metadata": {},
     "execution_count": 104
    }
   ],
   "source": [
    "bank_df.isna().sum()"
   ]
  },
  {
   "cell_type": "code",
   "execution_count": 116,
   "metadata": {
    "tags": []
   },
   "outputs": [
    {
     "output_type": "stream",
     "name": "stdout",
     "text": "3의 제곱은 :  9\n"
    }
   ],
   "source": [
    "lambda_square = lambda x : x**2\n",
    "print('3의 제곱은 : ', lambda_square(3))"
   ]
  },
  {
   "cell_type": "code",
   "execution_count": 119,
   "metadata": {},
   "outputs": [
    {
     "output_type": "execute_result",
     "data": {
      "text/plain": "          job  job_len\n0      admin.        6\n1      admin.        6\n2  technician       10",
      "text/html": "<div>\n<style scoped>\n    .dataframe tbody tr th:only-of-type {\n        vertical-align: middle;\n    }\n\n    .dataframe tbody tr th {\n        vertical-align: top;\n    }\n\n    .dataframe thead th {\n        text-align: right;\n    }\n</style>\n<table border=\"1\" class=\"dataframe\">\n  <thead>\n    <tr style=\"text-align: right;\">\n      <th></th>\n      <th>job</th>\n      <th>job_len</th>\n    </tr>\n  </thead>\n  <tbody>\n    <tr>\n      <th>0</th>\n      <td>admin.</td>\n      <td>6</td>\n    </tr>\n    <tr>\n      <th>1</th>\n      <td>admin.</td>\n      <td>6</td>\n    </tr>\n    <tr>\n      <th>2</th>\n      <td>technician</td>\n      <td>10</td>\n    </tr>\n  </tbody>\n</table>\n</div>"
     },
     "metadata": {},
     "execution_count": 119
    }
   ],
   "source": [
    "bank_df['job_len'] = bank_df['job'].apply(lambda x : len(x))\n",
    "bank_df[['job', 'job_len']].head(3)"
   ]
  },
  {
   "cell_type": "code",
   "execution_count": 122,
   "metadata": {},
   "outputs": [
    {
     "output_type": "execute_result",
     "data": {
      "text/plain": "   age      age_cat\n0   59        Adult\n1   56        Adult\n2   41        Adult\n3   55        Adult\n4   54        Adult\n5   42        Adult\n6   56        Adult\n7   60      Elderly\n8   37        Adult\n9   28  Young Adult",
      "text/html": "<div>\n<style scoped>\n    .dataframe tbody tr th:only-of-type {\n        vertical-align: middle;\n    }\n\n    .dataframe tbody tr th {\n        vertical-align: top;\n    }\n\n    .dataframe thead th {\n        text-align: right;\n    }\n</style>\n<table border=\"1\" class=\"dataframe\">\n  <thead>\n    <tr style=\"text-align: right;\">\n      <th></th>\n      <th>age</th>\n      <th>age_cat</th>\n    </tr>\n  </thead>\n  <tbody>\n    <tr>\n      <th>0</th>\n      <td>59</td>\n      <td>Adult</td>\n    </tr>\n    <tr>\n      <th>1</th>\n      <td>56</td>\n      <td>Adult</td>\n    </tr>\n    <tr>\n      <th>2</th>\n      <td>41</td>\n      <td>Adult</td>\n    </tr>\n    <tr>\n      <th>3</th>\n      <td>55</td>\n      <td>Adult</td>\n    </tr>\n    <tr>\n      <th>4</th>\n      <td>54</td>\n      <td>Adult</td>\n    </tr>\n    <tr>\n      <th>5</th>\n      <td>42</td>\n      <td>Adult</td>\n    </tr>\n    <tr>\n      <th>6</th>\n      <td>56</td>\n      <td>Adult</td>\n    </tr>\n    <tr>\n      <th>7</th>\n      <td>60</td>\n      <td>Elderly</td>\n    </tr>\n    <tr>\n      <th>8</th>\n      <td>37</td>\n      <td>Adult</td>\n    </tr>\n    <tr>\n      <th>9</th>\n      <td>28</td>\n      <td>Young Adult</td>\n    </tr>\n  </tbody>\n</table>\n</div>"
     },
     "metadata": {},
     "execution_count": 122
    }
   ],
   "source": [
    "def get_category(age):\n",
    "    cat = ''\n",
    "    if age <= 19: cat = 'Teenager'\n",
    "    elif age <= 26: cat = 'Student'\n",
    "    elif age <= 35: cat = 'Young Adult'\n",
    "    elif age <= 59: cat = 'Adult'\n",
    "    else : cat = 'Elderly'\n",
    "    \n",
    "    return cat\n",
    "\n",
    "bank_df['age_cat'] = bank_df['age'].apply(lambda x : get_category(x))\n",
    "bank_df[['age', 'age_cat']].head(10)"
   ]
  },
  {
   "cell_type": "code",
   "execution_count": null,
   "metadata": {},
   "outputs": [],
   "source": []
  }
 ]
}